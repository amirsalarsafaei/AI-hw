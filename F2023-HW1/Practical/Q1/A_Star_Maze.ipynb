{
 "cells": [
  {
   "cell_type": "markdown",
   "metadata": {},
   "source": [
    "<img src='http://www-scf.usc.edu/~ghasemig/images/sharif.png' alt=\"SUT logo\" width=300 height=300 align=left class=\"saturate\" >\n",
    "\n",
    "<br>\n",
    "<font>\n",
    "<div dir=ltr align=center>\n",
    "<font color=0F5298 size=7>\n",
    "    Artificial Intelligence <br>\n",
    "<font color=2565AE size=5>\n",
    "    Computer Engineering Department <br>\n",
    "    Fall 2023<br>\n",
    "<font color=3C99D size=5>\n",
    "    Practical Assignment 1 - Search <br>\n",
    "<font color=696880 size=4>\n",
    "    Reza Soumi, Rouzbeh Pirayadi, Amir Mohammad Izadi\n",
    "\n",
    "____"
   ]
  },
  {
   "cell_type": "markdown",
   "metadata": {},
   "source": [
    "# Personal Data"
   ]
  },
  {
   "cell_type": "code",
   "execution_count": 23,
   "metadata": {
    "ExecuteTime": {
     "end_time": "2023-10-20T11:21:26.116203700Z",
     "start_time": "2023-10-20T11:21:26.045947390Z"
    }
   },
   "outputs": [],
   "source": [
    "# Set your student number\n",
    "student_number = '99100177'\n",
    "Name = 'Amirsalar'\n",
    "Last_Name = 'Safaei Ghaderi'"
   ]
  },
  {
   "cell_type": "markdown",
   "metadata": {},
   "source": [
    "# Rules\n",
    "- Make sure that all of your cells can be run perfectly. "
   ]
  },
  {
   "cell_type": "markdown",
   "metadata": {
    "id": "Wu2gddB9nNQS"
   },
   "source": [
    "## Libraries"
   ]
  },
  {
   "cell_type": "code",
   "execution_count": 24,
   "metadata": {
    "id": "kehf-a-anNQT",
    "ExecuteTime": {
     "end_time": "2023-10-20T11:21:26.131226892Z",
     "start_time": "2023-10-20T11:21:26.094654758Z"
    }
   },
   "outputs": [],
   "source": [
    "import pygame, time, csv\n",
    "import numpy as np\n",
    "from time import sleep\n",
    "import heapq\n",
    "from IPython.display import HTML\n",
    "# my requirements\n",
    "from math import sqrt\n",
    "from typing import Tuple, Literal, Set"
   ]
  },
  {
   "cell_type": "markdown",
   "metadata": {
    "id": "T5e96dYinNQU"
   },
   "source": [
    "# Uninformed & Informed Search (100 Points)"
   ]
  },
  {
   "cell_type": "markdown",
   "metadata": {
    "id": "JW24WwoXnNQU"
   },
   "source": [
    "<font size=4>\n",
    "Author: Reza Soumi\n",
    "\t\t\t<br/>\n",
    "                <font color=red>\n",
    "Please run all the cells.\n",
    "     </font>\n",
    "</font>\n",
    "                <br/>\n",
    "    </div>"
   ]
  },
  {
   "cell_type": "markdown",
   "metadata": {},
   "source": [
    "## Problem Definition"
   ]
  },
  {
   "cell_type": "markdown",
   "metadata": {
    "id": "taUY19uXnfCd"
   },
   "source": [
    "In This Problem, We want to investigate Maze Problem with the focus on implementing IDS and A-Star algorithm to solve it. \n",
    "\n",
    "The concept of the **Digital Twin** was first introduced in 1960 during NASA's Apollo project. In this project, many simulation engines was created in the ground where sensory data from the spacecraft was sent to simulation devices. The model would then update itself with this data and send response or action commands back to the spacecraft using advanced telecommunication protocols. This concept has recently gained popularity.\n",
    "\n",
    "If you are interested in learning more about digital twin in the Apollo NASA project, you can read this [link](https://blogs.sw.siemens.com/simcenter/apollo-13-the-first-digital-twin/) which explains how these systems helped astronauts return home safely. Additionally, there is a [TEDx](https://www.ted.com/talks/karen_willcox_how_digital_twins_could_help_us_predict_the_future?language=en) talk dedicated to this concept that you may find interesting."
   ]
  },
  {
   "cell_type": "markdown",
   "metadata": {
    "id": "VCHWcZOhn8_z"
   },
   "source": [
    "Now, let's consider a scenario where we have launched a simple spacecraft into space without any IoT devices. Unfortunately, our robot has become stuck in a maze. The starting position is at the top left corner and the destination is at the bottom right corner, as shown in the picture below."
   ]
  },
  {
   "cell_type": "markdown",
   "metadata": {},
   "source": [
    "<!-- ![Sample Image](Pics/map.PNG) -->\n",
    "<div style=\"text-align:center\">\n",
    "  <img src=\"Pics/map.PNG\" alt=\"alt text\" style=\"width:50%;\"/>\n",
    "</div>"
   ]
  },
  {
   "cell_type": "markdown",
   "metadata": {
    "id": "4d9C3ZzJovsK"
   },
   "source": [
    "To solve this problem, we need to implement an intelligent digital twin for the spacecraft. This digital twin will gather information from the spacecraft and determine which action to take - up, left, down, or right. However, we cannot explore the entire map at once and can only take one step forward at a time."
   ]
  },
  {
   "cell_type": "markdown",
   "metadata": {
    "id": "sr7-GT5tnNQW"
   },
   "source": [
    "## Code"
   ]
  },
  {
   "cell_type": "markdown",
   "metadata": {
    "id": "4GU_Byyuo0ml"
   },
   "source": [
    "You can use the following data structures, and feel free to use any other data structures as needed, but these should suffice."
   ]
  },
  {
   "cell_type": "code",
   "execution_count": 25,
   "metadata": {
    "id": "o0EfPKyIIHpW",
    "ExecuteTime": {
     "end_time": "2023-10-20T11:21:26.144317128Z",
     "start_time": "2023-10-20T11:21:26.100762124Z"
    }
   },
   "outputs": [],
   "source": [
    "###########################################\n",
    "###### no need to change any thing ########\n",
    "###########################################\n",
    "\n",
    "class Node:\n",
    "    def __init__(self, pos, parent, cost=None):\n",
    "        self.x = pos[0]\n",
    "        self.y = pos[1]\n",
    "        self.parent = parent\n",
    "        self.cost = cost\n",
    "\n",
    "    def position(self):\n",
    "        return (self.x, self.y)\n",
    "\n",
    "class Queue:\n",
    "    def __init__(self):\n",
    "        self.list = []\n",
    "\n",
    "    def push(self,item):\n",
    "        self.list.insert(0,item)\n",
    "\n",
    "    def pop(self):\n",
    "        return self.list.pop()\n",
    "\n",
    "    def isEmpty(self):\n",
    "        return len(self.list) == 0\n",
    "\n",
    "class PriorityQueue:\n",
    "    \"\"\" O(1) access to the lowest-priority item \"\"\"\n",
    "    def  __init__(self):\n",
    "        self.heap = []\n",
    "        self.count = 0\n",
    "\n",
    "    def push(self, item, priority):\n",
    "        entry = (priority, self.count, item)\n",
    "        heapq.heappush(self.heap, entry)\n",
    "        self.count += 1\n",
    "\n",
    "    def pop(self):\n",
    "        (_, _, item) = heapq.heappop(self.heap)\n",
    "        return item\n",
    "\n",
    "    def isEmpty(self):\n",
    "        return len(self.heap) == 0\n",
    "\n",
    "    def update(self, item, priority):\n",
    "        # If item already in priority queue with higher priority, update its priority and rebuild the heap.\n",
    "        for index, (p, c, i) in enumerate(self.heap):\n",
    "            if i == item:\n",
    "                if p <= priority:\n",
    "                    break\n",
    "                del self.heap[index]\n",
    "                self.heap.append((priority, c, item))\n",
    "                heapq.heapify(self.heap)\n",
    "                break\n",
    "        else:\n",
    "            self.push(item, priority)\n",
    "\n",
    "class Stack:\n",
    "    def __init__(self):\n",
    "        self.list = []\n",
    "\n",
    "    def push(self,item):\n",
    "        self.list.append(item)\n",
    "\n",
    "    def pop(self):\n",
    "        return self.list.pop()\n",
    "\n",
    "    def isEmpty(self):\n",
    "        return len(self.list) == 0"
   ]
  },
  {
   "cell_type": "code",
   "execution_count": 26,
   "outputs": [],
   "source": [
    "# I added this for convenience, and so I don't have to repeat myself.\n",
    "# These are basic requirements for a greed search\n",
    "class GridSearch:\n",
    "    _dx = (0, 1, -1, 0)\n",
    "    _dy = (1, 0, 0, -1)\n",
    "\n",
    "    def __init__(self, start_pos, goal_pos, grid_dim):\n",
    "        self.start_pos = start_pos\n",
    "        self.goal_pos = goal_pos\n",
    "        self.grid_dim = grid_dim\n",
    "\n",
    "    def get_successors(self, x, y):\n",
    "        return [(x + self._dx[i], y + self._dy[i]) for i in range(4)]\n",
    "\n",
    "    def is_valid_cell(self, pos):\n",
    "        return 0 <= pos[0] <= self.grid_dim[0] and 0 <= pos[1] <= self.grid_dim[1]\n",
    "\n",
    "    def backtrack_solution(self, curr_node):\n",
    "        return self._backtrack(curr_node)\n",
    "\n",
    "    def _backtrack(self, curr_node):\n",
    "        return [] if curr_node.parent is None else self._backtrack(curr_node.parent) + [curr_node.position()]"
   ],
   "metadata": {
    "collapsed": false,
    "ExecuteTime": {
     "end_time": "2023-10-20T11:21:26.144468129Z",
     "start_time": "2023-10-20T11:21:26.143853053Z"
    }
   }
  },
  {
   "cell_type": "markdown",
   "source": [
    "The code below takes a CSV file's path as the map address. In this CSV file, a value of 1 represents a passable block where the robot can navigate, while a value of 0 represents an impassable wall where the robot cannot go. There's no need to be concerned about Digital Twins at this point; we will implement them later."
   ],
   "metadata": {
    "collapsed": false
   }
  },
  {
   "cell_type": "code",
   "execution_count": 27,
   "outputs": [],
   "source": [
    "###########################################\n",
    "###### no need to change any thing ########\n",
    "###########################################\n",
    "\n",
    "def solve_maze(map_address, algorithm):\n",
    "    grid = np.genfromtxt(map_address, delimiter=',', dtype=np.int32)\n",
    "    num_rows, num_columns = len(grid), len(grid[0])\n",
    "    empty_block_count = np.count_nonzero(grid == 1)\n",
    "\n",
    "    # Define start & goal positions\n",
    "    start_pos = (0,0)\n",
    "    goal_pos = (num_rows-1, num_columns-1)\n",
    "\n",
    "    grid[0, 0] = 2\n",
    "    grid[-1, -1] = 3\n",
    "\n",
    "    grid_dim = (num_rows-1, num_columns-1)\n",
    "\n",
    "    black, white, green, red, grey, blue, magenta = (0,0,0), (255, 255, 255), (50,205,50), (255,99,71), (211,211,211), (153,255,255), (255,0,255)\n",
    "    idx_to_color = [black, white, green, red, blue, magenta]\n",
    "\n",
    "    height = 15\n",
    "    width = height\n",
    "    margin = 1\n",
    "\n",
    "    pygame.init()\n",
    "\n",
    "    WINDOW_SIZE = [660, 660]\n",
    "    screen = pygame.display.set_mode(WINDOW_SIZE)\n",
    "\n",
    "    pygame.display.set_caption(f\"{algorithm} Pathfinder. Solving: {map_address}\")\n",
    "\n",
    "    done = False\n",
    "    run = False\n",
    "    close = False\n",
    "\n",
    "    clock = pygame.time.Clock()\n",
    "\n",
    "    digital_twin = None\n",
    "\n",
    "    if algorithm == \"BFS\":\n",
    "        digital_twin = BFS_Digital_Twin(start_pos=start_pos, goal_pos=goal_pos, grid_dim=grid_dim)\n",
    "    elif algorithm == \"DFS\":\n",
    "        digital_twin = DFS_Digital_Twin(start_pos=start_pos, goal_pos=goal_pos, grid_dim=grid_dim)\n",
    "    elif algorithm == \"O_DFS\":\n",
    "        digital_twin = Optimized_DFS_Digital_Twin(start_pos=start_pos, goal_pos=goal_pos, grid_dim=grid_dim)\n",
    "    elif algorithm == \"IDS\":\n",
    "        digital_twin = IDS_Digital_Twin(start_pos=start_pos, goal_pos=goal_pos, grid_dim=grid_dim)\n",
    "    elif algorithm == \"A_Star\":\n",
    "        digital_twin = A_Star_Digital_Twin(start_pos=start_pos, goal_pos=goal_pos, grid_dim=grid_dim)\n",
    "    else:\n",
    "        return None\n",
    "    while not done:\n",
    "        for event in pygame.event.get():\n",
    "            if event.type == pygame.QUIT:\n",
    "                done = True\n",
    "\n",
    "            elif event.type == pygame.KEYDOWN:\n",
    "                run = True\n",
    "                start_t0 = time.time()\n",
    "\n",
    "        screen.fill(grey)\n",
    "\n",
    "        for row in range(num_rows):\n",
    "            for column in range(num_columns):\n",
    "                color = idx_to_color[grid[row, column]]\n",
    "                pygame.draw.rect(screen, color, [(margin + width) * column + margin, (margin + height) * row + margin, width, height])\n",
    "\n",
    "        clock.tick(60)\n",
    "        pygame.display.flip()\n",
    "\n",
    "        if run == True:\n",
    "            sleep(0.01)\n",
    "            solution, done, grid = digital_twin.update(grid=grid)\n",
    "\n",
    "        if done == True:\n",
    "            print(f\"Total empty block numbers: {empty_block_count}\")\n",
    "            print(f\"Explored block numbers: {np.count_nonzero(grid == 4)}\")\n",
    "            for pos in solution:\n",
    "                grid[pos[0], pos[1]] = 5\n",
    "\n",
    "            screen.fill(grey)\n",
    "\n",
    "            for row in range(num_rows):\n",
    "                for column in range(num_columns):\n",
    "                    color = idx_to_color[grid[row, column]]\n",
    "                    pygame.draw.rect(screen, color, [(margin + width) * column + margin, (margin + height) * row + margin, width, height])\n",
    "\n",
    "            clock.tick(60)\n",
    "            pygame.display.flip()\n",
    "\n",
    "    print(f\"Your maze solved with {algorithm} algorithm.\")\n",
    "    print(f\"--- finished {time.time()-start_t0:.3f} s---\")\n",
    "    while not close:\n",
    "        for event in pygame.event.get():\n",
    "            if event.type == pygame.QUIT:\n",
    "                close = True\n",
    "\n",
    "            elif event.type == pygame.KEYDOWN:\n",
    "                close = True\n",
    "    pygame.quit()"
   ],
   "metadata": {
    "collapsed": false,
    "ExecuteTime": {
     "end_time": "2023-10-20T11:21:26.144521779Z",
     "start_time": "2023-10-20T11:21:26.143987141Z"
    }
   }
  },
  {
   "cell_type": "markdown",
   "source": [
    "Below is an implementation of our digital twin using the Depth-First Search (DFS) algorithm. Take a moment to explore how it functions."
   ],
   "metadata": {
    "collapsed": false
   }
  },
  {
   "cell_type": "code",
   "execution_count": 4,
   "outputs": [],
   "source": [
    "###########################################\n",
    "###### no need to change any thing ########\n",
    "###########################################\n",
    "\n",
    "class DFS_Digital_Twin:\n",
    "    def __init__(self, start_pos, goal_pos, grid_dim):\n",
    "        self.start_pos = start_pos\n",
    "        self.goal_pos = goal_pos\n",
    "        self.grid_dim = grid_dim\n",
    "        self.stack = Stack()\n",
    "        self.stack.push(Node(pos=start_pos, parent=None))\n",
    "\n",
    "    def get_successors(self, x, y):\n",
    "        return [(x+1, y), (x-1, y), (x, y+1), (x, y-1)]\n",
    "\n",
    "    def is_valid_cell(self, pos):\n",
    "        return 0 <= pos[0] <= self.grid_dim[0] and 0 <= pos[1] <= self.grid_dim[1]\n",
    "\n",
    "    def backtrack_solution(self, curr_node):\n",
    "        return self._backtrack(curr_node)\n",
    "\n",
    "    def _backtrack(self, curr_node):\n",
    "        return [] if curr_node.parent is None else self._backtrack(curr_node.parent) + [curr_node.position()]\n",
    "\n",
    "    def update(self, grid):\n",
    "        curr_state = self.stack.pop()\n",
    "        x, y = curr_state.position()\n",
    "        done = False\n",
    "        solution_path = []\n",
    "\n",
    "        for step in self.get_successors(x, y):\n",
    "            if self.is_valid_cell(step) and grid[step[0], step[1]] in [1, 3]: # 1: empty cell has not explored yet, 3: goal cell\n",
    "                self.stack.push(Node(pos=step, parent=curr_state))\n",
    "\n",
    "                if step == self.goal_pos:\n",
    "                    done = True\n",
    "                    solution_path = self.backtrack_solution(curr_state)\n",
    "                    break\n",
    "\n",
    "            grid[x, y] = 4 # visited\n",
    "\n",
    "        return solution_path, done, grid"
   ],
   "metadata": {
    "collapsed": false,
    "ExecuteTime": {
     "end_time": "2023-10-20T10:42:08.374816368Z",
     "start_time": "2023-10-20T10:42:08.366226350Z"
    }
   }
  },
  {
   "cell_type": "markdown",
   "source": [
    "You can run the code below to see how our exploration works (it is recommended to run it on your local machine instead of Colab)."
   ],
   "metadata": {
    "collapsed": false
   }
  },
  {
   "cell_type": "code",
   "execution_count": 6,
   "outputs": [
    {
     "name": "stdout",
     "output_type": "stream",
     "text": [
      "Total empty block numbers: 881\n",
      "Explored block numbers: 868\n",
      "Your maze solved with DFS algorithm.\n",
      "--- finished 12.847 s---\n"
     ]
    }
   ],
   "source": [
    "solve_maze(map_address=\"mazes/maze_0.csv\", algorithm=\"DFS\")"
   ],
   "metadata": {
    "collapsed": false,
    "ExecuteTime": {
     "end_time": "2023-10-20T09:57:58.207856284Z",
     "start_time": "2023-10-20T09:57:41.523392896Z"
    }
   }
  },
  {
   "cell_type": "code",
   "execution_count": 21,
   "outputs": [],
   "source": [
    "class Optimized_DFS_Digital_Twin:\n",
    "    def __init__(self, start_pos, goal_pos, grid_dim):\n",
    "        self.start_pos = start_pos\n",
    "        self.goal_pos = goal_pos\n",
    "        self.grid_dim = grid_dim\n",
    "        self.stack = Stack()\n",
    "        self.stack.push(Node(pos=start_pos, parent=None))\n",
    "\n",
    "    def get_successors(self, x, y):\n",
    "        return [(x-1, y), (x, y-1), (x+1, y), (x, y+1)]\n",
    "\n",
    "    def is_valid_cell(self, pos):\n",
    "        return 0 <= pos[0] <= self.grid_dim[0] and 0 <= pos[1] <= self.grid_dim[1]\n",
    "\n",
    "    def backtrack_solution(self, curr_node):\n",
    "        return self._backtrack(curr_node)\n",
    "\n",
    "    def _backtrack(self, curr_node):\n",
    "        return [] if curr_node.parent is None else self._backtrack(curr_node.parent) + [curr_node.position()]\n",
    "\n",
    "    def update(self, grid):\n",
    "        curr_state = self.stack.pop()\n",
    "        x, y = curr_state.position()\n",
    "        done = False\n",
    "        solution_path = []\n",
    "\n",
    "        for step in self.get_successors(x, y):\n",
    "            if self.is_valid_cell(step) and grid[step[0], step[1]] in [1, 3]: # 1: empty cell has not explored yet, 3: goal cell\n",
    "                self.stack.push(Node(pos=step, parent=curr_state))\n",
    "\n",
    "                if step == self.goal_pos:\n",
    "                    done = True\n",
    "                    solution_path = self.backtrack_solution(curr_state)\n",
    "                    break\n",
    "\n",
    "            grid[x, y] = 4 # visited\n",
    "\n",
    "        return solution_path, done, grid"
   ],
   "metadata": {
    "collapsed": false,
    "ExecuteTime": {
     "end_time": "2023-10-20T11:16:10.960798785Z",
     "start_time": "2023-10-20T11:16:10.956881551Z"
    }
   }
  },
  {
   "cell_type": "code",
   "execution_count": 22,
   "outputs": [
    {
     "name": "stdout",
     "output_type": "stream",
     "text": [
      "Total empty block numbers: 881\n",
      "Explored block numbers: 304\n",
      "Your maze solved with O_DFS algorithm.\n",
      "--- finished 4.954 s---\n"
     ]
    }
   ],
   "source": [
    "solve_maze(map_address=\"mazes/maze_0.csv\", algorithm=\"O_DFS\")"
   ],
   "metadata": {
    "collapsed": false,
    "ExecuteTime": {
     "end_time": "2023-10-20T11:16:38.185684719Z",
     "start_time": "2023-10-20T11:16:11.451295483Z"
    }
   }
  },
  {
   "cell_type": "markdown",
   "source": [
    "After running the code above and entering it on the screen, you should see the result, which resembles the GIF below."
   ],
   "metadata": {
    "collapsed": false
   }
  },
  {
   "cell_type": "code",
   "execution_count": 7,
   "outputs": [
    {
     "data": {
      "text/plain": "<IPython.core.display.HTML object>",
      "text/html": "<div style=\"display: flex; justify-content: center;\"> <img src=\"Pics/Animation.gif\" alt=\"Your GIF\" style=\"width: 40%;\"/></div>"
     },
     "execution_count": 7,
     "metadata": {},
     "output_type": "execute_result"
    }
   ],
   "source": [
    "gif_path = 'Pics/Animation.gif'\n",
    "html_code = f'<div style=\"display: flex; justify-content: center;\"> <img src=\"{gif_path}\" alt=\"Your GIF\" style=\"width: 40%;\"/></div>'\n",
    "HTML(html_code)"
   ],
   "metadata": {
    "collapsed": false,
    "ExecuteTime": {
     "end_time": "2023-10-20T09:57:59.924970804Z",
     "start_time": "2023-10-20T09:57:59.911978351Z"
    }
   }
  },
  {
   "cell_type": "markdown",
   "source": [
    "As you can see, all of the blocks have been explored using DFS algorithm. So, we need a better algorithm for this maze problem. You can think and devise a solution for this problem at this stage before proceeding.\n",
    "\n",
    "Let's investigate other uninformed search methods. Your task now is to implement Breadth-First Search (BFS) algorithm to solve this maze problem. (Hint: You can simply just change the data structures used in the code provided above to convert DFS to BFS)"
   ],
   "metadata": {
    "collapsed": false
   }
  },
  {
   "cell_type": "code",
   "execution_count": 11,
   "metadata": {
    "id": "JWLMa4_L4Hh5",
    "ExecuteTime": {
     "end_time": "2023-10-20T09:53:41.515000802Z",
     "start_time": "2023-10-20T09:53:41.490401210Z"
    }
   },
   "outputs": [],
   "source": [
    "########################################################\n",
    "######### implement BFS algorithm (10 Points) ##########\n",
    "########################################################\n",
    "\n",
    "class BFS_Digital_Twin(GridSearch):\n",
    "\n",
    "\n",
    "    def __init__(self, start_pos, goal_pos, grid_dim):\n",
    "        super().__init__(start_pos, goal_pos, grid_dim)\n",
    "        self.queue = Queue()\n",
    "        self.queue.push(Node(pos=start_pos, parent=None))\n",
    "\n",
    "    def update(self, grid):\n",
    "        \"\"\"\n",
    "        Input: grid (2D array)\n",
    "        Output:\n",
    "            solution_path (List of tuples, empty if no solution found)\n",
    "            done (Boolean, True if the goal is reached, False otherwise)\n",
    "            grid (Updated 2D array)\n",
    "        \"\"\"\n",
    "        done = False\n",
    "        solution_path = []\n",
    "        curr_state = self.queue.pop()\n",
    "        x, y = curr_state.position()\n",
    "        for step in self.get_successors(x, y):\n",
    "            if self.is_valid_cell(step) and grid[step[0], step[1]] in [1, 3]:\n",
    "                self.queue.push(Node(pos=step, parent=curr_state))\n",
    "                if step == self.goal_pos:\n",
    "                  done = True\n",
    "                  solution_path = self.backtrack_solution(curr_state)\n",
    "                  break\n",
    "        grid[x, y] = 4\n",
    "        return solution_path, done, grid"
   ]
  },
  {
   "cell_type": "markdown",
   "metadata": {},
   "source": [
    "You can run the code below to see how BFS algorithm works for solving this maze problem."
   ]
  },
  {
   "cell_type": "code",
   "execution_count": 12,
   "metadata": {
    "id": "_3pHSgOowQdC",
    "ExecuteTime": {
     "end_time": "2023-10-20T09:53:59.244254732Z",
     "start_time": "2023-10-20T09:53:43.001603077Z"
    }
   },
   "outputs": [
    {
     "name": "stdout",
     "output_type": "stream",
     "text": [
      "Total empty block numbers: 881\n",
      "Explored block numbers: 358\n",
      "Your maze solved with BFS algorithm.\n",
      "--- finished 5.818 s---\n"
     ]
    }
   ],
   "source": [
    "solve_maze(map_address=\"mazes/maze_0.csv\", algorithm=\"BFS\")"
   ]
  },
  {
   "cell_type": "markdown",
   "metadata": {},
   "source": [
    "It seems that BFS algorithm provides a good solution for our maze problem. Now, let's try implementing the Iterative Deepening Search (IDS) algorithm in the code below. The depth must increase incrementally (one per request to the digital twin) according to the game policy."
   ]
  },
  {
   "cell_type": "code",
   "execution_count": 30,
   "metadata": {
    "ExecuteTime": {
     "end_time": "2023-10-20T11:21:58.749189895Z",
     "start_time": "2023-10-20T11:21:58.746123411Z"
    }
   },
   "outputs": [],
   "source": [
    "########################################################\n",
    "######### implement IDS algorithm (15 Points) ##########\n",
    "########################################################\n",
    "\n",
    "class IDS_Digital_Twin(GridSearch):\n",
    "    def __init__(self, start_pos, goal_pos, grid_dim):\n",
    "        super().__init__(start_pos, goal_pos, grid_dim)\n",
    "        self.max_depth = 0\n",
    "        self.stack = Stack()\n",
    "        self.stack.push((0, Node(pos=self.start_pos, parent=None)))\n",
    "\n",
    "    def update(self, grid):\n",
    "        next_stack = Stack()\n",
    "        done = False\n",
    "        solution_path = []\n",
    "        while not self.stack.isEmpty() and not done:\n",
    "            depth, cur_node = self.stack.pop()\n",
    "            x, y = cur_node.position()\n",
    "            grid[x, y] = 4\n",
    "            if depth == self.max_depth:\n",
    "                next_stack.push((depth, cur_node))\n",
    "                continue\n",
    "            for next_node_pos in self.get_successors(x,y):\n",
    "                if self.is_valid_cell(next_node_pos) and grid[next_node_pos[0], next_node_pos[1]] in (1, 3):\n",
    "                    self.stack.push((depth + 1, Node(pos=next_node_pos, parent=cur_node)))\n",
    "\n",
    "                    if next_node_pos == self.goal_pos:\n",
    "                        done = True\n",
    "                        solution_path = self.backtrack_solution(cur_node)\n",
    "                        break\n",
    "\n",
    "        self.max_depth += 1\n",
    "        self.stack = next_stack\n",
    "\n",
    "        return solution_path, done, grid\n"
   ]
  },
  {
   "cell_type": "code",
   "execution_count": 31,
   "metadata": {
    "colab": {
     "base_uri": "https://localhost:8080/",
     "height": 298
    },
    "id": "RLNhKM9Hwwzf",
    "outputId": "fb24181f-1ed5-4769-9eea-04b7dba55285",
    "ExecuteTime": {
     "end_time": "2023-10-20T11:22:12.698044967Z",
     "start_time": "2023-10-20T11:21:59.351298240Z"
    }
   },
   "outputs": [
    {
     "name": "stdout",
     "output_type": "stream",
     "text": [
      "Total empty block numbers: 881\n",
      "Explored block numbers: 360\n",
      "Your maze solved with IDS algorithm.\n",
      "--- finished 4.749 s---\n"
     ]
    }
   ],
   "source": [
    "solve_maze(map_address=\"mazes/maze_0.csv\", algorithm=\"IDS\")"
   ]
  },
  {
   "cell_type": "markdown",
   "metadata": {},
   "source": [
    "Question: \n",
    "\n",
    "So far, we have explored three uninformed search methods: DFS, BFS, and IDS. Briefly explain the advantages and disadvantages of each method in the context of the Maze Problem and compare their performance based on your observations (consider both time and memory). Suppose there is two destination points, address specific points based on this scenario."
   ]
  },
  {
   "cell_type": "markdown",
   "metadata": {},
   "source": [
    "Your Answer: (10 Points)\n",
    "Time Complexity:\n",
    "BFS has an advantage is mazes that have a lot of dead ends specially with longer distance than the goal itself it can solve the maze visiting only state with distance of at most d(d is the distance from start to goal) but we can design a maze in which dfs and bfs algorithm perform the same. IDS can have a lower time complexity than dfs in cases which there are a lot of distant dead ends, but it is always more time-consuming than BFS because for each distance it restarts. IDS time complexity is O(z*d^2) = O(z + 2z + ... + dz) and BFS time complexity is O(dz)(z is branching factor and d is distance from start to goal)\n",
    "Memory Complexity:\n",
    "BFS and DFS(graph dfs) both need O(n^2) memory to hold which state has been seen, we can't eliminate this in bfs but we can use tree dfs that might have a larger time complexity and fail when there is no goal but it solves the problem in O(max distance)\n",
    "but IDS can always solve memory in O(d * z) d is distance from start to goal and z is branching factor. but as d and z increase d * z converges to n^2\n",
    "\n",
    "2 destination points scenario:\n",
    "if we have to reach both of them d in the complexity formulas becomes max(distance(start, first-destination), distance(start, second-destination)) and if reaching one of them suffices, then d in the complexity formulas becomes min(distance(start, first-destination), distance(start, second-destination)).\n",
    "\n"
   ]
  },
  {
   "cell_type": "markdown",
   "metadata": {},
   "source": [
    "Question:\n",
    "\n",
    "Provide a simple solution to improve the DFS algorithm's performance in terms of explored block numbers, Based on the game information."
   ]
  },
  {
   "cell_type": "markdown",
   "metadata": {},
   "source": [
    "Your Answer: (5 Points)\n",
    "when visiting a cell neighbours, first visit (x+1, y) and (x, y+1) (in the scenario that the goal in the bottom right of the grid. In general case visit the neighbours that are in the goals direction we can figure this out in O(1) using simple if cases. this can cause dfs to not explore some unnecessary blocks in wide areas that are connected, in narow spaces with lots of dead ends this wont help us much. you can see the resualt in O_DFS code(optimal dfs)."
   ]
  },
  {
   "cell_type": "markdown",
   "metadata": {},
   "source": [
    "Now, let's turn our attention to a second maze map, 'maze_1.csv'. solve this maze using the BFS algorithm."
   ]
  },
  {
   "cell_type": "code",
   "execution_count": 16,
   "metadata": {
    "id": "RUAboo1mxNaj"
   },
   "outputs": [
    {
     "name": "stdout",
     "output_type": "stream",
     "text": [
      "Total empty block numbers: 881\n",
      "Explored block numbers: 799\n",
      "Your maze solved with BFS algorithm.\n",
      "--- finished 13.323 s---\n"
     ]
    }
   ],
   "source": [
    "solve_maze(map_address=\"mazes/maze_1.csv\", algorithm=\"BFS\")"
   ]
  },
  {
   "cell_type": "markdown",
   "metadata": {},
   "source": [
    "As you can see, BFS may not always perform optimally, as it can end up exploring a majority of the blocks. Let's proceed by implementing the A-Star algorithm in the next cell."
   ]
  },
  {
   "cell_type": "code",
   "execution_count": 28,
   "metadata": {
    "id": "V5yzYM1exNzp",
    "ExecuteTime": {
     "end_time": "2023-10-20T11:21:29.711259370Z",
     "start_time": "2023-10-20T11:21:29.708011201Z"
    }
   },
   "outputs": [],
   "source": [
    "########################################################\n",
    "######### implement A* algorithm (50 Points) ###########\n",
    "########################################################\n",
    "class A_Star_Digital_Twin(GridSearch):\n",
    "    def __init__(self, start_pos, goal_pos, grid_dim, heuristic_mode: Literal[\"manhattan\", \"euclidean\"] = \"manhattan\"):\n",
    "        super().__init__(start_pos, goal_pos, grid_dim)\n",
    "\n",
    "        self.heuristic_mode= heuristic_mode\n",
    "        self.pqueue = PriorityQueue()\n",
    "        self.seen: Set[Tuple[int, int]] = set()\n",
    "\n",
    "        self._push_to_pqueue(Node(pos=start_pos, parent=None), 0)\n",
    "\n",
    "    def _heuristic(self, pos):\n",
    "        if self.heuristic_mode == \"manhattan\":\n",
    "            return abs(pos[0] - self.goal_pos[0]) + abs(pos[1] - self.goal_pos[1])\n",
    "        if self.heuristic_mode == \"euclidean\":\n",
    "            return sqrt(pow(pos[0] - self.goal_pos[0],2) + pow(pos[1] - self.goal_pos[1],2))\n",
    "\n",
    "    def _push_to_pqueue(self, node: Node, cost_g: int):\n",
    "        cost_h = self._heuristic(node.position())\n",
    "        self.pqueue.update((cost_g, cost_h, node), cost_h + cost_g)\n",
    "\n",
    "    def update(self, grid):\n",
    "        done = False\n",
    "        solution_path = []\n",
    "\n",
    "        cost_g, cost_h, cur_node = self.pqueue.pop()\n",
    "        x, y = cur_node.position()\n",
    "        grid[x, y] = 4\n",
    "        self.seen.add(cur_node.position())\n",
    "\n",
    "        for next_node_pos in self.get_successors(x,y):\n",
    "            if next_node_pos in self.seen or not (self.is_valid_cell(next_node_pos) and grid[next_node_pos[0], next_node_pos[1]] in [1, 3]):\n",
    "                continue\n",
    "            self._push_to_pqueue(node=Node(pos=next_node_pos, parent=cur_node), cost_g=cost_g+1)\n",
    "            if next_node_pos == self.goal_pos:\n",
    "                done = True\n",
    "                solution_path = self.backtrack_solution(cur_node)\n",
    "                break\n",
    "\n",
    "        return solution_path, done, grid"
   ]
  },
  {
   "cell_type": "markdown",
   "metadata": {},
   "source": [
    "Now solve the 'maze_1.csv' with your A-star algorithm."
   ]
  },
  {
   "cell_type": "code",
   "execution_count": 29,
   "metadata": {
    "ExecuteTime": {
     "end_time": "2023-10-20T11:21:46.177193235Z",
     "start_time": "2023-10-20T11:21:30.804940304Z"
    }
   },
   "outputs": [
    {
     "name": "stdout",
     "output_type": "stream",
     "text": [
      "Total empty block numbers: 881\n",
      "Explored block numbers: 612\n",
      "Your maze solved with A_Star algorithm.\n",
      "--- finished 9.914 s---\n"
     ]
    }
   ],
   "source": [
    "solve_maze(map_address=\"mazes/maze_1.csv\", algorithm=\"A_Star\")"
   ]
  },
  {
   "cell_type": "markdown",
   "metadata": {},
   "source": [
    "Question:\n",
    "\n",
    "Explain your heuristic and observation's result. Also, compare the A* method with Uniformed search in the context of the Maze problem."
   ]
  },
  {
   "cell_type": "markdown",
   "metadata": {},
   "source": [
    "Answer: \n",
    "I used manhattan distance for the heuristic function(The manhattan distance from goal).Because we move to non-diagonal neighbours (4 neighbours) the monotonicity of H(n) is trivial because we move like manhattan and every move we make if its in the direction of goal the manhattan distance lowers by one and if its not it grows by 1. we know that cost of every move is considered to be so h(n) <= h(n+1) + cost holds and because H(goal) = 0 we showed in practical questions that if a heuristic function is consistent and H(goal) = 0 we can show that its admissible as well.\n",
    "\n",
    "using uniformed search explores more dead ends and unnecessary blocks because it can reach them with less cost but this lower cost aggregated together can make algorithm pay more cost in total which is less than ideal A* tries to fix this by trying to guess the cost left from next state to goal and doesn't search state which don't need a large cost to get to them but may need large cost reaching the goal."
   ]
  },
  {
   "cell_type": "code",
   "execution_count": null,
   "outputs": [],
   "source": [],
   "metadata": {
    "collapsed": false
   }
  }
 ],
 "metadata": {
  "colab": {
   "provenance": []
  },
  "kernelspec": {
   "display_name": "Python 3 (ipykernel)",
   "language": "python",
   "name": "python3"
  },
  "language_info": {
   "codemirror_mode": {
    "name": "ipython",
    "version": 3
   },
   "file_extension": ".py",
   "mimetype": "text/x-python",
   "name": "python",
   "nbconvert_exporter": "python",
   "pygments_lexer": "ipython3",
   "version": "3.11.4"
  },
  "vscode": {
   "interpreter": {
    "hash": "aee8b7b246df8f9039afb4144a1f6fd8d2ca17a180786b69acc140d282b71a49"
   }
  }
 },
 "nbformat": 4,
 "nbformat_minor": 0
}
