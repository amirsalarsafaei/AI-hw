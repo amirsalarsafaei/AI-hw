{
 "cells": [
  {
   "cell_type": "markdown",
   "metadata": {},
   "source": [
    "<img src='http://www-scf.usc.edu/~ghasemig/images/sharif.png' alt=\"SUT logo\" width=300 height=300 align=left class=\"saturate\" >\n",
    "\n",
    "<br>\n",
    "<font>\n",
    "<div dir=ltr align=center>\n",
    "<font color=0F5298 size=7>\n",
    "    Artificial Intelligence <br>\n",
    "<font color=2565AE size=5>\n",
    "    Computer Engineering Department <br>\n",
    "    Fall 2023<br>\n",
    "<font color=3C99D size=5>\n",
    "    Practical Assignment 1 - Simulated Annealing <br>\n",
    "<font color=696880 size=4>\n",
    "    Reza Soumi, Rouzbeh Pirayadi, Amir Mohammad Izadi\n",
    "\n",
    "____"
   ]
  },
  {
   "cell_type": "markdown",
   "metadata": {},
   "source": [
    "# Personal Data"
   ]
  },
  {
   "cell_type": "code",
   "execution_count": 86,
   "metadata": {},
   "outputs": [],
   "source": [
    "# Set your student number\n",
    "student_number = ''\n",
    "Name = ''\n",
    "Last_Name = ''"
   ]
  },
  {
   "cell_type": "markdown",
   "metadata": {},
   "source": [
    "# Rules\n",
    "- Make sure that all of your cells can be run perfectly. "
   ]
  },
  {
   "cell_type": "markdown",
   "metadata": {},
   "source": [
    "# Q2: DNA Center Point (100 Points)"
   ]
  },
  {
   "cell_type": "markdown",
   "metadata": {},
   "source": [
    "<font size=4>\n",
    "Author: Rouzbeh Pirayadi\n",
    "\t\t\t<br/>\n",
    "                <font color=red>\n",
    "Please run all the cells.\n",
    "     </font>\n",
    "</font>\n",
    "                <br/>\n",
    "    </div>"
   ]
  },
  {
   "cell_type": "markdown",
   "metadata": {},
   "source": [
    "## Libraries"
   ]
  },
  {
   "cell_type": "code",
   "execution_count": 1,
   "metadata": {},
   "outputs": [],
   "source": [
    "import random\n",
    "import numpy as np\n",
    "import matplotlib.pyplot as plt\n",
    "import time\n",
    "\n",
    "Alphabet = np.array(['a', 'c', 'g', 't'])"
   ]
  },
  {
   "cell_type": "markdown",
   "metadata": {},
   "source": [
    "## Problem Definition"
   ]
  },
  {
   "cell_type": "markdown",
   "metadata": {},
   "source": [
    "DNA is composed of four nucleic-acid bases. namely A, C, G and T. We consider DNA as a string from these four characters. In this exercise we want to find the center of a group of DNAs. In order to define center we need to first define distance between two DNAs (strings). Note that DNAs have the same length, so their distsance could be defined as:\n",
    "$$\n",
    "dist(a, b) = \\sum_{a[i] \\neq b[i]} 1\n",
    "$$\n",
    "for example the distance between the below DNAs is two since they are different in two indecies.\n",
    "$$\n",
    "AGGCT\n",
    "$$\n",
    "$$\n",
    "ACGCA\n",
    "$$\n",
    "\n",
    "Now we can define the center of a set of DNAs as follows.\n",
    "$$\n",
    "center(S) = \\arg \\min_{a}{\\{\\max_{i \\in S}{\\{dist(a, i)}\\}\\}}\n",
    "$$\n",
    "In other words center of a set of DNAs is a DNA which its distance from the furthest DNA in the set is the least. Below is an example.\n",
    "\n",
    "$$\n",
    "center(\\{ACCT, AGCG, ACTG\\}) = \\{ACCG\\}\n",
    "$$\n",
    "\n",
    "Note that center is not necassarily unique. Look at the below case for instance.\n",
    "\n",
    "$$\n",
    "center(\\{AA, AC, AG\\}) = \\{AA, AC, AG, AT\\}\n",
    "$$\n",
    "\n",
    "However the maximum distance of the center is unique. We call this value the radius of the set.\n",
    "\n",
    "$$\n",
    "radius(S) = \\min_{a}{\\{\\max_{i \\in S}{\\{dist(a, i)}\\}\\}}\n",
    "$$\n",
    "$$\n",
    "radius(\\{AA, AC, AG\\}) = 1\n",
    "$$\n",
    "\n",
    "Our goal is to find the center and the radius utilizing __simulated annealing__."
   ]
  },
  {
   "cell_type": "markdown",
   "metadata": {},
   "source": [
    "## Initializing States"
   ]
  },
  {
   "cell_type": "markdown",
   "metadata": {},
   "source": [
    "First we must model our problem, so we will be able to solve it. Our solution is a string with the same length as the objects in $S$. In order to represent the solutions which are the states in our problem, we use a numpy array of characters."
   ]
  },
  {
   "cell_type": "code",
   "execution_count": 2,
   "metadata": {},
   "outputs": [],
   "source": [
    "def initialize_state(n):\n",
    "    ##################################################################\n",
    "    # (5 Points)                                                     #\n",
    "    # [inputs]                                                       #\n",
    "    # length of the vector                                           #\n",
    "    # [outputs]                                                      #\n",
    "    # returns a random vector with length n and                      #\n",
    "    # uniform probability from Alphabet elements as a numpy array    #\n",
    "    ##################################################################\n",
    "    pass"
   ]
  },
  {
   "cell_type": "markdown",
   "metadata": {},
   "source": [
    "## Evaluation Function"
   ]
  },
  {
   "cell_type": "markdown",
   "metadata": {},
   "source": [
    "We want to start from a state(solution) and try minimizing the distance. In other words the outer minimization of the center formula will be done by simulated annealing so the inner maximization must be done by the evaluation function. As a result the evaluation function , represented by e, is as follows.\n",
    "\n",
    "$$\n",
    "f(a) = \\max_{i \\in S}{dist(a, i)}\n",
    "$$"
   ]
  },
  {
   "cell_type": "code",
   "execution_count": 3,
   "metadata": {},
   "outputs": [],
   "source": [
    "def calculate_evaluation(genomes, state):\n",
    "    ##################################################################\n",
    "    # (10 Points)                                                    #\n",
    "    # [inputs]                                                       #\n",
    "    # genomes is a 2D numpy array and represents the set of DNAs     #\n",
    "    # state is a 1D numpy array which represents \"a\" in the equation #\n",
    "    # [outputs]                                                      #\n",
    "    # the function returns the value of f(a)                         #\n",
    "    ##################################################################\n",
    "    pass\n"
   ]
  },
  {
   "cell_type": "markdown",
   "metadata": {},
   "source": [
    "## Neighboring State"
   ]
  },
  {
   "cell_type": "markdown",
   "metadata": {},
   "source": [
    "In each iteration of __simulatd annealing__ a neighboring state of the current state is accessed. So we need to define neighboring states. Two states are neighbors if they are exactly different at one index.\n",
    "\n",
    "$$\n",
    "(a, b) \\in N \\iff \\exists i: a[i] \\neq b[i] \\land \\forall j \\neq i: a[j] = b[j]\n",
    "$$\n",
    "\n",
    "for example the following states are neighbors.\n",
    "\n",
    "$$\n",
    "ACGCT\n",
    "$$\n",
    "$$\n",
    "ACTCT\n",
    "$$"
   ]
  },
  {
   "cell_type": "code",
   "execution_count": 4,
   "metadata": {},
   "outputs": [],
   "source": [
    "def get_neighbor_state(state):\n",
    "    ##################################################################\n",
    "    # (15 Points)                                                    #\n",
    "    # [inputs]                                                       #\n",
    "    # state is a 1D numpy array which represents a state             #\n",
    "    # [outputs]                                                      #\n",
    "    # a neighboring state of input is returned                       #\n",
    "    # [notice]                                                       #\n",
    "    # note the the same state as the input should not be returned    #\n",
    "    # and the neighbor should be selected uniformly at random        #\n",
    "    ##################################################################\n",
    "    pass"
   ]
  },
  {
   "cell_type": "markdown",
   "metadata": {},
   "source": [
    "## Temperature and Acceptance Probability"
   ]
  },
  {
   "cell_type": "markdown",
   "metadata": {},
   "source": [
    "After implementing all the prerequisites we are now able to implement the main algorithm. Consider \n",
    "$a_1$ and $a_2$ as the current and new states. The acceptance probability would be as follows.\n",
    "$$\n",
    "P(a_1, a_2)= \n",
    "\\begin{cases}\n",
    "    1 & f(a_2) < f(a_1) \\\\\n",
    "    e ^ {-\\frac{(f(a_2) - f(a_2))}{T}} & o.w. \\\\\n",
    "\\end{cases}\n",
    "$$\n",
    "In the above equation T is temperature and changes as below where $i$ is the iteration number.\n",
    "\n",
    "$$\n",
    "T = T_0 \\times \\alpha^i\n",
    "$$\n",
    "\n",
    "Now complete the below function according to the comment about input and outputs."
   ]
  },
  {
   "cell_type": "code",
   "execution_count": 5,
   "metadata": {},
   "outputs": [],
   "source": [
    "def simulated_annealing(genomes, initial_state, alpha, initial_temp, max_iteration, min_temperature):\n",
    "    ##############################################################################\n",
    "    # (35 Points)                                                                #\n",
    "    # [inputs]                                                                   #\n",
    "    # genomes is a 2D numpy array and represents the set of DNAs                 #\n",
    "    # initial state is the state to start with                                   #\n",
    "    # alpha is the temperature decay rate                                        #\n",
    "    # initial temp is T0                                                         #\n",
    "    # max_iteration is the maximum number of iteration (termination condition)   #\n",
    "    # min_temperature is the minimum temperature (termination condition)         #\n",
    "    # [outputs]                                                                  #\n",
    "    # best state found as a numpy array                                          #\n",
    "    # best state's evaluation value                                              #\n",
    "    # all the evaluations of current state as a normal list                      #\n",
    "    ##############################################################################\n",
    "    curr_state = initial_state\n",
    "    i = 0\n",
    "    temperature = initial_temp\n",
    "    evaluations = []\n",
    "    best_state = None\n",
    "    best_value = float('INF')\n",
    "\n",
    "    ################################################################################\n",
    "    ####################################complete####################################\n",
    "    ################################################################################\n"
   ]
  },
  {
   "cell_type": "markdown",
   "metadata": {},
   "source": [
    "## Validate"
   ]
  },
  {
   "cell_type": "markdown",
   "metadata": {},
   "source": [
    "In order to validate our implementation of simulated annealing, we implement a naive way to solve the problem. This algorithm traverses all possible sequences and calculates the solution. Note that your implementation of \"calculate_evaluation\" needs to be correct for this algorithm to work correctly."
   ]
  },
  {
   "cell_type": "code",
   "execution_count": 6,
   "metadata": {},
   "outputs": [],
   "source": [
    "##############################################\n",
    "# no need to the any thing                   #\n",
    "##############################################\n",
    "\n",
    "def go_to_next(number, alphabet_length):\n",
    "    idx = len(number) - 1\n",
    "    while idx >= 0:\n",
    "        if number[idx] < alphabet_length - 1:\n",
    "            number[idx] += 1\n",
    "            return True\n",
    "        else:\n",
    "            number[idx] = 0\n",
    "            idx -= 1\n",
    "    return False\n",
    "\n",
    "\n",
    "def brute_force(genomes):\n",
    "    n = len(genomes[0])\n",
    "    curr_state_index = np.zeros(n).astype(int)\n",
    "    best_state = None\n",
    "    best_value = float('INF')\n",
    "\n",
    "    while True:\n",
    "        new_result = calculate_evaluation(genomes, Alphabet[curr_state_index])\n",
    "\n",
    "        if new_result < best_value:\n",
    "            best_value = new_result\n",
    "            best_state = Alphabet[curr_state_index]\n",
    "\n",
    "        if not go_to_next(curr_state_index, len(Alphabet)):\n",
    "            break\n",
    "\n",
    "    return best_state, best_value\n"
   ]
  },
  {
   "cell_type": "markdown",
   "metadata": {},
   "source": [
    "Run the cell below to compare your algorithm with brute force. your answers should be close to the results acheived from brute force (10 points)."
   ]
  },
  {
   "cell_type": "code",
   "execution_count": 7,
   "metadata": {},
   "outputs": [
    {
     "name": "stdout",
     "output_type": "stream",
     "text": [
      "Simulated Annealing found solution ['g' 'a' 'c' 't' 'c'] with value 2 in 43.952 milliseconds\n",
      "Brute Force         found solution ['c' 'a' 'a' 't' 'c'] with value 2 in 99.997 milliseconds\n",
      "Simulated Annealing found solution ['a' 'g' 'g' 'g' 'g' 'a' 'c'] with value 2 in 76.003 milliseconds\n",
      "Brute Force         found solution ['a' 'g' 'g' 'g' 'g' 'a' 'c'] with value 2 in 1992.000 milliseconds\n",
      "Simulated Annealing found solution ['c' 'a' 't' 'c' 't' 'c' 'g' 'c' 't'] with value 4 in 39.039 milliseconds\n",
      "Brute Force         found solution ['c' 'c' 'a' 'c' 't' 'c' 'c' 'c' 't'] with value 3 in 31052.000 milliseconds\n"
     ]
    }
   ],
   "source": [
    "genomes_array = np.array([\n",
    "                        [['g', 'c', 'a', 't', 'c'],\n",
    "                         ['g', 'a', 'c', 't', 'c'],\n",
    "                         ['c', 'a', 'c', 'g', 'c']],\n",
    "                         [['a', 'c', 'g', 'g', 'g', 'a', 'c'],\n",
    "                          ['a', 'g', 'g', 'c', 'g', 'a', 'g'],\n",
    "                          ['c', 'g', 'g', 'g', 'g', 't', 'c']],\n",
    "                        [['c', 'c', 'a', 'c', 't', 'a', 'g', 'c', 'a'],\n",
    "                         ['c', 't', 'a', 'g', 't', 'c', 't', 'c', 't'],\n",
    "                         ['c', 't', 'c', 'c', 't', 'c', 'c', 'c', 'g']]], dtype=object)\n",
    "\n",
    "for genomes in genomes_array:\n",
    "    initial_state = initialize_state(len(genomes[0]))\n",
    "    start_time_sa = time.time()\n",
    "    result_dna_sa, result_value_sa, _ = simulated_annealing(genomes, initial_state, 0.9, 500, 1000, 1e-3)\n",
    "    middle_time = time.time()\n",
    "    result_dna_bf, result_value_bf = brute_force(genomes)\n",
    "    end_time_bf = time.time()\n",
    "\n",
    "    print(f'Simulated Annealing found solution {result_dna_sa} with value {result_value_sa} in %.3f milliseconds' %((middle_time - start_time_sa) * 1000))\n",
    "    print(f'Brute Force         found solution {result_dna_bf} with value {result_value_bf} in %.3f milliseconds' %((end_time_bf - middle_time) * 1000))\n",
    "\n"
   ]
  },
  {
   "cell_type": "markdown",
   "metadata": {},
   "source": [
    "According to the above results, what do you think is the advantage of simulated annealing over brute force (5 points)?"
   ]
  },
  {
   "cell_type": "markdown",
   "metadata": {},
   "source": [
    "<font color='cyan'>\n",
    "\n",
    "Provide your answer.\n",
    "\n",
    "</font>\n"
   ]
  },
  {
   "cell_type": "markdown",
   "metadata": {},
   "source": [
    "## Results"
   ]
  },
  {
   "cell_type": "markdown",
   "metadata": {},
   "source": [
    "Run the below cells to see the results (10 points)."
   ]
  },
  {
   "cell_type": "code",
   "execution_count": 8,
   "metadata": {},
   "outputs": [],
   "source": [
    "def  draw_results(evaluations):\n",
    "    ##############################################\n",
    "    # no need to the any thing                   #\n",
    "    ##############################################\n",
    "    plt.plot(evaluations)\n",
    "    plt.title('Simulated Annealing algorithm')\n",
    "    plt.ylabel('value')\n",
    "    plt.xlabel('iteration')\n",
    "    plt.show()"
   ]
  },
  {
   "cell_type": "code",
   "execution_count": 9,
   "metadata": {},
   "outputs": [],
   "source": [
    "example_genomes = np.array([['c', 'c', 'a', 'c', 't', 'a', 'g', 'g', 'a'],\n",
    "                            ['c', 't', 'a', 'g', 't', 'c', 't', 'g', 'a'],\n",
    "                            ['c', 't', 'c', 'c', 't', 'c', 'c', 'g', 'a']])\n",
    "initial_state = initialize_state(len(example_genomes[0]))"
   ]
  },
  {
   "cell_type": "code",
   "execution_count": 10,
   "metadata": {},
   "outputs": [
    {
     "name": "stdout",
     "output_type": "stream",
     "text": [
      "results: ['c' 't' 'a' 'c' 't' 'c' 'g' 'g' 'a'] and  radius: 2\n"
     ]
    },
    {
     "data": {
      "image/png": "[encoded data removed]",
      "text/plain": [
       "<Figure size 432x288 with 1 Axes>"
      ]
     },
     "metadata": {
      "needs_background": "light"
     },
     "output_type": "display_data"
    }
   ],
   "source": [
    "result_dna, result_value, evaluations = simulated_annealing(example_genomes, initial_state, 0.9, 500, 1000, 1e-3)\n",
    "print(f'results: {result_dna} and  radius: {result_value}')\n",
    "draw_results(evaluations)\n"
   ]
  },
  {
   "cell_type": "code",
   "execution_count": 11,
   "metadata": {},
   "outputs": [
    {
     "name": "stdout",
     "output_type": "stream",
     "text": [
      "results: ['t' 't' 'a' 'c' 't' 'c' 'g' 'g' 'a'] and  radius: 3\n"
     ]
    },
    {
     "data": {
      "image/png": "[encoded data removed]",
      "text/plain": [
       "<Figure size 432x288 with 1 Axes>"
      ]
     },
     "metadata": {
      "needs_background": "light"
     },
     "output_type": "display_data"
    }
   ],
   "source": [
    "\n",
    "result_dna, result_value, evaluations = simulated_annealing(example_genomes, initial_state, 0.8, 500, 1000, 1e-3)\n",
    "print(f'results: {result_dna} and  radius: {result_value}')\n",
    "draw_results(evaluations)\n"
   ]
  },
  {
   "cell_type": "code",
   "execution_count": 12,
   "metadata": {},
   "outputs": [
    {
     "name": "stdout",
     "output_type": "stream",
     "text": [
      "results: ['c' 't' 'a' 'c' 't' 'c' 'g' 'g' 'a'] and  radius: 2\n"
     ]
    },
    {
     "data": {
      "image/png": "[encoded data removed]",
      "text/plain": [
       "<Figure size 432x288 with 1 Axes>"
      ]
     },
     "metadata": {
      "needs_background": "light"
     },
     "output_type": "display_data"
    }
   ],
   "source": [
    "result_dna, result_value, evaluations = simulated_annealing(example_genomes, initial_state, 0.95, 500, 1000, 1e-3)\n",
    "print(f'results: {result_dna} and  radius: {result_value}')\n",
    "draw_results(evaluations)\n"
   ]
  },
  {
   "cell_type": "markdown",
   "metadata": {},
   "source": [
    "Now compare the diagrams for different values of alpha and analyze their shapes (10 points)."
   ]
  },
  {
   "cell_type": "markdown",
   "metadata": {},
   "source": [
    "<font color='cyan'>\n",
    "\n",
    "Provide your analysis.\n",
    "\n",
    "</font>\n",
    "\n"
   ]
  }
 ],
 "metadata": {
  "kernelspec": {
   "display_name": "base",
   "language": "python",
   "name": "python3"
  },
  "language_info": {
   "codemirror_mode": {
    "name": "ipython",
    "version": 3
   },
   "file_extension": ".py",
   "mimetype": "text/x-python",
   "name": "python",
   "nbconvert_exporter": "python",
   "pygments_lexer": "ipython3",
   "version": "3.8.8"
  },
  "orig_nbformat": 4
 },
 "nbformat": 4,
 "nbformat_minor": 2
}
