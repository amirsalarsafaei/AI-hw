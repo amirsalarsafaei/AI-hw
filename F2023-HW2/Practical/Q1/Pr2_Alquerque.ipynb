{
 "cells": [
  {
   "cell_type": "markdown",
   "metadata": {
    "id": "955AKC5916av"
   },
   "source": [
    "<img src='http://www-scf.usc.edu/~ghasemig/images/sharif.png' alt=\"SUT logo\" width=300 height=300 align=left class=\"saturate\" >\n",
    "\n",
    "<br>\n",
    "<font>\n",
    "<div dir=ltr align=center>\n",
    "<font color=0F5298 size=7>\n",
    "    Artificial Intelligence <br>\n",
    "<font color=2565AE size=5>\n",
    "    Computer Engineering Department <br>\n",
    "    Fall 2023<br>\n",
    "<font color=3C99D size=5>\n",
    "    Practical Assignment 2 - Adversarial Search <br>\n",
    "<font color=696880 size=4>\n",
    "    Mohammad Ali Banayeean Zade\n",
    "\n",
    "\n",
    "____"
   ]
  },
  {
   "cell_type": "markdown",
   "metadata": {
    "id": "oh9fbNuR3iSM"
   },
   "source": [
    "# Personal Data"
   ]
  },
  {
   "cell_type": "code",
   "execution_count": 1,
   "metadata": {
    "id": "QRA0Z1j-3iSM",
    "ExecuteTime": {
     "end_time": "2023-11-07T21:05:32.172396405Z",
     "start_time": "2023-11-07T21:05:31.852459242Z"
    }
   },
   "outputs": [],
   "source": [
    "# Set your student number\n",
    "student_number = '99100177'\n",
    "Name = 'Amir Salar'\n",
    "Last_Name = 'Safaei Ghaderi'"
   ]
  },
  {
   "cell_type": "markdown",
   "metadata": {
    "id": "RxRoUh-g3iSN"
   },
   "source": [
    "# Rules"
   ]
  },
  {
   "cell_type": "markdown",
   "metadata": {
    "id": "Y5znCGRG3iSN"
   },
   "source": [
    "- You should upload just your notebook file."
   ]
  },
  {
   "cell_type": "markdown",
   "metadata": {
    "id": "F7OI4HTN3iSN"
   },
   "source": [
    "# Libraries"
   ]
  },
  {
   "cell_type": "code",
   "execution_count": 2,
   "metadata": {
    "id": "6IcGkkWQ3iSN",
    "ExecuteTime": {
     "end_time": "2023-11-07T21:05:32.206005018Z",
     "start_time": "2023-11-07T21:05:31.897812528Z"
    }
   },
   "outputs": [
    {
     "name": "stdout",
     "output_type": "stream",
     "text": [
      "pygame 2.5.2 (SDL 2.28.2, Python 3.10.12)\n",
      "Hello from the pygame community. https://www.pygame.org/contribute.html\n"
     ]
    }
   ],
   "source": [
    "# import libraries here\n",
    "import random\n",
    "import copy\n",
    "import numpy as np\n",
    "import cv2\n",
    "from google.colab.patches import cv2_imshow\n",
    "from google.colab import output\n",
    "import time\n",
    "import os, sys\n",
    "import time\n",
    "import pygame\n",
    "from gui import *\n",
    "from map import *\n",
    "from tqdm.auto import tqdm\n",
    "import matplotlib.pyplot as plt"
   ]
  },
  {
   "cell_type": "markdown",
   "metadata": {
    "id": "m_hgsXX23iSO"
   },
   "source": [
    "# Q2: Adversarial Search (100 Points)"
   ]
  },
  {
   "cell_type": "markdown",
   "metadata": {
    "id": "7d5QGIuw3iSO"
   },
   "source": [
    "<font size=4>\n",
    "Author: Mohammad Ali Banayeean Zade\n",
    "<br/>\n",
    "<font color=red>\n",
    "Please run all the cells.\n",
    "</font>\n",
    "</font>\n",
    "<br/>\n",
    "</div>"
   ]
  },
  {
   "cell_type": "markdown",
   "metadata": {
    "id": "Mcsyh5gk3iSO"
   },
   "source": [
    "In this problem you must implement a minimax agent to play a game known as Alquerque."
   ]
  },
  {
   "cell_type": "markdown",
   "metadata": {
    "id": "H5ZdyhSe3iSO"
   },
   "source": [
    "The game has already been implemented for you. You should implement these things:  \n",
    "Complete the three minimax players (minmax, alpha-beta pruning) and random player classes. For the first minmax player you must create the minimax tree until you reach a desired depth or a cutoff state. Then you must use an evaluation function in `Game` class to score the nodes and find the best next move. For the second one, you must do all the above but using alpha beta pruning algorithm.\n",
    "\n",
    "*** Note that, the result from the game is a part of your score and a small portion of your score is evaluated based on the quality of your code.\n"
   ]
  },
  {
   "cell_type": "markdown",
   "metadata": {
    "id": "snQFnnOUWwv9"
   },
   "source": [
    "# Game rules:\n",
    "You can play Alquerque <a href=\"https://omerkel.github.io/Alquerque/html5/src/\">here</a>.\n",
    "Before starting, each player places their twelve pieces in the two rows closest to them and in the two rightmost spaces in the center row. The game is played in turns, with one player taking red and the other blue.\n",
    "<ul>\n",
    "<li> A piece can move from its point to any empty adjacent point that is <b>  connected by a line. </b> </li>\n",
    "<li> A piece can jump over an opposing piece and remove it from the game, if that opposing piece is adjacent and the point beyond it is empty.</li>\n",
    "</ul>\n",
    "\n",
    "<img  \n",
    "src=\"https://imageupload.io/ib/Sb359POEfCjUpAL_1698232288.png\" alt=\"demo.png\"/>\n",
    "</br>\n",
    "\n",
    "*** The goal of the game is to get more score. Players play for 100 round, Finally each player score come from below equation:\n",
    "\n",
    "\n",
    "$$\\displaystyle score=(remain \\; pieces)+5×(pieces \\; taken \\; from \\; opponent)$$\n",
    "\n",
    "\n",
    "The player with higher score win the game.\n",
    "\n",
    "</br>"
   ]
  },
  {
   "cell_type": "markdown",
   "metadata": {
    "id": "zy5BohA8qzQv"
   },
   "source": [
    "# Agents\n"
   ]
  },
  {
   "cell_type": "markdown",
   "metadata": {
    "id": "GvsyB_F8rAZA"
   },
   "source": [
    "## Player"
   ]
  },
  {
   "cell_type": "markdown",
   "metadata": {
    "id": "j2-W5APprVi0"
   },
   "source": [
    "Player is base class for game-playing agent. Other agents must inherit this class."
   ]
  },
  {
   "cell_type": "code",
   "execution_count": 3,
   "metadata": {
    "id": "K2yeacjDJ5vj",
    "ExecuteTime": {
     "end_time": "2023-11-07T21:05:32.206736569Z",
     "start_time": "2023-11-07T21:05:32.177321303Z"
    }
   },
   "outputs": [],
   "source": [
    "class Player:\n",
    "    \"\"\"\n",
    "    Base class for a game-playing agent.\n",
    "    You must implement the next_move() method to complete this class.\n",
    "\n",
    "    Parameters\n",
    "    ----------\n",
    "    number : int\n",
    "        The number of the player. If 1 then this player goes first. Otherwise this\n",
    "        player goes second.\n",
    "    \"\"\"\n",
    "\n",
    "    def __init__(self, number: int, maxdepth=2):\n",
    "        self.number = number\n",
    "        self.maxdepth = maxdepth\n",
    "\n",
    "    def next_move(self, game):\n",
    "        raise NotImplementedError(\"This should be implemented\")"
   ]
  },
  {
   "cell_type": "code",
   "execution_count": 3,
   "outputs": [],
   "source": [],
   "metadata": {
    "collapsed": false,
    "ExecuteTime": {
     "end_time": "2023-11-07T21:05:32.255240238Z",
     "start_time": "2023-11-07T21:05:32.179087624Z"
    }
   }
  },
  {
   "cell_type": "markdown",
   "metadata": {
    "id": "Y54YfZnnMrCi"
   },
   "source": [
    "## Random Player (5 points)\n",
    "This player, randomly select a move from the available possible moves."
   ]
  },
  {
   "cell_type": "code",
   "execution_count": 4,
   "metadata": {
    "id": "Ww1pwPPfMu1y",
    "ExecuteTime": {
     "end_time": "2023-11-07T21:05:32.255364962Z",
     "start_time": "2023-11-07T21:05:32.222057425Z"
    }
   },
   "outputs": [],
   "source": [
    "class Random_Player(Player):\n",
    "    def next_move(self, game):\n",
    "        \"\"\"\n",
    "        Randomly select a move from the available possible moves.\n",
    "\n",
    "        Parameters\n",
    "        ----------\n",
    "        game : `game.Game`\n",
    "            An instance of `game.Game` encoding the current state of the\n",
    "            game.\n",
    "\n",
    "        Returns\n",
    "        ----------\n",
    "        (int, int) or None\n",
    "            A randomly selected possible move.\n",
    "\n",
    "        Useful functions:\n",
    "        ----------\n",
    "        game.get_possible_moves\n",
    "        \"\"\"\n",
    "        if len(game.get_possible_moves()) == 0:\n",
    "            return None\n",
    "        return random.choice(game.get_possible_moves())"
   ]
  },
  {
   "cell_type": "markdown",
   "source": [
    "# Min-Max Algorithm\n"
   ],
   "metadata": {
    "collapsed": false
   }
  },
  {
   "cell_type": "code",
   "execution_count": 24,
   "outputs": [],
   "source": [
    "from math import inf\n",
    "\n",
    "\n",
    "class MiniMax:\n",
    "\n",
    "    def __init__(self, initial_game: \"Game\", player_number, is_alpha_beta_pruning: bool = False, max_depth: int = 2):\n",
    "        self.is_alpha_beta_pruning = is_alpha_beta_pruning\n",
    "        self.max_depth = max_depth\n",
    "        self.initial_game = copy.deepcopy(initial_game)\n",
    "        self.player_number = player_number\n",
    "\n",
    "    def __call__(self, *args, **kwargs):\n",
    "        return self._solve(self.initial_game, self.max_depth, -inf, inf, True)\n",
    "\n",
    "    def _solve(self, game: \"Game\", max_depth, alpha, beta, maximizing_player):\n",
    "        if max_depth <= 0 or len(game.get_possible_moves()) == 0 or game.turn == 101:\n",
    "            return game.get_player_score(self.player_number), None\n",
    "        if maximizing_player:\n",
    "            turn_best_value, turn_best_move = -inf, None\n",
    "\n",
    "            for move in game.get_possible_moves():\n",
    "                next_state = copy.deepcopy(game)\n",
    "                next_state.apply(move)\n",
    "                next_state.turn += 1\n",
    "\n",
    "                next_value, _ = self._solve(next_state, max_depth - 1, alpha, beta, False)\n",
    "\n",
    "                if turn_best_value <= next_value:\n",
    "                    turn_best_value, turn_best_move = next_value, move\n",
    "                if self.is_alpha_beta_pruning:\n",
    "                    alpha = max(alpha, next_value)\n",
    "                    if next_value > beta:\n",
    "                        break\n",
    "        else:\n",
    "            turn_best_value, turn_best_move = inf, None\n",
    "\n",
    "            for move in game.get_possible_moves():\n",
    "                next_state = copy.deepcopy(game)\n",
    "                next_state.apply(move)\n",
    "                next_state.turn += 1\n",
    "\n",
    "                next_value, _ = self._solve(next_state, max_depth - 1, alpha, beta, True)\n",
    "\n",
    "                if turn_best_value >= next_value:\n",
    "                    turn_best_value, turn_best_move = next_value, move\n",
    "                if self.is_alpha_beta_pruning:\n",
    "                    beta = min(beta, next_value)\n",
    "                    if alpha > next_value:\n",
    "                        break\n",
    "        return turn_best_value, turn_best_move"
   ],
   "metadata": {
    "collapsed": false,
    "ExecuteTime": {
     "end_time": "2023-11-07T21:26:19.534278422Z",
     "start_time": "2023-11-07T21:26:19.492564387Z"
    }
   }
  },
  {
   "cell_type": "markdown",
   "metadata": {
    "id": "9ys3l9mrM2Jf"
   },
   "source": [
    "## Min-Max Player (30 pints)\n",
    "In this part, You should implement orginal min max algorithm for `Min_Max_Player` class"
   ]
  },
  {
   "cell_type": "code",
   "execution_count": 6,
   "metadata": {
    "id": "Jh9ucFvSM4EX",
    "ExecuteTime": {
     "end_time": "2023-11-07T21:05:32.255420546Z",
     "start_time": "2023-11-07T21:05:32.222199863Z"
    }
   },
   "outputs": [],
   "source": [
    "class Min_Max_Player(Player):\n",
    "    def next_move(self, game):\n",
    "        \"\"\"\n",
    "        Parameters\n",
    "        ----------\n",
    "        game : `game.Game`\n",
    "        An instance of `game.Game` encoding the current state of the\n",
    "        game.\n",
    "\n",
    "        Returns\n",
    "        ----------\n",
    "        (int, int) or None\n",
    "        A  possible move. First int is the moving piece's location id. Second int is the target location id.\n",
    "\n",
    "        If None is returned when possible moves are available, it is an automatic forfeit and the player will\n",
    "        lose the match.\n",
    "\n",
    "        Useful functions:\n",
    "        ----------\n",
    "        game.get_possible_moves\n",
    "        game.apply\n",
    "        game.get_player_score\n",
    "        \"\"\"\n",
    "        min_max = MiniMax(game, self.number, max_depth=self.maxdepth)\n",
    "        _, best_move = min_max()\n",
    "        return best_move\n"
   ]
  },
  {
   "cell_type": "markdown",
   "metadata": {
    "id": "M4313c-uM5zr"
   },
   "source": [
    "## Alpha-Beta Pruning (40 points)\n",
    "In this part, You should implement alpha beta pruning algorithm."
   ]
  },
  {
   "cell_type": "code",
   "execution_count": 7,
   "metadata": {
    "id": "6DXECstKM8Fg",
    "ExecuteTime": {
     "end_time": "2023-11-07T21:05:32.255440938Z",
     "start_time": "2023-11-07T21:05:32.222243972Z"
    }
   },
   "outputs": [],
   "source": [
    "class Alpha_Beta_Pruning_Player(Player):\n",
    "    def next_move(self, game):\n",
    "        \"\"\"\n",
    "        Parameters\n",
    "        ----------\n",
    "        game : `game.Game`\n",
    "        An instance of `game.Game` encoding the current state of the\n",
    "        game.\n",
    "\n",
    "        Returns\n",
    "        ----------\n",
    "        (int, int) or None\n",
    "        A possible move. First int is the moving piece's location id. Second int is the target location id.\n",
    "\n",
    "        If None is returned when possible moves are available, it is an automatic forfeit and the player will\n",
    "        lose the match.\n",
    "\n",
    "\n",
    "        Useful functions:\n",
    "        ----------\n",
    "        game.get_possible_moves\n",
    "        game.apply\n",
    "        game.get_player_score\n",
    "        \"\"\"\n",
    "        min_max = MiniMax(game, self.number, max_depth=self.maxdepth, is_alpha_beta_pruning=True)\n",
    "        _, best_move = min_max()\n",
    "        return best_move"
   ]
  },
  {
   "cell_type": "markdown",
   "metadata": {
    "id": "UFsMMMm-YZHe"
   },
   "source": [
    "# Game\n",
    "All the game actions happen in this class. Don't change this codes. You can read the code to unserstand what it exactly does.\n",
    "\n",
    "*** Notice: You should implement `get_player_score()` function here."
   ]
  },
  {
   "cell_type": "code",
   "execution_count": 8,
   "metadata": {
    "id": "UoRx5WufOKGA",
    "ExecuteTime": {
     "end_time": "2023-11-07T21:05:32.255465027Z",
     "start_time": "2023-11-07T21:05:32.222326161Z"
    }
   },
   "outputs": [],
   "source": [
    "class Game:\n",
    "    def __init__(self, player_1, player_2):\n",
    "        \"\"\"\n",
    "        Parameters:\n",
    "        ----------\n",
    "        player_1: It is first player. From Player classes\n",
    "\n",
    "        player_2: It is second player. From Player classes\n",
    "        \"\"\"\n",
    "        self.map = OriginalMap(220, 140, 200, 200, 4, 4)\n",
    "\n",
    "        self.player1 = player_1\n",
    "        self.player2 = player_2\n",
    "\n",
    "        self.turn = 0\n",
    "\n",
    "        self.player1_pieces = [i for i in range(12)]\n",
    "        for i in self.player1_pieces:\n",
    "            self.map.assign_point(i, PointStatus.player_1)\n",
    "\n",
    "        self.player2_pieces = [i for i in range(13, 25)]\n",
    "        for i in self.player2_pieces:\n",
    "            self.map.assign_point(i, PointStatus.player_2)\n",
    "\n",
    "    def get_active_player(self):\n",
    "        return self.player1 if self.turn % 2 == 1 else self.player2\n",
    "\n",
    "    def tick(self):\n",
    "        self.turn += 1\n",
    "        game_copy = copy.deepcopy(self)\n",
    "        player = self.get_active_player()\n",
    "        move = player.next_move(game_copy)\n",
    "\n",
    "        if self.is_move_valid(move):\n",
    "            self.apply(move)\n",
    "\n",
    "    def is_move_valid(self, move):\n",
    "        if move is not None:\n",
    "            if move[0] in self.get_player_pieces(self.turn % 2):\n",
    "                return True\n",
    "            else:\n",
    "                return False\n",
    "\n",
    "    def get_possible_moves(self):\n",
    "        possible_moves = []\n",
    "        pieces_available = self.player1_pieces if self.turn % 2 == 1 else self.player2_pieces\n",
    "        for piece_id in pieces_available:\n",
    "            piece = self.map.id_to_point(piece_id)\n",
    "\n",
    "            for i in range(-2, 3):\n",
    "                for j in range(-2, 3):\n",
    "                    dest_row = piece[0] + i\n",
    "                    dest_column = piece[1] + j\n",
    "                    if self.map.is_point_valid(dest_row, dest_column):\n",
    "                        dest_id = self.map.point_to_id(dest_row, dest_column)\n",
    "                        if self.map.can_move(piece_id, dest_id):\n",
    "                            possible_moves.append((piece_id, dest_id))\n",
    "\n",
    "        return possible_moves\n",
    "\n",
    "    def apply(self, move):\n",
    "        if move is not None:\n",
    "            outcomes = self.map.apply_move(move)\n",
    "\n",
    "            moving_player_pieces = self.player1_pieces if self.turn % 2 == 1 else self.player2_pieces\n",
    "            waiting_player_pieces = self.player2_pieces if self.turn % 2 == 1 else self.player1_pieces\n",
    "\n",
    "            for outcome in outcomes:\n",
    "                # Some piece died\n",
    "                if outcome[1] == -1:\n",
    "                    assert outcome[0] in waiting_player_pieces\n",
    "                    waiting_player_pieces.remove(outcome[0])\n",
    "                # A piece moved\n",
    "                else:\n",
    "                    assert outcome[0] in moving_player_pieces\n",
    "                    moving_player_pieces.remove(outcome[0])\n",
    "                    moving_player_pieces.append(outcome[1])\n",
    "\n",
    "    def get_player_pieces(self, number):\n",
    "        if number == 1:\n",
    "            return self.player1_pieces\n",
    "        else:\n",
    "            return self.player2_pieces\n",
    "\n",
    "    def get_player_score(self, number):\n",
    "        '''\n",
    "        Calculate the heuristic value of a game state from the point of view of the given player.\n",
    "        Parameters:\n",
    "        ----------\n",
    "        number: show given player number.\n",
    "\n",
    "        Useful functions:\n",
    "        ----------\n",
    "        game.get_player_pieces\n",
    "        '''\n",
    "        return len(self.get_player_pieces(number)) + 5 * (12 - len( self.get_player_pieces(3 - number)))\n",
    "\n",
    "    def render(self, surface):\n",
    "        self.map.render(surface)\n"
   ]
  },
  {
   "cell_type": "markdown",
   "metadata": {
    "id": "svRCF52zNhiP"
   },
   "source": [
    "# Test agents (25 points)\n"
   ]
  },
  {
   "cell_type": "code",
   "execution_count": 9,
   "metadata": {
    "id": "ZqYct0Tdm-r-",
    "ExecuteTime": {
     "end_time": "2023-11-07T21:05:32.255485420Z",
     "start_time": "2023-11-07T21:05:32.222377911Z"
    }
   },
   "outputs": [],
   "source": [
    "# Don't change this cell\n",
    "\n",
    "import matplotlib.pyplot as plt\n",
    "def visualize(game, display, screen):\n",
    "    game.render(screen)\n",
    "    display.flip()\n",
    "    view = pygame.surfarray.array3d(screen)\n",
    "    view = view.transpose([1, 0, 2])\n",
    "    img_bgr = cv2.cvtColor(view, cv2.COLOR_RGB2BGR)\n",
    "    cv2_imshow(img_bgr)"
   ]
  },
  {
   "cell_type": "code",
   "execution_count": 10,
   "metadata": {
    "id": "l5MoxU5Jhlex",
    "ExecuteTime": {
     "end_time": "2023-11-07T21:05:32.255505655Z",
     "start_time": "2023-11-07T21:05:32.222412708Z"
    }
   },
   "outputs": [],
   "source": [
    "# Don't change this cell\n",
    "# By calling this function, the game start and you can track the game by using graphics = True\n",
    "\n",
    "SCREEN_WIDTH = 640\n",
    "SCREEN_HEIGHT = 480\n",
    "def start_game(game: Game, graphics=True):\n",
    "  '''\n",
    "    Parameters:\n",
    "    ----------\n",
    "    game: instance of `Game` class.\n",
    "    graphics: If True, show graphic of the game.\n",
    "  '''\n",
    "\n",
    "  pygame.init()\n",
    "  screen = pygame.display.set_mode((SCREEN_WIDTH, SCREEN_HEIGHT))\n",
    "  display = pygame.display\n",
    "  done = False\n",
    "\n",
    "  # White background\n",
    "  background_color = (255, 255, 255)\n",
    "  counter = 0\n",
    "\n",
    "  while not done:\n",
    "    counter += 1\n",
    "    screen.fill(background_color)\n",
    "    for event in pygame.event.get():\n",
    "        if event.type == pygame.QUIT:\n",
    "            done = True\n",
    "\n",
    "    if counter >= 1:\n",
    "        game.tick()\n",
    "\n",
    "    if counter >= 101:\n",
    "        break\n",
    "\n",
    "    if graphics:\n",
    "    # can change this to have better visualizion\n",
    "      visualize(game, display=display, screen=screen)\n",
    "\n",
    "  player1_score = game.get_player_score(1)\n",
    "  player2_score = game.get_player_score(2)\n",
    "  if player1_score > player2_score:\n",
    "      print(\"Player 1 wins\")\n",
    "      return 1\n",
    "  elif player2_score > player1_score:\n",
    "      print(\"Player 2 wins\")\n",
    "      return 2\n",
    "  else:\n",
    "      print(\"It's a draw\")\n",
    "      return 0\n",
    "\n"
   ]
  },
  {
   "cell_type": "markdown",
   "metadata": {
    "id": "TIY9fexPYDpF"
   },
   "source": [
    "### Two random player"
   ]
  },
  {
   "cell_type": "code",
   "execution_count": 11,
   "metadata": {
    "colab": {
     "base_uri": "https://localhost:8080/",
     "height": 1000
    },
    "id": "tH4RQajNJ2EP",
    "outputId": "3c47a49a-b8f5-46ef-b061-080c8d735247",
    "ExecuteTime": {
     "end_time": "2023-11-07T21:05:32.531072673Z",
     "start_time": "2023-11-07T21:05:32.222453116Z"
    }
   },
   "outputs": [
    {
     "name": "stdout",
     "output_type": "stream",
     "text": [
      "Player 2 wins\n"
     ]
    },
    {
     "data": {
      "text/plain": "2"
     },
     "execution_count": 11,
     "metadata": {},
     "output_type": "execute_result"
    }
   ],
   "source": [
    "# example 1: player1 = red, player2 = blue\n",
    "# with graphics=True you can follow the steps and see the game.\n",
    "player1 = Random_Player(1)\n",
    "player2 = Random_Player(2)\n",
    "game = Game(player1, player2)\n",
    "start_game(game, graphics=True)"
   ]
  },
  {
   "cell_type": "markdown",
   "metadata": {
    "id": "Fc49I31FYJ2v"
   },
   "source": [
    "You can see playing of two random player for 10 time in below cell. It is obvious that first player wining is approximately equal to second one."
   ]
  },
  {
   "cell_type": "code",
   "execution_count": 12,
   "metadata": {
    "colab": {
     "base_uri": "https://localhost:8080/"
    },
    "id": "LQIuwtmPYItV",
    "outputId": "faf50234-8b61-4b43-a95c-8a06bf80cf2b",
    "ExecuteTime": {
     "end_time": "2023-11-07T21:05:33.800292618Z",
     "start_time": "2023-11-07T21:05:32.609982102Z"
    }
   },
   "outputs": [
    {
     "name": "stdout",
     "output_type": "stream",
     "text": [
      "Player 2 wins\n",
      "It's a draw\n",
      "Player 2 wins\n",
      "Player 1 wins\n",
      "Player 1 wins\n",
      "Player 2 wins\n",
      "Player 2 wins\n",
      "Player 2 wins\n",
      "Player 2 wins\n",
      "Player 1 wins\n",
      "win_1 = 3, win_2 = 6, draw = 1\n"
     ]
    }
   ],
   "source": [
    "# example 1: player1 = red, player2 = blue\n",
    "num = 10\n",
    "win_1 = 0\n",
    "win_2 = 0\n",
    "draw = 0\n",
    "for _ in range(num):\n",
    "  player1 = Random_Player(1)\n",
    "  player2 = Random_Player(2)\n",
    "  game = Game(player1, player2)\n",
    "  result = start_game(game, graphics=False)\n",
    "  if result == 1:\n",
    "    win_1 += 1\n",
    "  elif result == 0:\n",
    "    draw += 1\n",
    "  else:\n",
    "    win_2 += 1\n",
    "print(f'win_1 = {win_1}, win_2 = {win_2}, draw = {draw}')"
   ]
  },
  {
   "cell_type": "markdown",
   "metadata": {
    "id": "LdkPOX-KZRgh"
   },
   "source": [
    "### Random player vs Min Max player"
   ]
  },
  {
   "cell_type": "code",
   "execution_count": 13,
   "metadata": {
    "colab": {
     "base_uri": "https://localhost:8080/",
     "height": 1000
    },
    "id": "4gZeqA5phMEl",
    "outputId": "8bb2571f-4c2b-4165-8492-1ff33d2c94a1",
    "ExecuteTime": {
     "end_time": "2023-11-07T21:05:44.517726052Z",
     "start_time": "2023-11-07T21:05:33.874996323Z"
    }
   },
   "outputs": [
    {
     "name": "stdout",
     "output_type": "stream",
     "text": [
      "Player 1 wins\n"
     ]
    },
    {
     "data": {
      "text/plain": "1"
     },
     "execution_count": 13,
     "metadata": {},
     "output_type": "execute_result"
    }
   ],
   "source": [
    "# example 2:\n",
    "seed = 42\n",
    "random.seed(seed)\n",
    "player_1 = Min_Max_Player(1, maxdepth=3)\n",
    "player_2 = Random_Player(2)\n",
    "game = Game(player_1, player_2)\n",
    "start_game(game, graphics=True)"
   ]
  },
  {
   "cell_type": "markdown",
   "metadata": {
    "id": "PhpPuLtOaZOc"
   },
   "source": [
    "### Random player vs Alpha-Beta player"
   ]
  },
  {
   "cell_type": "code",
   "execution_count": 14,
   "metadata": {
    "colab": {
     "base_uri": "https://localhost:8080/",
     "height": 0
    },
    "id": "yBkks95ppGbI",
    "outputId": "61ca828f-8588-40dc-81f1-5245a9d8a3f0",
    "ExecuteTime": {
     "end_time": "2023-11-07T21:05:50.086572213Z",
     "start_time": "2023-11-07T21:05:44.648065939Z"
    }
   },
   "outputs": [
    {
     "name": "stdout",
     "output_type": "stream",
     "text": [
      "Player 1 wins\n"
     ]
    },
    {
     "data": {
      "text/plain": "1"
     },
     "execution_count": 14,
     "metadata": {},
     "output_type": "execute_result"
    }
   ],
   "source": [
    "# example 3:\n",
    "seed = 42\n",
    "random.seed(seed)\n",
    "player1 = Alpha_Beta_Pruning_Player(1, maxdepth=3)\n",
    "player2 = Random_Player(2)\n",
    "game = Game(player1, player2)\n",
    "start_game(game, graphics=True)"
   ]
  },
  {
   "cell_type": "markdown",
   "metadata": {
    "id": "Ef_r4ayFvtMt"
   },
   "source": [
    "### Time performance"
   ]
  },
  {
   "cell_type": "markdown",
   "metadata": {
    "id": "5BdqXqbobUcb"
   },
   "source": [
    "In this part, we want to check time performance of alpha beta pruning vs minmax. It may take a little time to run :)"
   ]
  },
  {
   "cell_type": "code",
   "execution_count": 15,
   "metadata": {
    "colab": {
     "base_uri": "https://localhost:8080/",
     "height": 0,
     "referenced_widgets": [
      "acd39aa8ba6d4fd98fd313577e71be67",
      "2aa15ca2a7474fdeb156bada9c7124e6",
      "75e28c0e1c0c4f8abe3e1b6d69781875",
      "e1fa36ceabb4461696283b869f5933c4",
      "093099cb3f8445d7aa7d79237fc457b0",
      "6c81ab1109ca4075ad51cff76df98e6f",
      "858bad13315b44c6ac0cdc1bb9bebee9",
      "8eade50e0ee0444b95d3fcf4f8abee3d",
      "2231eb603bcb4776b9b1b5759a2bc0f3",
      "d4bffc0f1e394e7a81256392a467591f",
      "a0170b3794e04a8fba2e9b38b1df60fa"
     ]
    },
    "id": "dJoXopGjCUuB",
    "outputId": "51ad4097-3c8e-498a-e803-5c5042cedcc2",
    "ExecuteTime": {
     "end_time": "2023-11-07T21:07:54.986438555Z",
     "start_time": "2023-11-07T21:05:50.086839565Z"
    }
   },
   "outputs": [
    {
     "data": {
      "text/plain": "  0%|          | 0/4 [00:00<?, ?it/s]",
      "application/vnd.jupyter.widget-view+json": {
       "version_major": 2,
       "version_minor": 0,
       "model_id": "514c76a4688845f0ae78bd42c6105d58"
      }
     },
     "metadata": {},
     "output_type": "display_data"
    },
    {
     "name": "stdout",
     "output_type": "stream",
     "text": [
      "Player 1 wins\n",
      "Player 1 wins\n",
      "Player 1 wins\n",
      "Player 1 wins\n",
      "Player 1 wins\n",
      "Player 1 wins\n",
      "Player 1 wins\n",
      "Player 1 wins\n"
     ]
    }
   ],
   "source": [
    "seed = 42\n",
    "random.seed(seed)\n",
    "player_2 = Random_Player(2)\n",
    "minimax_time = []\n",
    "alpha_beta_time = []\n",
    "for i in tqdm(range(4)):\n",
    "  start = time.time()\n",
    "  player_1 = Min_Max_Player(1, maxdepth=i + 1)\n",
    "  game = Game(player_1, player_2)\n",
    "  start_game(game, graphics=False)\n",
    "  minimax_time.append(time.time() - start)\n",
    "\n",
    "  start = time.time()\n",
    "  player_1 = Alpha_Beta_Pruning_Player(1, maxdepth=i + 1)\n",
    "  game = Game(player_1, player_2)\n",
    "  start_game(game, graphics=False)\n",
    "  alpha_beta_time.append(time.time() - start)"
   ]
  },
  {
   "cell_type": "code",
   "execution_count": 16,
   "metadata": {
    "colab": {
     "base_uri": "https://localhost:8080/",
     "height": 0
    },
    "id": "-q6E8nK3MT4a",
    "outputId": "7014951d-3601-4fcd-89e5-b76b41dda848",
    "ExecuteTime": {
     "end_time": "2023-11-07T21:07:55.011485304Z",
     "start_time": "2023-11-07T21:07:54.986175473Z"
    }
   },
   "outputs": [
    {
     "data": {
      "text/plain": "<Figure size 640x480 with 1 Axes>",
      "image/png": "[encoded data removed]"
     },
     "metadata": {},
     "output_type": "display_data"
    }
   ],
   "source": [
    "plt.plot(list(range(1, len(minimax_time) + 1)), np.array(minimax_time) / 60, label=\"minimax time\")\n",
    "plt.plot(list(range(1, len(alpha_beta_time) + 1)), np.array(alpha_beta_time) / 60, label=\"alpha_beta time\")\n",
    "plt.legend(loc=\"upper right\")\n",
    "plt.xlabel('depth')\n",
    "plt.ylabel('time (m)')\n",
    "plt.show()"
   ]
  },
  {
   "cell_type": "markdown",
   "metadata": {
    "id": "LmDDE-c1cohA"
   },
   "source": [
    "Now you can see how much alpha beta pruning has much better time performance (especially after depth = 3)."
   ]
  },
  {
   "cell_type": "markdown",
   "metadata": {
    "id": "EqIIbEPcv4ls"
   },
   "source": [
    "### Play for many times"
   ]
  },
  {
   "cell_type": "markdown",
   "metadata": {
    "id": "T2bUED4Sdn_A"
   },
   "source": [
    "Now we want to test alpha beta and minmax in 10 games and get number of wining. your score should so close to 20."
   ]
  },
  {
   "cell_type": "code",
   "execution_count": 17,
   "metadata": {
    "colab": {
     "base_uri": "https://localhost:8080/",
     "height": 480,
     "referenced_widgets": [
      "96ff925ceae74381acc685393aa1d41b",
      "d587bfe885e048d48e0fc95e3b44c2e9",
      "d94bd32dab0547a1bb07b9f381d5db60",
      "16ac8535d49f459eb0231adcd0a57e0b",
      "d90a19a8ce2c45138864ccac12e037d9",
      "abb62a54c9ec42eb81884168691e4a1d",
      "54757ff31cba4565a082e0ced25747a0",
      "1459fb80548e4eee9f7d18f87212f7d0",
      "722b405b30a84c22a389f3059c71af5d",
      "8be1ab4ca889479abc5c0b00f95611f2",
      "9ddaaf8bf6ca4f3ab670011c21d21a7c",
      "84a042f0e4104a61b7466470e697219d",
      "ff6a842cb3474d459dc8d88d4886892c",
      "6e7b8b948918434b9437ad4779144f1b",
      "984c0ded00464e1a8c24cdb71164e85d",
      "55791ff5e82944c299bf126caee091d9",
      "9f282a12491248249f72fa4c6cba9c2a",
      "e014e7e4ecde40c9907c4f1733007ca0",
      "6bc642a5cfad404a99dc2959ef7bb06e",
      "1fc38fd1a16e4c2095e9559e5fa9c67d",
      "80498abac8c04c0488f8d6e96e4332c0",
      "e95c09132a2a40d1ac96cd8fbc7f4f68"
     ]
    },
    "id": "2DUKNhHPlB-Q",
    "outputId": "613e309c-4c9b-46e2-f50e-606f6d82cd00",
    "ExecuteTime": {
     "end_time": "2023-11-07T21:11:10.373171831Z",
     "start_time": "2023-11-07T21:07:55.017743348Z"
    }
   },
   "outputs": [
    {
     "data": {
      "text/plain": "  0%|          | 0/10 [00:00<?, ?it/s]",
      "application/vnd.jupyter.widget-view+json": {
       "version_major": 2,
       "version_minor": 0,
       "model_id": "da4e16a07437421cb6bd913a1a98d8e2"
      }
     },
     "metadata": {},
     "output_type": "display_data"
    },
    {
     "name": "stdout",
     "output_type": "stream",
     "text": [
      "Player 1 wins\n",
      "Player 1 wins\n",
      "Player 1 wins\n",
      "Player 1 wins\n",
      "Player 1 wins\n",
      "Player 1 wins\n",
      "Player 1 wins\n",
      "Player 1 wins\n",
      "Player 1 wins\n",
      "Player 1 wins\n"
     ]
    },
    {
     "data": {
      "text/plain": "  0%|          | 0/10 [00:00<?, ?it/s]",
      "application/vnd.jupyter.widget-view+json": {
       "version_major": 2,
       "version_minor": 0,
       "model_id": "4e39967e69174e7ba1b9d0bd2ddd692b"
      }
     },
     "metadata": {},
     "output_type": "display_data"
    },
    {
     "name": "stdout",
     "output_type": "stream",
     "text": [
      "Player 1 wins\n",
      "Player 1 wins\n",
      "Player 1 wins\n",
      "Player 1 wins\n",
      "Player 1 wins\n",
      "Player 1 wins\n",
      "Player 1 wins\n",
      "Player 1 wins\n",
      "Player 1 wins\n",
      "Player 1 wins\n",
      "minimax player vs random player win=10, lose=0, draw=0, time = 2.1626762231191 m\n",
      "alpha beta vs random player win=10, lose=0, draw=0, time = 1.0931368271509807 m\n",
      "score: 20\n"
     ]
    }
   ],
   "source": [
    "def get_game_result(player_1, player_2, num_game):\n",
    "    win, lose, draw = 0, 0, 0\n",
    "    start = time.time()\n",
    "    for i in tqdm(range(num_game)):\n",
    "        random.seed()\n",
    "        game = Game(player_1, player_2)\n",
    "        result = start_game(game, graphics=False)\n",
    "        if result == 1:\n",
    "            win += 1\n",
    "        elif result == 2:\n",
    "            lose += 1\n",
    "        else:\n",
    "            draw += 1\n",
    "    return win, lose, draw, (time.time() - start) / 60\n",
    "\n",
    "def mark():\n",
    "    player1 = Min_Max_Player(1, maxdepth=3)\n",
    "    player2 = Random_Player(2)\n",
    "    win1, lose1, draw1, t1 = get_game_result(player1, player2, 10)\n",
    "\n",
    "    player1 = Alpha_Beta_Pruning_Player(1, maxdepth=3)\n",
    "    player2 = Random_Player(2)\n",
    "    win2, lose2, draw2, t2 = get_game_result(player1, player2, 10)\n",
    "    print(f'minimax player vs random player win={win1}, lose={lose1}, draw={draw1}, time = {t1} m')\n",
    "    print(f'alpha beta vs random player win={win2}, lose={lose2}, draw={draw2}, time = {t2} m')\n",
    "    print(f'score: {win1 + win2}')\n",
    "mark()"
   ]
  },
  {
   "cell_type": "code",
   "execution_count": 19,
   "metadata": {
    "colab": {
     "base_uri": "https://localhost:8080/",
     "height": 413,
     "referenced_widgets": [
      "8a1ee90e3d6f426181db405c6233dcbb",
      "f85aa510ca994fc7b44a0f1e87313f38",
      "5697e39d3342446b8f58c37ee27a5916",
      "c17f29d57ce84aa384b87419a2c0932d",
      "c90271b672c445e69be18ce390ddd2a4",
      "5912403568874f9bbdd362e1ce3be0c1",
      "c16007c57cd5451e8700098991b43a00",
      "85c413daeaba4b8c858ee777c2b8889e",
      "e8e09cd45aa840bbaeff6d72b0b72f7a",
      "e4348cd8dfbd4bf1a3e245d6b77ca134",
      "3a2b08ffbe894bd190cb4aabd581e244"
     ]
    },
    "id": "1WtVfDgtmdWZ",
    "outputId": "2dd6db0f-1cb6-4e7f-c1c3-8e377fe67c4c",
    "ExecuteTime": {
     "end_time": "2023-11-07T20:16:19.949631985Z",
     "start_time": "2023-11-07T20:16:17.242477597Z"
    }
   },
   "outputs": [
    {
     "data": {
      "text/plain": "  0%|          | 0/20 [00:00<?, ?it/s]",
      "application/vnd.jupyter.widget-view+json": {
       "version_major": 2,
       "version_minor": 0,
       "model_id": "0b277bf3f2804319b72852fe501d082e"
      }
     },
     "metadata": {},
     "output_type": "display_data"
    },
    {
     "name": "stdout",
     "output_type": "stream",
     "text": [
      "Player 1 wins\n",
      "Player 1 wins\n",
      "Player 2 wins\n",
      "Player 2 wins\n",
      "Player 2 wins\n",
      "Player 1 wins\n",
      "Player 2 wins\n",
      "Player 1 wins\n",
      "It's a draw\n",
      "Player 1 wins\n",
      "It's a draw\n",
      "Player 2 wins\n",
      "Player 2 wins\n",
      "It's a draw\n",
      "Player 1 wins\n",
      "It's a draw\n",
      "Player 1 wins\n",
      "Player 2 wins\n",
      "Player 2 wins\n",
      "It's a draw\n",
      "random player win=7, lose=8, draw=5, time = 0.045098872979482015 m\n"
     ]
    }
   ],
   "source": [
    "player1 = Random_Player(1)\n",
    "player2 = Random_Player(2)\n",
    "win2, lose2, draw2, t2 = get_game_result(player1, player2, 20)\n",
    "print(f'random player win={win2}, lose={lose2}, draw={draw2}, time = {t2} m')"
   ]
  },
  {
   "cell_type": "markdown",
   "metadata": {
    "id": "GFO1IXe0IAQG"
   },
   "source": [
    "# Extra score * (20 points)\n",
    "\n"
   ]
  },
  {
   "cell_type": "markdown",
   "metadata": {
    "id": "duYdcUpJIRWK"
   },
   "source": [
    "## Expectimax\n",
    "In previous sections, you consider your opponent play **min** for each step or action. In this part, you should consider your opponent that play random and implement expectimax algorithm."
   ]
  },
  {
   "cell_type": "code",
   "execution_count": 18,
   "outputs": [],
   "source": [
    "from typing import Callable, Tuple\n",
    "from math import inf\n",
    "\n",
    "def uniform_possible_moves(game: \"Game\", move: Tuple[int, int]) -> float:\n",
    "    return 1.0 / len(game.get_possible_moves())\n",
    "\n",
    "class ExpectiMax:\n",
    "\n",
    "    def __init__(self, initial_game: \"Game\", max_depth: int = 2, probability_function: Callable[[\"Game\", Tuple[int, int]], float]=uniform_possible_moves):\n",
    "        self.max_depth = max_depth\n",
    "        self.initial_game = copy.deepcopy(initial_game)\n",
    "        self.player_number = initial_game.get_active_player().number\n",
    "        self.probability_function = probability_function\n",
    "\n",
    "    def __call__(self, *args, **kwargs):\n",
    "        return self._solve(self.initial_game, self.max_depth, True)\n",
    "\n",
    "    def _solve(self, game: \"Game\", max_depth, maximizing_player):\n",
    "        if max_depth <= 0 or len(game.get_possible_moves()) == 0 or game.turn == 101:\n",
    "            return game.get_player_score(self.player_number), None\n",
    "        if maximizing_player:\n",
    "            turn_best_value, turn_best_move = -inf, None\n",
    "\n",
    "            for move in game.get_possible_moves():\n",
    "                next_state = copy.deepcopy(game)\n",
    "                next_state.apply(move)\n",
    "                next_state.turn += 1\n",
    "\n",
    "                next_value, _ = self._solve(next_state, max_depth - 1, False)\n",
    "\n",
    "                if turn_best_value <= next_value:\n",
    "                    turn_best_value, turn_best_move = next_value, move\n",
    "            return turn_best_value, turn_best_move\n",
    "        else:\n",
    "            value = float(0)\n",
    "\n",
    "            for move in game.get_possible_moves():\n",
    "                next_state = copy.deepcopy(game)\n",
    "                next_state.apply(move)\n",
    "                next_state.turn += 1\n",
    "\n",
    "                next_value, _ = self._solve(next_state, max_depth - 1, True)\n",
    "\n",
    "                value += self.probability_function(game, move) * next_value\n",
    "\n",
    "            return value, None"
   ],
   "metadata": {
    "collapsed": false,
    "ExecuteTime": {
     "end_time": "2023-11-07T21:22:41.646287467Z",
     "start_time": "2023-11-07T21:22:41.601896414Z"
    }
   }
  },
  {
   "cell_type": "code",
   "execution_count": 19,
   "metadata": {
    "id": "tMllbKXrIQvN",
    "ExecuteTime": {
     "end_time": "2023-11-07T21:22:41.746108132Z",
     "start_time": "2023-11-07T21:22:41.738956109Z"
    }
   },
   "outputs": [],
   "source": [
    "class Expectimax_Player(Player):\n",
    "    def next_move(self, game):\n",
    "        \"\"\"\n",
    "        Parameters\n",
    "        ----------\n",
    "        game : `game.Game`\n",
    "            An instance of `game.Game` encoding the current state of the\n",
    "            game.\n",
    "\n",
    "        Returns\n",
    "        ----------\n",
    "        (int, int) or None\n",
    "            A randomly selected possible move.\n",
    "\n",
    "        Useful functions:\n",
    "        ----------\n",
    "        game.get_possible_moves\n",
    "        \"\"\"\n",
    "        expectimax = ExpectiMax(game, max_depth=self.maxdepth)\n",
    "        return expectimax()[1]"
   ]
  },
  {
   "cell_type": "markdown",
   "metadata": {
    "id": "LPdeF3KKJ6dF"
   },
   "source": [
    "Now you can see the results by running below cell. We excpect that the results approximatly to be similar below image.\n",
    "<img\n",
    "    src=\"https://gcdnb.pbrd.co/images/OgejM08bTJet.png?o=1\"\n",
    "/>\n"
   ]
  },
  {
   "cell_type": "markdown",
   "metadata": {
    "id": "7_K-7ZcFeDpP"
   },
   "source": [
    "## Test"
   ]
  },
  {
   "cell_type": "code",
   "execution_count": 27,
   "metadata": {
    "colab": {
     "base_uri": "https://localhost:8080/",
     "height": 492,
     "referenced_widgets": [
      "7ab440aa46834469a28a1c56370711be",
      "ba8d46bba2d14c75b480bf8363e7f23c",
      "c8e7b8393d64455db4e34d72de114a47",
      "c22460bcf5d94a6da1a62d00c573e7e6",
      "c0dd9179beac4e10a6f056dddb0fa24a",
      "7137f000800b42b98c776b8360ba137e",
      "9e54c2bbebec4168ac39e46adb5d549d",
      "36818ad3c2204b18b3c1c4c404763d0d",
      "5141f13840234e009b6bc6668d8f37ff",
      "506d56fee8124fa99ae6720ae6132db9",
      "2ebeb26107164e95a86d7ba8575d4974",
      "6ea9b9e4910049b294516ed0de5e4aab",
      "4aa3cd4d1d7b4782b78375ccbdee41e5",
      "dbfc4742f5ef4cf88f745d95e56bd72f",
      "4e19ebdc53604fee9a926b5253fbe1b1",
      "0cddc243f40648ecab028f0e067204c7",
      "677fb8f603d64166930848d6e1ce5517",
      "896e0810d98d45a5a7c15676ef760ae2",
      "a298f1c4dc614468a6e894cec6db152f",
      "edff366ccc6247b2ab6b9886f94a5b0a",
      "db1e7e947d0e460cb40143b6c8d16a3a",
      "26d1e2e92c494f2db8fdce4a26a418fa",
      "012c94b00cc34620a9852c6bb32b0a75",
      "083e454f309f4b119002979ac27f7d37",
      "fc14fe85262e41649c7fccdfbfae7af6",
      "302ce66323ec4712bf979b4d8cd08493",
      "258b5d1d1a674fc8a1629bce87cce1b3",
      "bb8da3496ab346f3a8f616aa50f439e7",
      "50da728596d44904852a420f8ee57ec1",
      "cbff1475b2ce4066813a11528816ed63",
      "7fc764592edb4b4088ef6d498690e5fc",
      "d4923a46fc4f48f6a603680858439eae",
      "6b9bd017e45c4e3898cbe35efedc2769",
      "d9214827078a4661bc15e55b2ca6d56c",
      "85a6ac251d3948afa5def7f22f68f038",
      "73047fc172b84568a5ae3ba85328559e",
      "d0236dc7fa7a4ed7ada2743950ab14b9",
      "f95aeb037c27427d8a16950042ddd893",
      "7f67a5d78fd7470da706186ab59a1f50",
      "a2e1eb4ea4664288acbb55cfc3aaaa0b",
      "573f1c3392c8412d8c18cee3328becdd",
      "1ddf22ab9eab4a15a0d047c9e4d3e093",
      "aa5e3caefd8d490c86b492f97648aece",
      "a1a7073a272e4c21af2ff961d85f16de"
     ]
    },
    "id": "AvG91FgQJNVj",
    "outputId": "08ebc28a-9d43-4048-bf78-c5842dd3b5ac",
    "ExecuteTime": {
     "end_time": "2023-11-07T21:45:28.325450708Z",
     "start_time": "2023-11-07T21:41:04.653261150Z"
    }
   },
   "outputs": [
    {
     "data": {
      "text/plain": "  0%|          | 0/5 [00:00<?, ?it/s]",
      "application/vnd.jupyter.widget-view+json": {
       "version_major": 2,
       "version_minor": 0,
       "model_id": "408ec79e777142d985837a88c764dfc2"
      }
     },
     "metadata": {},
     "output_type": "display_data"
    },
    {
     "name": "stdout",
     "output_type": "stream",
     "text": [
      "Player 1 wins\n",
      "Player 1 wins\n",
      "Player 1 wins\n",
      "Player 1 wins\n",
      "Player 1 wins\n"
     ]
    },
    {
     "data": {
      "text/plain": "  0%|          | 0/5 [00:00<?, ?it/s]",
      "application/vnd.jupyter.widget-view+json": {
       "version_major": 2,
       "version_minor": 0,
       "model_id": "bd6e56f301f84e8d9b6057d841bb83bd"
      }
     },
     "metadata": {},
     "output_type": "display_data"
    },
    {
     "name": "stdout",
     "output_type": "stream",
     "text": [
      "Player 1 wins\n",
      "Player 1 wins\n",
      "Player 1 wins\n",
      "Player 1 wins\n",
      "Player 1 wins\n"
     ]
    },
    {
     "data": {
      "text/plain": "  0%|          | 0/5 [00:00<?, ?it/s]",
      "application/vnd.jupyter.widget-view+json": {
       "version_major": 2,
       "version_minor": 0,
       "model_id": "c0357224b6784346b1ea0061a2bdee22"
      }
     },
     "metadata": {},
     "output_type": "display_data"
    },
    {
     "name": "stdout",
     "output_type": "stream",
     "text": [
      "Player 2 wins\n",
      "Player 2 wins\n",
      "Player 2 wins\n",
      "Player 2 wins\n",
      "Player 2 wins\n"
     ]
    },
    {
     "data": {
      "text/plain": "  0%|          | 0/5 [00:00<?, ?it/s]",
      "application/vnd.jupyter.widget-view+json": {
       "version_major": 2,
       "version_minor": 0,
       "model_id": "90a1bf4b991d46a3a389878ce263b343"
      }
     },
     "metadata": {},
     "output_type": "display_data"
    },
    {
     "name": "stdout",
     "output_type": "stream",
     "text": [
      "Player 1 wins\n",
      "Player 1 wins\n",
      "Player 1 wins\n",
      "Player 1 wins\n",
      "Player 1 wins\n"
     ]
    }
   ],
   "source": [
    "def mark():\n",
    "    player1 = Alpha_Beta_Pruning_Player(1, maxdepth=3)\n",
    "    player2 = Alpha_Beta_Pruning_Player(2, maxdepth=1)\n",
    "    win1, _, _, _ = get_game_result(player1, player2, 5)\n",
    "\n",
    "    player1 = Alpha_Beta_Pruning_Player(1, maxdepth=3)\n",
    "    player2 = Random_Player(2)\n",
    "    win2, _, _, _ = get_game_result(player1, player2, 5)\n",
    "\n",
    "\n",
    "    player1 = Expectimax_Player(1, maxdepth=3)\n",
    "    player2 = Alpha_Beta_Pruning_Player(2, maxdepth=3)\n",
    "    win3, _, _, _ = get_game_result(player1, player2, 5)\n",
    "\n",
    "    player1 = Expectimax_Player(1, maxdepth=3)\n",
    "    player2 = Random_Player(2)\n",
    "    win4, _, _, _ = get_game_result(player1, player2, 5)\n",
    "\n",
    "    return win1, win2 , win3, win4\n",
    "result1, result2, result3 , result4 = mark()"
   ]
  },
  {
   "cell_type": "code",
   "execution_count": 28,
   "metadata": {
    "colab": {
     "base_uri": "https://localhost:8080/"
    },
    "id": "3N8A6UTESrLs",
    "outputId": "ff491bcf-6277-4a48-8b84-be9566556bfa",
    "ExecuteTime": {
     "end_time": "2023-11-07T21:45:28.370470390Z",
     "start_time": "2023-11-07T21:45:28.326821445Z"
    }
   },
   "outputs": [
    {
     "name": "stdout",
     "output_type": "stream",
     "text": [
      "+------------+-------------+--------+\n",
      "|            | Adversarial | Random |\n",
      "+------------+-------------+--------+\n",
      "|  Minimax   |    5 / 5    | 5 / 5  |\n",
      "| Expectimax |    0 / 5    | 5 / 5  |\n",
      "+------------+-------------+--------+\n"
     ]
    }
   ],
   "source": [
    "from prettytable import PrettyTable\n",
    "myTab = PrettyTable([\" \", \"Adversarial\", \"Random\"])\n",
    "myTab.add_row([\"Minimax\", f'{result1} / 5', f'{result2} / 5'])\n",
    "myTab.add_row([\"Expectimax\", f'{result3} / 5', f'{result4} / 5'])\n",
    "print(myTab)"
   ]
  },
  {
   "cell_type": "code",
   "execution_count": null,
   "outputs": [],
   "source": [],
   "metadata": {
    "collapsed": false
   }
  }
 ],
 "metadata": {
  "colab": {
   "collapsed_sections": [
    "oh9fbNuR3iSM",
    "GvsyB_F8rAZA",
    "LdkPOX-KZRgh",
    "PhpPuLtOaZOc",
    "Ef_r4ayFvtMt"
   ],
   "provenance": []
  },
  "kernelspec": {
   "name": "python3",
   "language": "python",
   "display_name": "Python 3 (ipykernel)"
  },
  "language_info": {
   "name": "python"
  },
  "widgets": {
   "application/vnd.jupyter.widget-state+json": {
    "012c94b00cc34620a9852c6bb32b0a75": {
     "model_module": "@jupyter-widgets/controls",
     "model_module_version": "1.5.0",
     "model_name": "HBoxModel",
     "state": {
      "_dom_classes": [],
      "_model_module": "@jupyter-widgets/controls",
      "_model_module_version": "1.5.0",
      "_model_name": "HBoxModel",
      "_view_count": null,
      "_view_module": "@jupyter-widgets/controls",
      "_view_module_version": "1.5.0",
      "_view_name": "HBoxView",
      "box_style": "",
      "children": [
       "IPY_MODEL_083e454f309f4b119002979ac27f7d37",
       "IPY_MODEL_fc14fe85262e41649c7fccdfbfae7af6",
       "IPY_MODEL_302ce66323ec4712bf979b4d8cd08493"
      ],
      "layout": "IPY_MODEL_258b5d1d1a674fc8a1629bce87cce1b3"
     }
    },
    "083e454f309f4b119002979ac27f7d37": {
     "model_module": "@jupyter-widgets/controls",
     "model_module_version": "1.5.0",
     "model_name": "HTMLModel",
     "state": {
      "_dom_classes": [],
      "_model_module": "@jupyter-widgets/controls",
      "_model_module_version": "1.5.0",
      "_model_name": "HTMLModel",
      "_view_count": null,
      "_view_module": "@jupyter-widgets/controls",
      "_view_module_version": "1.5.0",
      "_view_name": "HTMLView",
      "description": "",
      "description_tooltip": null,
      "layout": "IPY_MODEL_bb8da3496ab346f3a8f616aa50f439e7",
      "placeholder": "​",
      "style": "IPY_MODEL_50da728596d44904852a420f8ee57ec1",
      "value": "100%"
     }
    },
    "093099cb3f8445d7aa7d79237fc457b0": {
     "model_module": "@jupyter-widgets/base",
     "model_module_version": "1.2.0",
     "model_name": "LayoutModel",
     "state": {
      "_model_module": "@jupyter-widgets/base",
      "_model_module_version": "1.2.0",
      "_model_name": "LayoutModel",
      "_view_count": null,
      "_view_module": "@jupyter-widgets/base",
      "_view_module_version": "1.2.0",
      "_view_name": "LayoutView",
      "align_content": null,
      "align_items": null,
      "align_self": null,
      "border": null,
      "bottom": null,
      "display": null,
      "flex": null,
      "flex_flow": null,
      "grid_area": null,
      "grid_auto_columns": null,
      "grid_auto_flow": null,
      "grid_auto_rows": null,
      "grid_column": null,
      "grid_gap": null,
      "grid_row": null,
      "grid_template_areas": null,
      "grid_template_columns": null,
      "grid_template_rows": null,
      "height": null,
      "justify_content": null,
      "justify_items": null,
      "left": null,
      "margin": null,
      "max_height": null,
      "max_width": null,
      "min_height": null,
      "min_width": null,
      "object_fit": null,
      "object_position": null,
      "order": null,
      "overflow": null,
      "overflow_x": null,
      "overflow_y": null,
      "padding": null,
      "right": null,
      "top": null,
      "visibility": null,
      "width": null
     }
    },
    "0cddc243f40648ecab028f0e067204c7": {
     "model_module": "@jupyter-widgets/base",
     "model_module_version": "1.2.0",
     "model_name": "LayoutModel",
     "state": {
      "_model_module": "@jupyter-widgets/base",
      "_model_module_version": "1.2.0",
      "_model_name": "LayoutModel",
      "_view_count": null,
      "_view_module": "@jupyter-widgets/base",
      "_view_module_version": "1.2.0",
      "_view_name": "LayoutView",
      "align_content": null,
      "align_items": null,
      "align_self": null,
      "border": null,
      "bottom": null,
      "display": null,
      "flex": null,
      "flex_flow": null,
      "grid_area": null,
      "grid_auto_columns": null,
      "grid_auto_flow": null,
      "grid_auto_rows": null,
      "grid_column": null,
      "grid_gap": null,
      "grid_row": null,
      "grid_template_areas": null,
      "grid_template_columns": null,
      "grid_template_rows": null,
      "height": null,
      "justify_content": null,
      "justify_items": null,
      "left": null,
      "margin": null,
      "max_height": null,
      "max_width": null,
      "min_height": null,
      "min_width": null,
      "object_fit": null,
      "object_position": null,
      "order": null,
      "overflow": null,
      "overflow_x": null,
      "overflow_y": null,
      "padding": null,
      "right": null,
      "top": null,
      "visibility": null,
      "width": null
     }
    },
    "1459fb80548e4eee9f7d18f87212f7d0": {
     "model_module": "@jupyter-widgets/base",
     "model_module_version": "1.2.0",
     "model_name": "LayoutModel",
     "state": {
      "_model_module": "@jupyter-widgets/base",
      "_model_module_version": "1.2.0",
      "_model_name": "LayoutModel",
      "_view_count": null,
      "_view_module": "@jupyter-widgets/base",
      "_view_module_version": "1.2.0",
      "_view_name": "LayoutView",
      "align_content": null,
      "align_items": null,
      "align_self": null,
      "border": null,
      "bottom": null,
      "display": null,
      "flex": null,
      "flex_flow": null,
      "grid_area": null,
      "grid_auto_columns": null,
      "grid_auto_flow": null,
      "grid_auto_rows": null,
      "grid_column": null,
      "grid_gap": null,
      "grid_row": null,
      "grid_template_areas": null,
      "grid_template_columns": null,
      "grid_template_rows": null,
      "height": null,
      "justify_content": null,
      "justify_items": null,
      "left": null,
      "margin": null,
      "max_height": null,
      "max_width": null,
      "min_height": null,
      "min_width": null,
      "object_fit": null,
      "object_position": null,
      "order": null,
      "overflow": null,
      "overflow_x": null,
      "overflow_y": null,
      "padding": null,
      "right": null,
      "top": null,
      "visibility": null,
      "width": null
     }
    },
    "16ac8535d49f459eb0231adcd0a57e0b": {
     "model_module": "@jupyter-widgets/controls",
     "model_module_version": "1.5.0",
     "model_name": "HTMLModel",
     "state": {
      "_dom_classes": [],
      "_model_module": "@jupyter-widgets/controls",
      "_model_module_version": "1.5.0",
      "_model_name": "HTMLModel",
      "_view_count": null,
      "_view_module": "@jupyter-widgets/controls",
      "_view_module_version": "1.5.0",
      "_view_name": "HTMLView",
      "description": "",
      "description_tooltip": null,
      "layout": "IPY_MODEL_8be1ab4ca889479abc5c0b00f95611f2",
      "placeholder": "​",
      "style": "IPY_MODEL_9ddaaf8bf6ca4f3ab670011c21d21a7c",
      "value": " 10/10 [08:55&lt;00:00, 50.82s/it]"
     }
    },
    "1ddf22ab9eab4a15a0d047c9e4d3e093": {
     "model_module": "@jupyter-widgets/controls",
     "model_module_version": "1.5.0",
     "model_name": "ProgressStyleModel",
     "state": {
      "_model_module": "@jupyter-widgets/controls",
      "_model_module_version": "1.5.0",
      "_model_name": "ProgressStyleModel",
      "_view_count": null,
      "_view_module": "@jupyter-widgets/base",
      "_view_module_version": "1.2.0",
      "_view_name": "StyleView",
      "bar_color": null,
      "description_width": ""
     }
    },
    "1fc38fd1a16e4c2095e9559e5fa9c67d": {
     "model_module": "@jupyter-widgets/controls",
     "model_module_version": "1.5.0",
     "model_name": "ProgressStyleModel",
     "state": {
      "_model_module": "@jupyter-widgets/controls",
      "_model_module_version": "1.5.0",
      "_model_name": "ProgressStyleModel",
      "_view_count": null,
      "_view_module": "@jupyter-widgets/base",
      "_view_module_version": "1.2.0",
      "_view_name": "StyleView",
      "bar_color": null,
      "description_width": ""
     }
    },
    "2231eb603bcb4776b9b1b5759a2bc0f3": {
     "model_module": "@jupyter-widgets/controls",
     "model_module_version": "1.5.0",
     "model_name": "ProgressStyleModel",
     "state": {
      "_model_module": "@jupyter-widgets/controls",
      "_model_module_version": "1.5.0",
      "_model_name": "ProgressStyleModel",
      "_view_count": null,
      "_view_module": "@jupyter-widgets/base",
      "_view_module_version": "1.2.0",
      "_view_name": "StyleView",
      "bar_color": null,
      "description_width": ""
     }
    },
    "258b5d1d1a674fc8a1629bce87cce1b3": {
     "model_module": "@jupyter-widgets/base",
     "model_module_version": "1.2.0",
     "model_name": "LayoutModel",
     "state": {
      "_model_module": "@jupyter-widgets/base",
      "_model_module_version": "1.2.0",
      "_model_name": "LayoutModel",
      "_view_count": null,
      "_view_module": "@jupyter-widgets/base",
      "_view_module_version": "1.2.0",
      "_view_name": "LayoutView",
      "align_content": null,
      "align_items": null,
      "align_self": null,
      "border": null,
      "bottom": null,
      "display": null,
      "flex": null,
      "flex_flow": null,
      "grid_area": null,
      "grid_auto_columns": null,
      "grid_auto_flow": null,
      "grid_auto_rows": null,
      "grid_column": null,
      "grid_gap": null,
      "grid_row": null,
      "grid_template_areas": null,
      "grid_template_columns": null,
      "grid_template_rows": null,
      "height": null,
      "justify_content": null,
      "justify_items": null,
      "left": null,
      "margin": null,
      "max_height": null,
      "max_width": null,
      "min_height": null,
      "min_width": null,
      "object_fit": null,
      "object_position": null,
      "order": null,
      "overflow": null,
      "overflow_x": null,
      "overflow_y": null,
      "padding": null,
      "right": null,
      "top": null,
      "visibility": null,
      "width": null
     }
    },
    "26d1e2e92c494f2db8fdce4a26a418fa": {
     "model_module": "@jupyter-widgets/controls",
     "model_module_version": "1.5.0",
     "model_name": "DescriptionStyleModel",
     "state": {
      "_model_module": "@jupyter-widgets/controls",
      "_model_module_version": "1.5.0",
      "_model_name": "DescriptionStyleModel",
      "_view_count": null,
      "_view_module": "@jupyter-widgets/base",
      "_view_module_version": "1.2.0",
      "_view_name": "StyleView",
      "description_width": ""
     }
    },
    "2aa15ca2a7474fdeb156bada9c7124e6": {
     "model_module": "@jupyter-widgets/controls",
     "model_module_version": "1.5.0",
     "model_name": "HTMLModel",
     "state": {
      "_dom_classes": [],
      "_model_module": "@jupyter-widgets/controls",
      "_model_module_version": "1.5.0",
      "_model_name": "HTMLModel",
      "_view_count": null,
      "_view_module": "@jupyter-widgets/controls",
      "_view_module_version": "1.5.0",
      "_view_name": "HTMLView",
      "description": "",
      "description_tooltip": null,
      "layout": "IPY_MODEL_6c81ab1109ca4075ad51cff76df98e6f",
      "placeholder": "​",
      "style": "IPY_MODEL_858bad13315b44c6ac0cdc1bb9bebee9",
      "value": "100%"
     }
    },
    "2ebeb26107164e95a86d7ba8575d4974": {
     "model_module": "@jupyter-widgets/controls",
     "model_module_version": "1.5.0",
     "model_name": "DescriptionStyleModel",
     "state": {
      "_model_module": "@jupyter-widgets/controls",
      "_model_module_version": "1.5.0",
      "_model_name": "DescriptionStyleModel",
      "_view_count": null,
      "_view_module": "@jupyter-widgets/base",
      "_view_module_version": "1.2.0",
      "_view_name": "StyleView",
      "description_width": ""
     }
    },
    "302ce66323ec4712bf979b4d8cd08493": {
     "model_module": "@jupyter-widgets/controls",
     "model_module_version": "1.5.0",
     "model_name": "HTMLModel",
     "state": {
      "_dom_classes": [],
      "_model_module": "@jupyter-widgets/controls",
      "_model_module_version": "1.5.0",
      "_model_name": "HTMLModel",
      "_view_count": null,
      "_view_module": "@jupyter-widgets/controls",
      "_view_module_version": "1.5.0",
      "_view_name": "HTMLView",
      "description": "",
      "description_tooltip": null,
      "layout": "IPY_MODEL_d4923a46fc4f48f6a603680858439eae",
      "placeholder": "​",
      "style": "IPY_MODEL_6b9bd017e45c4e3898cbe35efedc2769",
      "value": " 5/5 [02:30&lt;00:00, 30.37s/it]"
     }
    },
    "36818ad3c2204b18b3c1c4c404763d0d": {
     "model_module": "@jupyter-widgets/base",
     "model_module_version": "1.2.0",
     "model_name": "LayoutModel",
     "state": {
      "_model_module": "@jupyter-widgets/base",
      "_model_module_version": "1.2.0",
      "_model_name": "LayoutModel",
      "_view_count": null,
      "_view_module": "@jupyter-widgets/base",
      "_view_module_version": "1.2.0",
      "_view_name": "LayoutView",
      "align_content": null,
      "align_items": null,
      "align_self": null,
      "border": null,
      "bottom": null,
      "display": null,
      "flex": null,
      "flex_flow": null,
      "grid_area": null,
      "grid_auto_columns": null,
      "grid_auto_flow": null,
      "grid_auto_rows": null,
      "grid_column": null,
      "grid_gap": null,
      "grid_row": null,
      "grid_template_areas": null,
      "grid_template_columns": null,
      "grid_template_rows": null,
      "height": null,
      "justify_content": null,
      "justify_items": null,
      "left": null,
      "margin": null,
      "max_height": null,
      "max_width": null,
      "min_height": null,
      "min_width": null,
      "object_fit": null,
      "object_position": null,
      "order": null,
      "overflow": null,
      "overflow_x": null,
      "overflow_y": null,
      "padding": null,
      "right": null,
      "top": null,
      "visibility": null,
      "width": null
     }
    },
    "3a2b08ffbe894bd190cb4aabd581e244": {
     "model_module": "@jupyter-widgets/controls",
     "model_module_version": "1.5.0",
     "model_name": "DescriptionStyleModel",
     "state": {
      "_model_module": "@jupyter-widgets/controls",
      "_model_module_version": "1.5.0",
      "_model_name": "DescriptionStyleModel",
      "_view_count": null,
      "_view_module": "@jupyter-widgets/base",
      "_view_module_version": "1.2.0",
      "_view_name": "StyleView",
      "description_width": ""
     }
    },
    "4aa3cd4d1d7b4782b78375ccbdee41e5": {
     "model_module": "@jupyter-widgets/controls",
     "model_module_version": "1.5.0",
     "model_name": "HTMLModel",
     "state": {
      "_dom_classes": [],
      "_model_module": "@jupyter-widgets/controls",
      "_model_module_version": "1.5.0",
      "_model_name": "HTMLModel",
      "_view_count": null,
      "_view_module": "@jupyter-widgets/controls",
      "_view_module_version": "1.5.0",
      "_view_name": "HTMLView",
      "description": "",
      "description_tooltip": null,
      "layout": "IPY_MODEL_677fb8f603d64166930848d6e1ce5517",
      "placeholder": "​",
      "style": "IPY_MODEL_896e0810d98d45a5a7c15676ef760ae2",
      "value": "100%"
     }
    },
    "4e19ebdc53604fee9a926b5253fbe1b1": {
     "model_module": "@jupyter-widgets/controls",
     "model_module_version": "1.5.0",
     "model_name": "HTMLModel",
     "state": {
      "_dom_classes": [],
      "_model_module": "@jupyter-widgets/controls",
      "_model_module_version": "1.5.0",
      "_model_name": "HTMLModel",
      "_view_count": null,
      "_view_module": "@jupyter-widgets/controls",
      "_view_module_version": "1.5.0",
      "_view_name": "HTMLView",
      "description": "",
      "description_tooltip": null,
      "layout": "IPY_MODEL_db1e7e947d0e460cb40143b6c8d16a3a",
      "placeholder": "​",
      "style": "IPY_MODEL_26d1e2e92c494f2db8fdce4a26a418fa",
      "value": " 5/5 [01:17&lt;00:00, 17.18s/it]"
     }
    },
    "506d56fee8124fa99ae6720ae6132db9": {
     "model_module": "@jupyter-widgets/base",
     "model_module_version": "1.2.0",
     "model_name": "LayoutModel",
     "state": {
      "_model_module": "@jupyter-widgets/base",
      "_model_module_version": "1.2.0",
      "_model_name": "LayoutModel",
      "_view_count": null,
      "_view_module": "@jupyter-widgets/base",
      "_view_module_version": "1.2.0",
      "_view_name": "LayoutView",
      "align_content": null,
      "align_items": null,
      "align_self": null,
      "border": null,
      "bottom": null,
      "display": null,
      "flex": null,
      "flex_flow": null,
      "grid_area": null,
      "grid_auto_columns": null,
      "grid_auto_flow": null,
      "grid_auto_rows": null,
      "grid_column": null,
      "grid_gap": null,
      "grid_row": null,
      "grid_template_areas": null,
      "grid_template_columns": null,
      "grid_template_rows": null,
      "height": null,
      "justify_content": null,
      "justify_items": null,
      "left": null,
      "margin": null,
      "max_height": null,
      "max_width": null,
      "min_height": null,
      "min_width": null,
      "object_fit": null,
      "object_position": null,
      "order": null,
      "overflow": null,
      "overflow_x": null,
      "overflow_y": null,
      "padding": null,
      "right": null,
      "top": null,
      "visibility": null,
      "width": null
     }
    },
    "50da728596d44904852a420f8ee57ec1": {
     "model_module": "@jupyter-widgets/controls",
     "model_module_version": "1.5.0",
     "model_name": "DescriptionStyleModel",
     "state": {
      "_model_module": "@jupyter-widgets/controls",
      "_model_module_version": "1.5.0",
      "_model_name": "DescriptionStyleModel",
      "_view_count": null,
      "_view_module": "@jupyter-widgets/base",
      "_view_module_version": "1.2.0",
      "_view_name": "StyleView",
      "description_width": ""
     }
    },
    "5141f13840234e009b6bc6668d8f37ff": {
     "model_module": "@jupyter-widgets/controls",
     "model_module_version": "1.5.0",
     "model_name": "ProgressStyleModel",
     "state": {
      "_model_module": "@jupyter-widgets/controls",
      "_model_module_version": "1.5.0",
      "_model_name": "ProgressStyleModel",
      "_view_count": null,
      "_view_module": "@jupyter-widgets/base",
      "_view_module_version": "1.2.0",
      "_view_name": "StyleView",
      "bar_color": null,
      "description_width": ""
     }
    },
    "54757ff31cba4565a082e0ced25747a0": {
     "model_module": "@jupyter-widgets/controls",
     "model_module_version": "1.5.0",
     "model_name": "DescriptionStyleModel",
     "state": {
      "_model_module": "@jupyter-widgets/controls",
      "_model_module_version": "1.5.0",
      "_model_name": "DescriptionStyleModel",
      "_view_count": null,
      "_view_module": "@jupyter-widgets/base",
      "_view_module_version": "1.2.0",
      "_view_name": "StyleView",
      "description_width": ""
     }
    },
    "55791ff5e82944c299bf126caee091d9": {
     "model_module": "@jupyter-widgets/base",
     "model_module_version": "1.2.0",
     "model_name": "LayoutModel",
     "state": {
      "_model_module": "@jupyter-widgets/base",
      "_model_module_version": "1.2.0",
      "_model_name": "LayoutModel",
      "_view_count": null,
      "_view_module": "@jupyter-widgets/base",
      "_view_module_version": "1.2.0",
      "_view_name": "LayoutView",
      "align_content": null,
      "align_items": null,
      "align_self": null,
      "border": null,
      "bottom": null,
      "display": null,
      "flex": null,
      "flex_flow": null,
      "grid_area": null,
      "grid_auto_columns": null,
      "grid_auto_flow": null,
      "grid_auto_rows": null,
      "grid_column": null,
      "grid_gap": null,
      "grid_row": null,
      "grid_template_areas": null,
      "grid_template_columns": null,
      "grid_template_rows": null,
      "height": null,
      "justify_content": null,
      "justify_items": null,
      "left": null,
      "margin": null,
      "max_height": null,
      "max_width": null,
      "min_height": null,
      "min_width": null,
      "object_fit": null,
      "object_position": null,
      "order": null,
      "overflow": null,
      "overflow_x": null,
      "overflow_y": null,
      "padding": null,
      "right": null,
      "top": null,
      "visibility": null,
      "width": null
     }
    },
    "5697e39d3342446b8f58c37ee27a5916": {
     "model_module": "@jupyter-widgets/controls",
     "model_module_version": "1.5.0",
     "model_name": "FloatProgressModel",
     "state": {
      "_dom_classes": [],
      "_model_module": "@jupyter-widgets/controls",
      "_model_module_version": "1.5.0",
      "_model_name": "FloatProgressModel",
      "_view_count": null,
      "_view_module": "@jupyter-widgets/controls",
      "_view_module_version": "1.5.0",
      "_view_name": "ProgressView",
      "bar_style": "success",
      "description": "",
      "description_tooltip": null,
      "layout": "IPY_MODEL_85c413daeaba4b8c858ee777c2b8889e",
      "max": 20,
      "min": 0,
      "orientation": "horizontal",
      "style": "IPY_MODEL_e8e09cd45aa840bbaeff6d72b0b72f7a",
      "value": 20
     }
    },
    "573f1c3392c8412d8c18cee3328becdd": {
     "model_module": "@jupyter-widgets/base",
     "model_module_version": "1.2.0",
     "model_name": "LayoutModel",
     "state": {
      "_model_module": "@jupyter-widgets/base",
      "_model_module_version": "1.2.0",
      "_model_name": "LayoutModel",
      "_view_count": null,
      "_view_module": "@jupyter-widgets/base",
      "_view_module_version": "1.2.0",
      "_view_name": "LayoutView",
      "align_content": null,
      "align_items": null,
      "align_self": null,
      "border": null,
      "bottom": null,
      "display": null,
      "flex": null,
      "flex_flow": null,
      "grid_area": null,
      "grid_auto_columns": null,
      "grid_auto_flow": null,
      "grid_auto_rows": null,
      "grid_column": null,
      "grid_gap": null,
      "grid_row": null,
      "grid_template_areas": null,
      "grid_template_columns": null,
      "grid_template_rows": null,
      "height": null,
      "justify_content": null,
      "justify_items": null,
      "left": null,
      "margin": null,
      "max_height": null,
      "max_width": null,
      "min_height": null,
      "min_width": null,
      "object_fit": null,
      "object_position": null,
      "order": null,
      "overflow": null,
      "overflow_x": null,
      "overflow_y": null,
      "padding": null,
      "right": null,
      "top": null,
      "visibility": null,
      "width": null
     }
    },
    "5912403568874f9bbdd362e1ce3be0c1": {
     "model_module": "@jupyter-widgets/base",
     "model_module_version": "1.2.0",
     "model_name": "LayoutModel",
     "state": {
      "_model_module": "@jupyter-widgets/base",
      "_model_module_version": "1.2.0",
      "_model_name": "LayoutModel",
      "_view_count": null,
      "_view_module": "@jupyter-widgets/base",
      "_view_module_version": "1.2.0",
      "_view_name": "LayoutView",
      "align_content": null,
      "align_items": null,
      "align_self": null,
      "border": null,
      "bottom": null,
      "display": null,
      "flex": null,
      "flex_flow": null,
      "grid_area": null,
      "grid_auto_columns": null,
      "grid_auto_flow": null,
      "grid_auto_rows": null,
      "grid_column": null,
      "grid_gap": null,
      "grid_row": null,
      "grid_template_areas": null,
      "grid_template_columns": null,
      "grid_template_rows": null,
      "height": null,
      "justify_content": null,
      "justify_items": null,
      "left": null,
      "margin": null,
      "max_height": null,
      "max_width": null,
      "min_height": null,
      "min_width": null,
      "object_fit": null,
      "object_position": null,
      "order": null,
      "overflow": null,
      "overflow_x": null,
      "overflow_y": null,
      "padding": null,
      "right": null,
      "top": null,
      "visibility": null,
      "width": null
     }
    },
    "677fb8f603d64166930848d6e1ce5517": {
     "model_module": "@jupyter-widgets/base",
     "model_module_version": "1.2.0",
     "model_name": "LayoutModel",
     "state": {
      "_model_module": "@jupyter-widgets/base",
      "_model_module_version": "1.2.0",
      "_model_name": "LayoutModel",
      "_view_count": null,
      "_view_module": "@jupyter-widgets/base",
      "_view_module_version": "1.2.0",
      "_view_name": "LayoutView",
      "align_content": null,
      "align_items": null,
      "align_self": null,
      "border": null,
      "bottom": null,
      "display": null,
      "flex": null,
      "flex_flow": null,
      "grid_area": null,
      "grid_auto_columns": null,
      "grid_auto_flow": null,
      "grid_auto_rows": null,
      "grid_column": null,
      "grid_gap": null,
      "grid_row": null,
      "grid_template_areas": null,
      "grid_template_columns": null,
      "grid_template_rows": null,
      "height": null,
      "justify_content": null,
      "justify_items": null,
      "left": null,
      "margin": null,
      "max_height": null,
      "max_width": null,
      "min_height": null,
      "min_width": null,
      "object_fit": null,
      "object_position": null,
      "order": null,
      "overflow": null,
      "overflow_x": null,
      "overflow_y": null,
      "padding": null,
      "right": null,
      "top": null,
      "visibility": null,
      "width": null
     }
    },
    "6b9bd017e45c4e3898cbe35efedc2769": {
     "model_module": "@jupyter-widgets/controls",
     "model_module_version": "1.5.0",
     "model_name": "DescriptionStyleModel",
     "state": {
      "_model_module": "@jupyter-widgets/controls",
      "_model_module_version": "1.5.0",
      "_model_name": "DescriptionStyleModel",
      "_view_count": null,
      "_view_module": "@jupyter-widgets/base",
      "_view_module_version": "1.2.0",
      "_view_name": "StyleView",
      "description_width": ""
     }
    },
    "6bc642a5cfad404a99dc2959ef7bb06e": {
     "model_module": "@jupyter-widgets/base",
     "model_module_version": "1.2.0",
     "model_name": "LayoutModel",
     "state": {
      "_model_module": "@jupyter-widgets/base",
      "_model_module_version": "1.2.0",
      "_model_name": "LayoutModel",
      "_view_count": null,
      "_view_module": "@jupyter-widgets/base",
      "_view_module_version": "1.2.0",
      "_view_name": "LayoutView",
      "align_content": null,
      "align_items": null,
      "align_self": null,
      "border": null,
      "bottom": null,
      "display": null,
      "flex": null,
      "flex_flow": null,
      "grid_area": null,
      "grid_auto_columns": null,
      "grid_auto_flow": null,
      "grid_auto_rows": null,
      "grid_column": null,
      "grid_gap": null,
      "grid_row": null,
      "grid_template_areas": null,
      "grid_template_columns": null,
      "grid_template_rows": null,
      "height": null,
      "justify_content": null,
      "justify_items": null,
      "left": null,
      "margin": null,
      "max_height": null,
      "max_width": null,
      "min_height": null,
      "min_width": null,
      "object_fit": null,
      "object_position": null,
      "order": null,
      "overflow": null,
      "overflow_x": null,
      "overflow_y": null,
      "padding": null,
      "right": null,
      "top": null,
      "visibility": null,
      "width": null
     }
    },
    "6c81ab1109ca4075ad51cff76df98e6f": {
     "model_module": "@jupyter-widgets/base",
     "model_module_version": "1.2.0",
     "model_name": "LayoutModel",
     "state": {
      "_model_module": "@jupyter-widgets/base",
      "_model_module_version": "1.2.0",
      "_model_name": "LayoutModel",
      "_view_count": null,
      "_view_module": "@jupyter-widgets/base",
      "_view_module_version": "1.2.0",
      "_view_name": "LayoutView",
      "align_content": null,
      "align_items": null,
      "align_self": null,
      "border": null,
      "bottom": null,
      "display": null,
      "flex": null,
      "flex_flow": null,
      "grid_area": null,
      "grid_auto_columns": null,
      "grid_auto_flow": null,
      "grid_auto_rows": null,
      "grid_column": null,
      "grid_gap": null,
      "grid_row": null,
      "grid_template_areas": null,
      "grid_template_columns": null,
      "grid_template_rows": null,
      "height": null,
      "justify_content": null,
      "justify_items": null,
      "left": null,
      "margin": null,
      "max_height": null,
      "max_width": null,
      "min_height": null,
      "min_width": null,
      "object_fit": null,
      "object_position": null,
      "order": null,
      "overflow": null,
      "overflow_x": null,
      "overflow_y": null,
      "padding": null,
      "right": null,
      "top": null,
      "visibility": null,
      "width": null
     }
    },
    "6e7b8b948918434b9437ad4779144f1b": {
     "model_module": "@jupyter-widgets/controls",
     "model_module_version": "1.5.0",
     "model_name": "FloatProgressModel",
     "state": {
      "_dom_classes": [],
      "_model_module": "@jupyter-widgets/controls",
      "_model_module_version": "1.5.0",
      "_model_name": "FloatProgressModel",
      "_view_count": null,
      "_view_module": "@jupyter-widgets/controls",
      "_view_module_version": "1.5.0",
      "_view_name": "ProgressView",
      "bar_style": "success",
      "description": "",
      "description_tooltip": null,
      "layout": "IPY_MODEL_6bc642a5cfad404a99dc2959ef7bb06e",
      "max": 10,
      "min": 0,
      "orientation": "horizontal",
      "style": "IPY_MODEL_1fc38fd1a16e4c2095e9559e5fa9c67d",
      "value": 10
     }
    },
    "6ea9b9e4910049b294516ed0de5e4aab": {
     "model_module": "@jupyter-widgets/controls",
     "model_module_version": "1.5.0",
     "model_name": "HBoxModel",
     "state": {
      "_dom_classes": [],
      "_model_module": "@jupyter-widgets/controls",
      "_model_module_version": "1.5.0",
      "_model_name": "HBoxModel",
      "_view_count": null,
      "_view_module": "@jupyter-widgets/controls",
      "_view_module_version": "1.5.0",
      "_view_name": "HBoxView",
      "box_style": "",
      "children": [
       "IPY_MODEL_4aa3cd4d1d7b4782b78375ccbdee41e5",
       "IPY_MODEL_dbfc4742f5ef4cf88f745d95e56bd72f",
       "IPY_MODEL_4e19ebdc53604fee9a926b5253fbe1b1"
      ],
      "layout": "IPY_MODEL_0cddc243f40648ecab028f0e067204c7"
     }
    },
    "7137f000800b42b98c776b8360ba137e": {
     "model_module": "@jupyter-widgets/base",
     "model_module_version": "1.2.0",
     "model_name": "LayoutModel",
     "state": {
      "_model_module": "@jupyter-widgets/base",
      "_model_module_version": "1.2.0",
      "_model_name": "LayoutModel",
      "_view_count": null,
      "_view_module": "@jupyter-widgets/base",
      "_view_module_version": "1.2.0",
      "_view_name": "LayoutView",
      "align_content": null,
      "align_items": null,
      "align_self": null,
      "border": null,
      "bottom": null,
      "display": null,
      "flex": null,
      "flex_flow": null,
      "grid_area": null,
      "grid_auto_columns": null,
      "grid_auto_flow": null,
      "grid_auto_rows": null,
      "grid_column": null,
      "grid_gap": null,
      "grid_row": null,
      "grid_template_areas": null,
      "grid_template_columns": null,
      "grid_template_rows": null,
      "height": null,
      "justify_content": null,
      "justify_items": null,
      "left": null,
      "margin": null,
      "max_height": null,
      "max_width": null,
      "min_height": null,
      "min_width": null,
      "object_fit": null,
      "object_position": null,
      "order": null,
      "overflow": null,
      "overflow_x": null,
      "overflow_y": null,
      "padding": null,
      "right": null,
      "top": null,
      "visibility": null,
      "width": null
     }
    },
    "722b405b30a84c22a389f3059c71af5d": {
     "model_module": "@jupyter-widgets/controls",
     "model_module_version": "1.5.0",
     "model_name": "ProgressStyleModel",
     "state": {
      "_model_module": "@jupyter-widgets/controls",
      "_model_module_version": "1.5.0",
      "_model_name": "ProgressStyleModel",
      "_view_count": null,
      "_view_module": "@jupyter-widgets/base",
      "_view_module_version": "1.2.0",
      "_view_name": "StyleView",
      "bar_color": null,
      "description_width": ""
     }
    },
    "73047fc172b84568a5ae3ba85328559e": {
     "model_module": "@jupyter-widgets/controls",
     "model_module_version": "1.5.0",
     "model_name": "FloatProgressModel",
     "state": {
      "_dom_classes": [],
      "_model_module": "@jupyter-widgets/controls",
      "_model_module_version": "1.5.0",
      "_model_name": "FloatProgressModel",
      "_view_count": null,
      "_view_module": "@jupyter-widgets/controls",
      "_view_module_version": "1.5.0",
      "_view_name": "ProgressView",
      "bar_style": "success",
      "description": "",
      "description_tooltip": null,
      "layout": "IPY_MODEL_573f1c3392c8412d8c18cee3328becdd",
      "max": 5,
      "min": 0,
      "orientation": "horizontal",
      "style": "IPY_MODEL_1ddf22ab9eab4a15a0d047c9e4d3e093",
      "value": 5
     }
    },
    "75e28c0e1c0c4f8abe3e1b6d69781875": {
     "model_module": "@jupyter-widgets/controls",
     "model_module_version": "1.5.0",
     "model_name": "FloatProgressModel",
     "state": {
      "_dom_classes": [],
      "_model_module": "@jupyter-widgets/controls",
      "_model_module_version": "1.5.0",
      "_model_name": "FloatProgressModel",
      "_view_count": null,
      "_view_module": "@jupyter-widgets/controls",
      "_view_module_version": "1.5.0",
      "_view_name": "ProgressView",
      "bar_style": "success",
      "description": "",
      "description_tooltip": null,
      "layout": "IPY_MODEL_8eade50e0ee0444b95d3fcf4f8abee3d",
      "max": 4,
      "min": 0,
      "orientation": "horizontal",
      "style": "IPY_MODEL_2231eb603bcb4776b9b1b5759a2bc0f3",
      "value": 4
     }
    },
    "7ab440aa46834469a28a1c56370711be": {
     "model_module": "@jupyter-widgets/controls",
     "model_module_version": "1.5.0",
     "model_name": "HBoxModel",
     "state": {
      "_dom_classes": [],
      "_model_module": "@jupyter-widgets/controls",
      "_model_module_version": "1.5.0",
      "_model_name": "HBoxModel",
      "_view_count": null,
      "_view_module": "@jupyter-widgets/controls",
      "_view_module_version": "1.5.0",
      "_view_name": "HBoxView",
      "box_style": "",
      "children": [
       "IPY_MODEL_ba8d46bba2d14c75b480bf8363e7f23c",
       "IPY_MODEL_c8e7b8393d64455db4e34d72de114a47",
       "IPY_MODEL_c22460bcf5d94a6da1a62d00c573e7e6"
      ],
      "layout": "IPY_MODEL_c0dd9179beac4e10a6f056dddb0fa24a"
     }
    },
    "7f67a5d78fd7470da706186ab59a1f50": {
     "model_module": "@jupyter-widgets/base",
     "model_module_version": "1.2.0",
     "model_name": "LayoutModel",
     "state": {
      "_model_module": "@jupyter-widgets/base",
      "_model_module_version": "1.2.0",
      "_model_name": "LayoutModel",
      "_view_count": null,
      "_view_module": "@jupyter-widgets/base",
      "_view_module_version": "1.2.0",
      "_view_name": "LayoutView",
      "align_content": null,
      "align_items": null,
      "align_self": null,
      "border": null,
      "bottom": null,
      "display": null,
      "flex": null,
      "flex_flow": null,
      "grid_area": null,
      "grid_auto_columns": null,
      "grid_auto_flow": null,
      "grid_auto_rows": null,
      "grid_column": null,
      "grid_gap": null,
      "grid_row": null,
      "grid_template_areas": null,
      "grid_template_columns": null,
      "grid_template_rows": null,
      "height": null,
      "justify_content": null,
      "justify_items": null,
      "left": null,
      "margin": null,
      "max_height": null,
      "max_width": null,
      "min_height": null,
      "min_width": null,
      "object_fit": null,
      "object_position": null,
      "order": null,
      "overflow": null,
      "overflow_x": null,
      "overflow_y": null,
      "padding": null,
      "right": null,
      "top": null,
      "visibility": null,
      "width": null
     }
    },
    "7fc764592edb4b4088ef6d498690e5fc": {
     "model_module": "@jupyter-widgets/controls",
     "model_module_version": "1.5.0",
     "model_name": "ProgressStyleModel",
     "state": {
      "_model_module": "@jupyter-widgets/controls",
      "_model_module_version": "1.5.0",
      "_model_name": "ProgressStyleModel",
      "_view_count": null,
      "_view_module": "@jupyter-widgets/base",
      "_view_module_version": "1.2.0",
      "_view_name": "StyleView",
      "bar_color": null,
      "description_width": ""
     }
    },
    "80498abac8c04c0488f8d6e96e4332c0": {
     "model_module": "@jupyter-widgets/base",
     "model_module_version": "1.2.0",
     "model_name": "LayoutModel",
     "state": {
      "_model_module": "@jupyter-widgets/base",
      "_model_module_version": "1.2.0",
      "_model_name": "LayoutModel",
      "_view_count": null,
      "_view_module": "@jupyter-widgets/base",
      "_view_module_version": "1.2.0",
      "_view_name": "LayoutView",
      "align_content": null,
      "align_items": null,
      "align_self": null,
      "border": null,
      "bottom": null,
      "display": null,
      "flex": null,
      "flex_flow": null,
      "grid_area": null,
      "grid_auto_columns": null,
      "grid_auto_flow": null,
      "grid_auto_rows": null,
      "grid_column": null,
      "grid_gap": null,
      "grid_row": null,
      "grid_template_areas": null,
      "grid_template_columns": null,
      "grid_template_rows": null,
      "height": null,
      "justify_content": null,
      "justify_items": null,
      "left": null,
      "margin": null,
      "max_height": null,
      "max_width": null,
      "min_height": null,
      "min_width": null,
      "object_fit": null,
      "object_position": null,
      "order": null,
      "overflow": null,
      "overflow_x": null,
      "overflow_y": null,
      "padding": null,
      "right": null,
      "top": null,
      "visibility": null,
      "width": null
     }
    },
    "84a042f0e4104a61b7466470e697219d": {
     "model_module": "@jupyter-widgets/controls",
     "model_module_version": "1.5.0",
     "model_name": "HBoxModel",
     "state": {
      "_dom_classes": [],
      "_model_module": "@jupyter-widgets/controls",
      "_model_module_version": "1.5.0",
      "_model_name": "HBoxModel",
      "_view_count": null,
      "_view_module": "@jupyter-widgets/controls",
      "_view_module_version": "1.5.0",
      "_view_name": "HBoxView",
      "box_style": "",
      "children": [
       "IPY_MODEL_ff6a842cb3474d459dc8d88d4886892c",
       "IPY_MODEL_6e7b8b948918434b9437ad4779144f1b",
       "IPY_MODEL_984c0ded00464e1a8c24cdb71164e85d"
      ],
      "layout": "IPY_MODEL_55791ff5e82944c299bf126caee091d9"
     }
    },
    "858bad13315b44c6ac0cdc1bb9bebee9": {
     "model_module": "@jupyter-widgets/controls",
     "model_module_version": "1.5.0",
     "model_name": "DescriptionStyleModel",
     "state": {
      "_model_module": "@jupyter-widgets/controls",
      "_model_module_version": "1.5.0",
      "_model_name": "DescriptionStyleModel",
      "_view_count": null,
      "_view_module": "@jupyter-widgets/base",
      "_view_module_version": "1.2.0",
      "_view_name": "StyleView",
      "description_width": ""
     }
    },
    "85a6ac251d3948afa5def7f22f68f038": {
     "model_module": "@jupyter-widgets/controls",
     "model_module_version": "1.5.0",
     "model_name": "HTMLModel",
     "state": {
      "_dom_classes": [],
      "_model_module": "@jupyter-widgets/controls",
      "_model_module_version": "1.5.0",
      "_model_name": "HTMLModel",
      "_view_count": null,
      "_view_module": "@jupyter-widgets/controls",
      "_view_module_version": "1.5.0",
      "_view_name": "HTMLView",
      "description": "",
      "description_tooltip": null,
      "layout": "IPY_MODEL_7f67a5d78fd7470da706186ab59a1f50",
      "placeholder": "​",
      "style": "IPY_MODEL_a2e1eb4ea4664288acbb55cfc3aaaa0b",
      "value": "100%"
     }
    },
    "85c413daeaba4b8c858ee777c2b8889e": {
     "model_module": "@jupyter-widgets/base",
     "model_module_version": "1.2.0",
     "model_name": "LayoutModel",
     "state": {
      "_model_module": "@jupyter-widgets/base",
      "_model_module_version": "1.2.0",
      "_model_name": "LayoutModel",
      "_view_count": null,
      "_view_module": "@jupyter-widgets/base",
      "_view_module_version": "1.2.0",
      "_view_name": "LayoutView",
      "align_content": null,
      "align_items": null,
      "align_self": null,
      "border": null,
      "bottom": null,
      "display": null,
      "flex": null,
      "flex_flow": null,
      "grid_area": null,
      "grid_auto_columns": null,
      "grid_auto_flow": null,
      "grid_auto_rows": null,
      "grid_column": null,
      "grid_gap": null,
      "grid_row": null,
      "grid_template_areas": null,
      "grid_template_columns": null,
      "grid_template_rows": null,
      "height": null,
      "justify_content": null,
      "justify_items": null,
      "left": null,
      "margin": null,
      "max_height": null,
      "max_width": null,
      "min_height": null,
      "min_width": null,
      "object_fit": null,
      "object_position": null,
      "order": null,
      "overflow": null,
      "overflow_x": null,
      "overflow_y": null,
      "padding": null,
      "right": null,
      "top": null,
      "visibility": null,
      "width": null
     }
    },
    "896e0810d98d45a5a7c15676ef760ae2": {
     "model_module": "@jupyter-widgets/controls",
     "model_module_version": "1.5.0",
     "model_name": "DescriptionStyleModel",
     "state": {
      "_model_module": "@jupyter-widgets/controls",
      "_model_module_version": "1.5.0",
      "_model_name": "DescriptionStyleModel",
      "_view_count": null,
      "_view_module": "@jupyter-widgets/base",
      "_view_module_version": "1.2.0",
      "_view_name": "StyleView",
      "description_width": ""
     }
    },
    "8a1ee90e3d6f426181db405c6233dcbb": {
     "model_module": "@jupyter-widgets/controls",
     "model_module_version": "1.5.0",
     "model_name": "HBoxModel",
     "state": {
      "_dom_classes": [],
      "_model_module": "@jupyter-widgets/controls",
      "_model_module_version": "1.5.0",
      "_model_name": "HBoxModel",
      "_view_count": null,
      "_view_module": "@jupyter-widgets/controls",
      "_view_module_version": "1.5.0",
      "_view_name": "HBoxView",
      "box_style": "",
      "children": [
       "IPY_MODEL_f85aa510ca994fc7b44a0f1e87313f38",
       "IPY_MODEL_5697e39d3342446b8f58c37ee27a5916",
       "IPY_MODEL_c17f29d57ce84aa384b87419a2c0932d"
      ],
      "layout": "IPY_MODEL_c90271b672c445e69be18ce390ddd2a4"
     }
    },
    "8be1ab4ca889479abc5c0b00f95611f2": {
     "model_module": "@jupyter-widgets/base",
     "model_module_version": "1.2.0",
     "model_name": "LayoutModel",
     "state": {
      "_model_module": "@jupyter-widgets/base",
      "_model_module_version": "1.2.0",
      "_model_name": "LayoutModel",
      "_view_count": null,
      "_view_module": "@jupyter-widgets/base",
      "_view_module_version": "1.2.0",
      "_view_name": "LayoutView",
      "align_content": null,
      "align_items": null,
      "align_self": null,
      "border": null,
      "bottom": null,
      "display": null,
      "flex": null,
      "flex_flow": null,
      "grid_area": null,
      "grid_auto_columns": null,
      "grid_auto_flow": null,
      "grid_auto_rows": null,
      "grid_column": null,
      "grid_gap": null,
      "grid_row": null,
      "grid_template_areas": null,
      "grid_template_columns": null,
      "grid_template_rows": null,
      "height": null,
      "justify_content": null,
      "justify_items": null,
      "left": null,
      "margin": null,
      "max_height": null,
      "max_width": null,
      "min_height": null,
      "min_width": null,
      "object_fit": null,
      "object_position": null,
      "order": null,
      "overflow": null,
      "overflow_x": null,
      "overflow_y": null,
      "padding": null,
      "right": null,
      "top": null,
      "visibility": null,
      "width": null
     }
    },
    "8eade50e0ee0444b95d3fcf4f8abee3d": {
     "model_module": "@jupyter-widgets/base",
     "model_module_version": "1.2.0",
     "model_name": "LayoutModel",
     "state": {
      "_model_module": "@jupyter-widgets/base",
      "_model_module_version": "1.2.0",
      "_model_name": "LayoutModel",
      "_view_count": null,
      "_view_module": "@jupyter-widgets/base",
      "_view_module_version": "1.2.0",
      "_view_name": "LayoutView",
      "align_content": null,
      "align_items": null,
      "align_self": null,
      "border": null,
      "bottom": null,
      "display": null,
      "flex": null,
      "flex_flow": null,
      "grid_area": null,
      "grid_auto_columns": null,
      "grid_auto_flow": null,
      "grid_auto_rows": null,
      "grid_column": null,
      "grid_gap": null,
      "grid_row": null,
      "grid_template_areas": null,
      "grid_template_columns": null,
      "grid_template_rows": null,
      "height": null,
      "justify_content": null,
      "justify_items": null,
      "left": null,
      "margin": null,
      "max_height": null,
      "max_width": null,
      "min_height": null,
      "min_width": null,
      "object_fit": null,
      "object_position": null,
      "order": null,
      "overflow": null,
      "overflow_x": null,
      "overflow_y": null,
      "padding": null,
      "right": null,
      "top": null,
      "visibility": null,
      "width": null
     }
    },
    "96ff925ceae74381acc685393aa1d41b": {
     "model_module": "@jupyter-widgets/controls",
     "model_module_version": "1.5.0",
     "model_name": "HBoxModel",
     "state": {
      "_dom_classes": [],
      "_model_module": "@jupyter-widgets/controls",
      "_model_module_version": "1.5.0",
      "_model_name": "HBoxModel",
      "_view_count": null,
      "_view_module": "@jupyter-widgets/controls",
      "_view_module_version": "1.5.0",
      "_view_name": "HBoxView",
      "box_style": "",
      "children": [
       "IPY_MODEL_d587bfe885e048d48e0fc95e3b44c2e9",
       "IPY_MODEL_d94bd32dab0547a1bb07b9f381d5db60",
       "IPY_MODEL_16ac8535d49f459eb0231adcd0a57e0b"
      ],
      "layout": "IPY_MODEL_d90a19a8ce2c45138864ccac12e037d9"
     }
    },
    "984c0ded00464e1a8c24cdb71164e85d": {
     "model_module": "@jupyter-widgets/controls",
     "model_module_version": "1.5.0",
     "model_name": "HTMLModel",
     "state": {
      "_dom_classes": [],
      "_model_module": "@jupyter-widgets/controls",
      "_model_module_version": "1.5.0",
      "_model_name": "HTMLModel",
      "_view_count": null,
      "_view_module": "@jupyter-widgets/controls",
      "_view_module_version": "1.5.0",
      "_view_name": "HTMLView",
      "description": "",
      "description_tooltip": null,
      "layout": "IPY_MODEL_80498abac8c04c0488f8d6e96e4332c0",
      "placeholder": "​",
      "style": "IPY_MODEL_e95c09132a2a40d1ac96cd8fbc7f4f68",
      "value": " 10/10 [02:56&lt;00:00, 17.05s/it]"
     }
    },
    "9ddaaf8bf6ca4f3ab670011c21d21a7c": {
     "model_module": "@jupyter-widgets/controls",
     "model_module_version": "1.5.0",
     "model_name": "DescriptionStyleModel",
     "state": {
      "_model_module": "@jupyter-widgets/controls",
      "_model_module_version": "1.5.0",
      "_model_name": "DescriptionStyleModel",
      "_view_count": null,
      "_view_module": "@jupyter-widgets/base",
      "_view_module_version": "1.2.0",
      "_view_name": "StyleView",
      "description_width": ""
     }
    },
    "9e54c2bbebec4168ac39e46adb5d549d": {
     "model_module": "@jupyter-widgets/controls",
     "model_module_version": "1.5.0",
     "model_name": "DescriptionStyleModel",
     "state": {
      "_model_module": "@jupyter-widgets/controls",
      "_model_module_version": "1.5.0",
      "_model_name": "DescriptionStyleModel",
      "_view_count": null,
      "_view_module": "@jupyter-widgets/base",
      "_view_module_version": "1.2.0",
      "_view_name": "StyleView",
      "description_width": ""
     }
    },
    "9f282a12491248249f72fa4c6cba9c2a": {
     "model_module": "@jupyter-widgets/base",
     "model_module_version": "1.2.0",
     "model_name": "LayoutModel",
     "state": {
      "_model_module": "@jupyter-widgets/base",
      "_model_module_version": "1.2.0",
      "_model_name": "LayoutModel",
      "_view_count": null,
      "_view_module": "@jupyter-widgets/base",
      "_view_module_version": "1.2.0",
      "_view_name": "LayoutView",
      "align_content": null,
      "align_items": null,
      "align_self": null,
      "border": null,
      "bottom": null,
      "display": null,
      "flex": null,
      "flex_flow": null,
      "grid_area": null,
      "grid_auto_columns": null,
      "grid_auto_flow": null,
      "grid_auto_rows": null,
      "grid_column": null,
      "grid_gap": null,
      "grid_row": null,
      "grid_template_areas": null,
      "grid_template_columns": null,
      "grid_template_rows": null,
      "height": null,
      "justify_content": null,
      "justify_items": null,
      "left": null,
      "margin": null,
      "max_height": null,
      "max_width": null,
      "min_height": null,
      "min_width": null,
      "object_fit": null,
      "object_position": null,
      "order": null,
      "overflow": null,
      "overflow_x": null,
      "overflow_y": null,
      "padding": null,
      "right": null,
      "top": null,
      "visibility": null,
      "width": null
     }
    },
    "a0170b3794e04a8fba2e9b38b1df60fa": {
     "model_module": "@jupyter-widgets/controls",
     "model_module_version": "1.5.0",
     "model_name": "DescriptionStyleModel",
     "state": {
      "_model_module": "@jupyter-widgets/controls",
      "_model_module_version": "1.5.0",
      "_model_name": "DescriptionStyleModel",
      "_view_count": null,
      "_view_module": "@jupyter-widgets/base",
      "_view_module_version": "1.2.0",
      "_view_name": "StyleView",
      "description_width": ""
     }
    },
    "a1a7073a272e4c21af2ff961d85f16de": {
     "model_module": "@jupyter-widgets/controls",
     "model_module_version": "1.5.0",
     "model_name": "DescriptionStyleModel",
     "state": {
      "_model_module": "@jupyter-widgets/controls",
      "_model_module_version": "1.5.0",
      "_model_name": "DescriptionStyleModel",
      "_view_count": null,
      "_view_module": "@jupyter-widgets/base",
      "_view_module_version": "1.2.0",
      "_view_name": "StyleView",
      "description_width": ""
     }
    },
    "a298f1c4dc614468a6e894cec6db152f": {
     "model_module": "@jupyter-widgets/base",
     "model_module_version": "1.2.0",
     "model_name": "LayoutModel",
     "state": {
      "_model_module": "@jupyter-widgets/base",
      "_model_module_version": "1.2.0",
      "_model_name": "LayoutModel",
      "_view_count": null,
      "_view_module": "@jupyter-widgets/base",
      "_view_module_version": "1.2.0",
      "_view_name": "LayoutView",
      "align_content": null,
      "align_items": null,
      "align_self": null,
      "border": null,
      "bottom": null,
      "display": null,
      "flex": null,
      "flex_flow": null,
      "grid_area": null,
      "grid_auto_columns": null,
      "grid_auto_flow": null,
      "grid_auto_rows": null,
      "grid_column": null,
      "grid_gap": null,
      "grid_row": null,
      "grid_template_areas": null,
      "grid_template_columns": null,
      "grid_template_rows": null,
      "height": null,
      "justify_content": null,
      "justify_items": null,
      "left": null,
      "margin": null,
      "max_height": null,
      "max_width": null,
      "min_height": null,
      "min_width": null,
      "object_fit": null,
      "object_position": null,
      "order": null,
      "overflow": null,
      "overflow_x": null,
      "overflow_y": null,
      "padding": null,
      "right": null,
      "top": null,
      "visibility": null,
      "width": null
     }
    },
    "a2e1eb4ea4664288acbb55cfc3aaaa0b": {
     "model_module": "@jupyter-widgets/controls",
     "model_module_version": "1.5.0",
     "model_name": "DescriptionStyleModel",
     "state": {
      "_model_module": "@jupyter-widgets/controls",
      "_model_module_version": "1.5.0",
      "_model_name": "DescriptionStyleModel",
      "_view_count": null,
      "_view_module": "@jupyter-widgets/base",
      "_view_module_version": "1.2.0",
      "_view_name": "StyleView",
      "description_width": ""
     }
    },
    "aa5e3caefd8d490c86b492f97648aece": {
     "model_module": "@jupyter-widgets/base",
     "model_module_version": "1.2.0",
     "model_name": "LayoutModel",
     "state": {
      "_model_module": "@jupyter-widgets/base",
      "_model_module_version": "1.2.0",
      "_model_name": "LayoutModel",
      "_view_count": null,
      "_view_module": "@jupyter-widgets/base",
      "_view_module_version": "1.2.0",
      "_view_name": "LayoutView",
      "align_content": null,
      "align_items": null,
      "align_self": null,
      "border": null,
      "bottom": null,
      "display": null,
      "flex": null,
      "flex_flow": null,
      "grid_area": null,
      "grid_auto_columns": null,
      "grid_auto_flow": null,
      "grid_auto_rows": null,
      "grid_column": null,
      "grid_gap": null,
      "grid_row": null,
      "grid_template_areas": null,
      "grid_template_columns": null,
      "grid_template_rows": null,
      "height": null,
      "justify_content": null,
      "justify_items": null,
      "left": null,
      "margin": null,
      "max_height": null,
      "max_width": null,
      "min_height": null,
      "min_width": null,
      "object_fit": null,
      "object_position": null,
      "order": null,
      "overflow": null,
      "overflow_x": null,
      "overflow_y": null,
      "padding": null,
      "right": null,
      "top": null,
      "visibility": null,
      "width": null
     }
    },
    "abb62a54c9ec42eb81884168691e4a1d": {
     "model_module": "@jupyter-widgets/base",
     "model_module_version": "1.2.0",
     "model_name": "LayoutModel",
     "state": {
      "_model_module": "@jupyter-widgets/base",
      "_model_module_version": "1.2.0",
      "_model_name": "LayoutModel",
      "_view_count": null,
      "_view_module": "@jupyter-widgets/base",
      "_view_module_version": "1.2.0",
      "_view_name": "LayoutView",
      "align_content": null,
      "align_items": null,
      "align_self": null,
      "border": null,
      "bottom": null,
      "display": null,
      "flex": null,
      "flex_flow": null,
      "grid_area": null,
      "grid_auto_columns": null,
      "grid_auto_flow": null,
      "grid_auto_rows": null,
      "grid_column": null,
      "grid_gap": null,
      "grid_row": null,
      "grid_template_areas": null,
      "grid_template_columns": null,
      "grid_template_rows": null,
      "height": null,
      "justify_content": null,
      "justify_items": null,
      "left": null,
      "margin": null,
      "max_height": null,
      "max_width": null,
      "min_height": null,
      "min_width": null,
      "object_fit": null,
      "object_position": null,
      "order": null,
      "overflow": null,
      "overflow_x": null,
      "overflow_y": null,
      "padding": null,
      "right": null,
      "top": null,
      "visibility": null,
      "width": null
     }
    },
    "acd39aa8ba6d4fd98fd313577e71be67": {
     "model_module": "@jupyter-widgets/controls",
     "model_module_version": "1.5.0",
     "model_name": "HBoxModel",
     "state": {
      "_dom_classes": [],
      "_model_module": "@jupyter-widgets/controls",
      "_model_module_version": "1.5.0",
      "_model_name": "HBoxModel",
      "_view_count": null,
      "_view_module": "@jupyter-widgets/controls",
      "_view_module_version": "1.5.0",
      "_view_name": "HBoxView",
      "box_style": "",
      "children": [
       "IPY_MODEL_2aa15ca2a7474fdeb156bada9c7124e6",
       "IPY_MODEL_75e28c0e1c0c4f8abe3e1b6d69781875",
       "IPY_MODEL_e1fa36ceabb4461696283b869f5933c4"
      ],
      "layout": "IPY_MODEL_093099cb3f8445d7aa7d79237fc457b0"
     }
    },
    "ba8d46bba2d14c75b480bf8363e7f23c": {
     "model_module": "@jupyter-widgets/controls",
     "model_module_version": "1.5.0",
     "model_name": "HTMLModel",
     "state": {
      "_dom_classes": [],
      "_model_module": "@jupyter-widgets/controls",
      "_model_module_version": "1.5.0",
      "_model_name": "HTMLModel",
      "_view_count": null,
      "_view_module": "@jupyter-widgets/controls",
      "_view_module_version": "1.5.0",
      "_view_name": "HTMLView",
      "description": "",
      "description_tooltip": null,
      "layout": "IPY_MODEL_7137f000800b42b98c776b8360ba137e",
      "placeholder": "​",
      "style": "IPY_MODEL_9e54c2bbebec4168ac39e46adb5d549d",
      "value": "100%"
     }
    },
    "bb8da3496ab346f3a8f616aa50f439e7": {
     "model_module": "@jupyter-widgets/base",
     "model_module_version": "1.2.0",
     "model_name": "LayoutModel",
     "state": {
      "_model_module": "@jupyter-widgets/base",
      "_model_module_version": "1.2.0",
      "_model_name": "LayoutModel",
      "_view_count": null,
      "_view_module": "@jupyter-widgets/base",
      "_view_module_version": "1.2.0",
      "_view_name": "LayoutView",
      "align_content": null,
      "align_items": null,
      "align_self": null,
      "border": null,
      "bottom": null,
      "display": null,
      "flex": null,
      "flex_flow": null,
      "grid_area": null,
      "grid_auto_columns": null,
      "grid_auto_flow": null,
      "grid_auto_rows": null,
      "grid_column": null,
      "grid_gap": null,
      "grid_row": null,
      "grid_template_areas": null,
      "grid_template_columns": null,
      "grid_template_rows": null,
      "height": null,
      "justify_content": null,
      "justify_items": null,
      "left": null,
      "margin": null,
      "max_height": null,
      "max_width": null,
      "min_height": null,
      "min_width": null,
      "object_fit": null,
      "object_position": null,
      "order": null,
      "overflow": null,
      "overflow_x": null,
      "overflow_y": null,
      "padding": null,
      "right": null,
      "top": null,
      "visibility": null,
      "width": null
     }
    },
    "c0dd9179beac4e10a6f056dddb0fa24a": {
     "model_module": "@jupyter-widgets/base",
     "model_module_version": "1.2.0",
     "model_name": "LayoutModel",
     "state": {
      "_model_module": "@jupyter-widgets/base",
      "_model_module_version": "1.2.0",
      "_model_name": "LayoutModel",
      "_view_count": null,
      "_view_module": "@jupyter-widgets/base",
      "_view_module_version": "1.2.0",
      "_view_name": "LayoutView",
      "align_content": null,
      "align_items": null,
      "align_self": null,
      "border": null,
      "bottom": null,
      "display": null,
      "flex": null,
      "flex_flow": null,
      "grid_area": null,
      "grid_auto_columns": null,
      "grid_auto_flow": null,
      "grid_auto_rows": null,
      "grid_column": null,
      "grid_gap": null,
      "grid_row": null,
      "grid_template_areas": null,
      "grid_template_columns": null,
      "grid_template_rows": null,
      "height": null,
      "justify_content": null,
      "justify_items": null,
      "left": null,
      "margin": null,
      "max_height": null,
      "max_width": null,
      "min_height": null,
      "min_width": null,
      "object_fit": null,
      "object_position": null,
      "order": null,
      "overflow": null,
      "overflow_x": null,
      "overflow_y": null,
      "padding": null,
      "right": null,
      "top": null,
      "visibility": null,
      "width": null
     }
    },
    "c16007c57cd5451e8700098991b43a00": {
     "model_module": "@jupyter-widgets/controls",
     "model_module_version": "1.5.0",
     "model_name": "DescriptionStyleModel",
     "state": {
      "_model_module": "@jupyter-widgets/controls",
      "_model_module_version": "1.5.0",
      "_model_name": "DescriptionStyleModel",
      "_view_count": null,
      "_view_module": "@jupyter-widgets/base",
      "_view_module_version": "1.2.0",
      "_view_name": "StyleView",
      "description_width": ""
     }
    },
    "c17f29d57ce84aa384b87419a2c0932d": {
     "model_module": "@jupyter-widgets/controls",
     "model_module_version": "1.5.0",
     "model_name": "HTMLModel",
     "state": {
      "_dom_classes": [],
      "_model_module": "@jupyter-widgets/controls",
      "_model_module_version": "1.5.0",
      "_model_name": "HTMLModel",
      "_view_count": null,
      "_view_module": "@jupyter-widgets/controls",
      "_view_module_version": "1.5.0",
      "_view_name": "HTMLView",
      "description": "",
      "description_tooltip": null,
      "layout": "IPY_MODEL_e4348cd8dfbd4bf1a3e245d6b77ca134",
      "placeholder": "​",
      "style": "IPY_MODEL_3a2b08ffbe894bd190cb4aabd581e244",
      "value": " 20/20 [00:06&lt;00:00,  3.29it/s]"
     }
    },
    "c22460bcf5d94a6da1a62d00c573e7e6": {
     "model_module": "@jupyter-widgets/controls",
     "model_module_version": "1.5.0",
     "model_name": "HTMLModel",
     "state": {
      "_dom_classes": [],
      "_model_module": "@jupyter-widgets/controls",
      "_model_module_version": "1.5.0",
      "_model_name": "HTMLModel",
      "_view_count": null,
      "_view_module": "@jupyter-widgets/controls",
      "_view_module_version": "1.5.0",
      "_view_name": "HTMLView",
      "description": "",
      "description_tooltip": null,
      "layout": "IPY_MODEL_506d56fee8124fa99ae6720ae6132db9",
      "placeholder": "​",
      "style": "IPY_MODEL_2ebeb26107164e95a86d7ba8575d4974",
      "value": " 5/5 [00:50&lt;00:00, 10.06s/it]"
     }
    },
    "c8e7b8393d64455db4e34d72de114a47": {
     "model_module": "@jupyter-widgets/controls",
     "model_module_version": "1.5.0",
     "model_name": "FloatProgressModel",
     "state": {
      "_dom_classes": [],
      "_model_module": "@jupyter-widgets/controls",
      "_model_module_version": "1.5.0",
      "_model_name": "FloatProgressModel",
      "_view_count": null,
      "_view_module": "@jupyter-widgets/controls",
      "_view_module_version": "1.5.0",
      "_view_name": "ProgressView",
      "bar_style": "success",
      "description": "",
      "description_tooltip": null,
      "layout": "IPY_MODEL_36818ad3c2204b18b3c1c4c404763d0d",
      "max": 5,
      "min": 0,
      "orientation": "horizontal",
      "style": "IPY_MODEL_5141f13840234e009b6bc6668d8f37ff",
      "value": 5
     }
    },
    "c90271b672c445e69be18ce390ddd2a4": {
     "model_module": "@jupyter-widgets/base",
     "model_module_version": "1.2.0",
     "model_name": "LayoutModel",
     "state": {
      "_model_module": "@jupyter-widgets/base",
      "_model_module_version": "1.2.0",
      "_model_name": "LayoutModel",
      "_view_count": null,
      "_view_module": "@jupyter-widgets/base",
      "_view_module_version": "1.2.0",
      "_view_name": "LayoutView",
      "align_content": null,
      "align_items": null,
      "align_self": null,
      "border": null,
      "bottom": null,
      "display": null,
      "flex": null,
      "flex_flow": null,
      "grid_area": null,
      "grid_auto_columns": null,
      "grid_auto_flow": null,
      "grid_auto_rows": null,
      "grid_column": null,
      "grid_gap": null,
      "grid_row": null,
      "grid_template_areas": null,
      "grid_template_columns": null,
      "grid_template_rows": null,
      "height": null,
      "justify_content": null,
      "justify_items": null,
      "left": null,
      "margin": null,
      "max_height": null,
      "max_width": null,
      "min_height": null,
      "min_width": null,
      "object_fit": null,
      "object_position": null,
      "order": null,
      "overflow": null,
      "overflow_x": null,
      "overflow_y": null,
      "padding": null,
      "right": null,
      "top": null,
      "visibility": null,
      "width": null
     }
    },
    "cbff1475b2ce4066813a11528816ed63": {
     "model_module": "@jupyter-widgets/base",
     "model_module_version": "1.2.0",
     "model_name": "LayoutModel",
     "state": {
      "_model_module": "@jupyter-widgets/base",
      "_model_module_version": "1.2.0",
      "_model_name": "LayoutModel",
      "_view_count": null,
      "_view_module": "@jupyter-widgets/base",
      "_view_module_version": "1.2.0",
      "_view_name": "LayoutView",
      "align_content": null,
      "align_items": null,
      "align_self": null,
      "border": null,
      "bottom": null,
      "display": null,
      "flex": null,
      "flex_flow": null,
      "grid_area": null,
      "grid_auto_columns": null,
      "grid_auto_flow": null,
      "grid_auto_rows": null,
      "grid_column": null,
      "grid_gap": null,
      "grid_row": null,
      "grid_template_areas": null,
      "grid_template_columns": null,
      "grid_template_rows": null,
      "height": null,
      "justify_content": null,
      "justify_items": null,
      "left": null,
      "margin": null,
      "max_height": null,
      "max_width": null,
      "min_height": null,
      "min_width": null,
      "object_fit": null,
      "object_position": null,
      "order": null,
      "overflow": null,
      "overflow_x": null,
      "overflow_y": null,
      "padding": null,
      "right": null,
      "top": null,
      "visibility": null,
      "width": null
     }
    },
    "d0236dc7fa7a4ed7ada2743950ab14b9": {
     "model_module": "@jupyter-widgets/controls",
     "model_module_version": "1.5.0",
     "model_name": "HTMLModel",
     "state": {
      "_dom_classes": [],
      "_model_module": "@jupyter-widgets/controls",
      "_model_module_version": "1.5.0",
      "_model_name": "HTMLModel",
      "_view_count": null,
      "_view_module": "@jupyter-widgets/controls",
      "_view_module_version": "1.5.0",
      "_view_name": "HTMLView",
      "description": "",
      "description_tooltip": null,
      "layout": "IPY_MODEL_aa5e3caefd8d490c86b492f97648aece",
      "placeholder": "​",
      "style": "IPY_MODEL_a1a7073a272e4c21af2ff961d85f16de",
      "value": " 5/5 [03:09&lt;00:00, 42.77s/it]"
     }
    },
    "d4923a46fc4f48f6a603680858439eae": {
     "model_module": "@jupyter-widgets/base",
     "model_module_version": "1.2.0",
     "model_name": "LayoutModel",
     "state": {
      "_model_module": "@jupyter-widgets/base",
      "_model_module_version": "1.2.0",
      "_model_name": "LayoutModel",
      "_view_count": null,
      "_view_module": "@jupyter-widgets/base",
      "_view_module_version": "1.2.0",
      "_view_name": "LayoutView",
      "align_content": null,
      "align_items": null,
      "align_self": null,
      "border": null,
      "bottom": null,
      "display": null,
      "flex": null,
      "flex_flow": null,
      "grid_area": null,
      "grid_auto_columns": null,
      "grid_auto_flow": null,
      "grid_auto_rows": null,
      "grid_column": null,
      "grid_gap": null,
      "grid_row": null,
      "grid_template_areas": null,
      "grid_template_columns": null,
      "grid_template_rows": null,
      "height": null,
      "justify_content": null,
      "justify_items": null,
      "left": null,
      "margin": null,
      "max_height": null,
      "max_width": null,
      "min_height": null,
      "min_width": null,
      "object_fit": null,
      "object_position": null,
      "order": null,
      "overflow": null,
      "overflow_x": null,
      "overflow_y": null,
      "padding": null,
      "right": null,
      "top": null,
      "visibility": null,
      "width": null
     }
    },
    "d4bffc0f1e394e7a81256392a467591f": {
     "model_module": "@jupyter-widgets/base",
     "model_module_version": "1.2.0",
     "model_name": "LayoutModel",
     "state": {
      "_model_module": "@jupyter-widgets/base",
      "_model_module_version": "1.2.0",
      "_model_name": "LayoutModel",
      "_view_count": null,
      "_view_module": "@jupyter-widgets/base",
      "_view_module_version": "1.2.0",
      "_view_name": "LayoutView",
      "align_content": null,
      "align_items": null,
      "align_self": null,
      "border": null,
      "bottom": null,
      "display": null,
      "flex": null,
      "flex_flow": null,
      "grid_area": null,
      "grid_auto_columns": null,
      "grid_auto_flow": null,
      "grid_auto_rows": null,
      "grid_column": null,
      "grid_gap": null,
      "grid_row": null,
      "grid_template_areas": null,
      "grid_template_columns": null,
      "grid_template_rows": null,
      "height": null,
      "justify_content": null,
      "justify_items": null,
      "left": null,
      "margin": null,
      "max_height": null,
      "max_width": null,
      "min_height": null,
      "min_width": null,
      "object_fit": null,
      "object_position": null,
      "order": null,
      "overflow": null,
      "overflow_x": null,
      "overflow_y": null,
      "padding": null,
      "right": null,
      "top": null,
      "visibility": null,
      "width": null
     }
    },
    "d587bfe885e048d48e0fc95e3b44c2e9": {
     "model_module": "@jupyter-widgets/controls",
     "model_module_version": "1.5.0",
     "model_name": "HTMLModel",
     "state": {
      "_dom_classes": [],
      "_model_module": "@jupyter-widgets/controls",
      "_model_module_version": "1.5.0",
      "_model_name": "HTMLModel",
      "_view_count": null,
      "_view_module": "@jupyter-widgets/controls",
      "_view_module_version": "1.5.0",
      "_view_name": "HTMLView",
      "description": "",
      "description_tooltip": null,
      "layout": "IPY_MODEL_abb62a54c9ec42eb81884168691e4a1d",
      "placeholder": "​",
      "style": "IPY_MODEL_54757ff31cba4565a082e0ced25747a0",
      "value": "100%"
     }
    },
    "d90a19a8ce2c45138864ccac12e037d9": {
     "model_module": "@jupyter-widgets/base",
     "model_module_version": "1.2.0",
     "model_name": "LayoutModel",
     "state": {
      "_model_module": "@jupyter-widgets/base",
      "_model_module_version": "1.2.0",
      "_model_name": "LayoutModel",
      "_view_count": null,
      "_view_module": "@jupyter-widgets/base",
      "_view_module_version": "1.2.0",
      "_view_name": "LayoutView",
      "align_content": null,
      "align_items": null,
      "align_self": null,
      "border": null,
      "bottom": null,
      "display": null,
      "flex": null,
      "flex_flow": null,
      "grid_area": null,
      "grid_auto_columns": null,
      "grid_auto_flow": null,
      "grid_auto_rows": null,
      "grid_column": null,
      "grid_gap": null,
      "grid_row": null,
      "grid_template_areas": null,
      "grid_template_columns": null,
      "grid_template_rows": null,
      "height": null,
      "justify_content": null,
      "justify_items": null,
      "left": null,
      "margin": null,
      "max_height": null,
      "max_width": null,
      "min_height": null,
      "min_width": null,
      "object_fit": null,
      "object_position": null,
      "order": null,
      "overflow": null,
      "overflow_x": null,
      "overflow_y": null,
      "padding": null,
      "right": null,
      "top": null,
      "visibility": null,
      "width": null
     }
    },
    "d9214827078a4661bc15e55b2ca6d56c": {
     "model_module": "@jupyter-widgets/controls",
     "model_module_version": "1.5.0",
     "model_name": "HBoxModel",
     "state": {
      "_dom_classes": [],
      "_model_module": "@jupyter-widgets/controls",
      "_model_module_version": "1.5.0",
      "_model_name": "HBoxModel",
      "_view_count": null,
      "_view_module": "@jupyter-widgets/controls",
      "_view_module_version": "1.5.0",
      "_view_name": "HBoxView",
      "box_style": "",
      "children": [
       "IPY_MODEL_85a6ac251d3948afa5def7f22f68f038",
       "IPY_MODEL_73047fc172b84568a5ae3ba85328559e",
       "IPY_MODEL_d0236dc7fa7a4ed7ada2743950ab14b9"
      ],
      "layout": "IPY_MODEL_f95aeb037c27427d8a16950042ddd893"
     }
    },
    "d94bd32dab0547a1bb07b9f381d5db60": {
     "model_module": "@jupyter-widgets/controls",
     "model_module_version": "1.5.0",
     "model_name": "FloatProgressModel",
     "state": {
      "_dom_classes": [],
      "_model_module": "@jupyter-widgets/controls",
      "_model_module_version": "1.5.0",
      "_model_name": "FloatProgressModel",
      "_view_count": null,
      "_view_module": "@jupyter-widgets/controls",
      "_view_module_version": "1.5.0",
      "_view_name": "ProgressView",
      "bar_style": "success",
      "description": "",
      "description_tooltip": null,
      "layout": "IPY_MODEL_1459fb80548e4eee9f7d18f87212f7d0",
      "max": 10,
      "min": 0,
      "orientation": "horizontal",
      "style": "IPY_MODEL_722b405b30a84c22a389f3059c71af5d",
      "value": 10
     }
    },
    "db1e7e947d0e460cb40143b6c8d16a3a": {
     "model_module": "@jupyter-widgets/base",
     "model_module_version": "1.2.0",
     "model_name": "LayoutModel",
     "state": {
      "_model_module": "@jupyter-widgets/base",
      "_model_module_version": "1.2.0",
      "_model_name": "LayoutModel",
      "_view_count": null,
      "_view_module": "@jupyter-widgets/base",
      "_view_module_version": "1.2.0",
      "_view_name": "LayoutView",
      "align_content": null,
      "align_items": null,
      "align_self": null,
      "border": null,
      "bottom": null,
      "display": null,
      "flex": null,
      "flex_flow": null,
      "grid_area": null,
      "grid_auto_columns": null,
      "grid_auto_flow": null,
      "grid_auto_rows": null,
      "grid_column": null,
      "grid_gap": null,
      "grid_row": null,
      "grid_template_areas": null,
      "grid_template_columns": null,
      "grid_template_rows": null,
      "height": null,
      "justify_content": null,
      "justify_items": null,
      "left": null,
      "margin": null,
      "max_height": null,
      "max_width": null,
      "min_height": null,
      "min_width": null,
      "object_fit": null,
      "object_position": null,
      "order": null,
      "overflow": null,
      "overflow_x": null,
      "overflow_y": null,
      "padding": null,
      "right": null,
      "top": null,
      "visibility": null,
      "width": null
     }
    },
    "dbfc4742f5ef4cf88f745d95e56bd72f": {
     "model_module": "@jupyter-widgets/controls",
     "model_module_version": "1.5.0",
     "model_name": "FloatProgressModel",
     "state": {
      "_dom_classes": [],
      "_model_module": "@jupyter-widgets/controls",
      "_model_module_version": "1.5.0",
      "_model_name": "FloatProgressModel",
      "_view_count": null,
      "_view_module": "@jupyter-widgets/controls",
      "_view_module_version": "1.5.0",
      "_view_name": "ProgressView",
      "bar_style": "success",
      "description": "",
      "description_tooltip": null,
      "layout": "IPY_MODEL_a298f1c4dc614468a6e894cec6db152f",
      "max": 5,
      "min": 0,
      "orientation": "horizontal",
      "style": "IPY_MODEL_edff366ccc6247b2ab6b9886f94a5b0a",
      "value": 5
     }
    },
    "e014e7e4ecde40c9907c4f1733007ca0": {
     "model_module": "@jupyter-widgets/controls",
     "model_module_version": "1.5.0",
     "model_name": "DescriptionStyleModel",
     "state": {
      "_model_module": "@jupyter-widgets/controls",
      "_model_module_version": "1.5.0",
      "_model_name": "DescriptionStyleModel",
      "_view_count": null,
      "_view_module": "@jupyter-widgets/base",
      "_view_module_version": "1.2.0",
      "_view_name": "StyleView",
      "description_width": ""
     }
    },
    "e1fa36ceabb4461696283b869f5933c4": {
     "model_module": "@jupyter-widgets/controls",
     "model_module_version": "1.5.0",
     "model_name": "HTMLModel",
     "state": {
      "_dom_classes": [],
      "_model_module": "@jupyter-widgets/controls",
      "_model_module_version": "1.5.0",
      "_model_name": "HTMLModel",
      "_view_count": null,
      "_view_module": "@jupyter-widgets/controls",
      "_view_module_version": "1.5.0",
      "_view_name": "HTMLView",
      "description": "",
      "description_tooltip": null,
      "layout": "IPY_MODEL_d4bffc0f1e394e7a81256392a467591f",
      "placeholder": "​",
      "style": "IPY_MODEL_a0170b3794e04a8fba2e9b38b1df60fa",
      "value": " 4/4 [11:34&lt;00:00, 254.79s/it]"
     }
    },
    "e4348cd8dfbd4bf1a3e245d6b77ca134": {
     "model_module": "@jupyter-widgets/base",
     "model_module_version": "1.2.0",
     "model_name": "LayoutModel",
     "state": {
      "_model_module": "@jupyter-widgets/base",
      "_model_module_version": "1.2.0",
      "_model_name": "LayoutModel",
      "_view_count": null,
      "_view_module": "@jupyter-widgets/base",
      "_view_module_version": "1.2.0",
      "_view_name": "LayoutView",
      "align_content": null,
      "align_items": null,
      "align_self": null,
      "border": null,
      "bottom": null,
      "display": null,
      "flex": null,
      "flex_flow": null,
      "grid_area": null,
      "grid_auto_columns": null,
      "grid_auto_flow": null,
      "grid_auto_rows": null,
      "grid_column": null,
      "grid_gap": null,
      "grid_row": null,
      "grid_template_areas": null,
      "grid_template_columns": null,
      "grid_template_rows": null,
      "height": null,
      "justify_content": null,
      "justify_items": null,
      "left": null,
      "margin": null,
      "max_height": null,
      "max_width": null,
      "min_height": null,
      "min_width": null,
      "object_fit": null,
      "object_position": null,
      "order": null,
      "overflow": null,
      "overflow_x": null,
      "overflow_y": null,
      "padding": null,
      "right": null,
      "top": null,
      "visibility": null,
      "width": null
     }
    },
    "e8e09cd45aa840bbaeff6d72b0b72f7a": {
     "model_module": "@jupyter-widgets/controls",
     "model_module_version": "1.5.0",
     "model_name": "ProgressStyleModel",
     "state": {
      "_model_module": "@jupyter-widgets/controls",
      "_model_module_version": "1.5.0",
      "_model_name": "ProgressStyleModel",
      "_view_count": null,
      "_view_module": "@jupyter-widgets/base",
      "_view_module_version": "1.2.0",
      "_view_name": "StyleView",
      "bar_color": null,
      "description_width": ""
     }
    },
    "e95c09132a2a40d1ac96cd8fbc7f4f68": {
     "model_module": "@jupyter-widgets/controls",
     "model_module_version": "1.5.0",
     "model_name": "DescriptionStyleModel",
     "state": {
      "_model_module": "@jupyter-widgets/controls",
      "_model_module_version": "1.5.0",
      "_model_name": "DescriptionStyleModel",
      "_view_count": null,
      "_view_module": "@jupyter-widgets/base",
      "_view_module_version": "1.2.0",
      "_view_name": "StyleView",
      "description_width": ""
     }
    },
    "edff366ccc6247b2ab6b9886f94a5b0a": {
     "model_module": "@jupyter-widgets/controls",
     "model_module_version": "1.5.0",
     "model_name": "ProgressStyleModel",
     "state": {
      "_model_module": "@jupyter-widgets/controls",
      "_model_module_version": "1.5.0",
      "_model_name": "ProgressStyleModel",
      "_view_count": null,
      "_view_module": "@jupyter-widgets/base",
      "_view_module_version": "1.2.0",
      "_view_name": "StyleView",
      "bar_color": null,
      "description_width": ""
     }
    },
    "f85aa510ca994fc7b44a0f1e87313f38": {
     "model_module": "@jupyter-widgets/controls",
     "model_module_version": "1.5.0",
     "model_name": "HTMLModel",
     "state": {
      "_dom_classes": [],
      "_model_module": "@jupyter-widgets/controls",
      "_model_module_version": "1.5.0",
      "_model_name": "HTMLModel",
      "_view_count": null,
      "_view_module": "@jupyter-widgets/controls",
      "_view_module_version": "1.5.0",
      "_view_name": "HTMLView",
      "description": "",
      "description_tooltip": null,
      "layout": "IPY_MODEL_5912403568874f9bbdd362e1ce3be0c1",
      "placeholder": "​",
      "style": "IPY_MODEL_c16007c57cd5451e8700098991b43a00",
      "value": "100%"
     }
    },
    "f95aeb037c27427d8a16950042ddd893": {
     "model_module": "@jupyter-widgets/base",
     "model_module_version": "1.2.0",
     "model_name": "LayoutModel",
     "state": {
      "_model_module": "@jupyter-widgets/base",
      "_model_module_version": "1.2.0",
      "_model_name": "LayoutModel",
      "_view_count": null,
      "_view_module": "@jupyter-widgets/base",
      "_view_module_version": "1.2.0",
      "_view_name": "LayoutView",
      "align_content": null,
      "align_items": null,
      "align_self": null,
      "border": null,
      "bottom": null,
      "display": null,
      "flex": null,
      "flex_flow": null,
      "grid_area": null,
      "grid_auto_columns": null,
      "grid_auto_flow": null,
      "grid_auto_rows": null,
      "grid_column": null,
      "grid_gap": null,
      "grid_row": null,
      "grid_template_areas": null,
      "grid_template_columns": null,
      "grid_template_rows": null,
      "height": null,
      "justify_content": null,
      "justify_items": null,
      "left": null,
      "margin": null,
      "max_height": null,
      "max_width": null,
      "min_height": null,
      "min_width": null,
      "object_fit": null,
      "object_position": null,
      "order": null,
      "overflow": null,
      "overflow_x": null,
      "overflow_y": null,
      "padding": null,
      "right": null,
      "top": null,
      "visibility": null,
      "width": null
     }
    },
    "fc14fe85262e41649c7fccdfbfae7af6": {
     "model_module": "@jupyter-widgets/controls",
     "model_module_version": "1.5.0",
     "model_name": "FloatProgressModel",
     "state": {
      "_dom_classes": [],
      "_model_module": "@jupyter-widgets/controls",
      "_model_module_version": "1.5.0",
      "_model_name": "FloatProgressModel",
      "_view_count": null,
      "_view_module": "@jupyter-widgets/controls",
      "_view_module_version": "1.5.0",
      "_view_name": "ProgressView",
      "bar_style": "success",
      "description": "",
      "description_tooltip": null,
      "layout": "IPY_MODEL_cbff1475b2ce4066813a11528816ed63",
      "max": 5,
      "min": 0,
      "orientation": "horizontal",
      "style": "IPY_MODEL_7fc764592edb4b4088ef6d498690e5fc",
      "value": 5
     }
    },
    "ff6a842cb3474d459dc8d88d4886892c": {
     "model_module": "@jupyter-widgets/controls",
     "model_module_version": "1.5.0",
     "model_name": "HTMLModel",
     "state": {
      "_dom_classes": [],
      "_model_module": "@jupyter-widgets/controls",
      "_model_module_version": "1.5.0",
      "_model_name": "HTMLModel",
      "_view_count": null,
      "_view_module": "@jupyter-widgets/controls",
      "_view_module_version": "1.5.0",
      "_view_name": "HTMLView",
      "description": "",
      "description_tooltip": null,
      "layout": "IPY_MODEL_9f282a12491248249f72fa4c6cba9c2a",
      "placeholder": "​",
      "style": "IPY_MODEL_e014e7e4ecde40c9907c4f1733007ca0",
      "value": "100%"
     }
    }
   }
  }
 },
 "nbformat": 4,
 "nbformat_minor": 0
}
