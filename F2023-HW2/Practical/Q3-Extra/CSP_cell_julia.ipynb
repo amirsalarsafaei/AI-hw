{
  "nbformat": 4,
  "nbformat_minor": 0,
  "metadata": {
    "colab": {
      "provenance": []
    },
    "kernelspec": {
      "name": "julia",
      "display_name": "julia 1.8.2"
    }
  },
  "cells": [
    {
      "cell_type": "markdown",
      "source": [
        "<font face=\"XB Zar\" size=5><div dir=rtl align=center>\n",
        "<font face=\"IranNastaliq\" size=5>\n",
        "به نام خدا\n",
        "</font>\n",
        "<br>\n",
        "<font size=3>\n",
        "دانشگاه صنعتی شریف - دانشکده مهندسی کامپیوتر\n",
        "</font>\n",
        "<br>\n",
        "<font color=blue size=5>\n",
        "تمرین امتیازی بخش بهینه سازی\n",
        "</font><br>\n",
        "<font color=blue size=5>\n",
        "نوت بوک زبان جولیا\n",
        "</font>\n",
        "# <img src=\"https://github.com/JuliaLang/julia-logo-graphics/raw/master/images/julia-logo-color.png\" height=\"100\" />"
      ],
      "metadata": {
        "id": "k1NqOXzgIlk_"
      }
    },
    {
      "cell_type": "markdown",
      "metadata": {
        "id": "tQ1r1bbb0yBv"
      },
      "source": [
        "\n",
        "\n",
        "<font face=\"XB Zar\" size=4><div dir=rtl id=\"1\">\n",
        "<font color=\"red\" size=5>**نصب جولیا و پکیج های لازم**</font>\n"
      ]
    },
    {
      "cell_type": "code",
      "metadata": {
        "id": "GIeFXS0F0zww",
        "colab": {
          "base_uri": "https://localhost:8080/",
          "height": 104
        },
        "outputId": "42c62bd2-81af-495f-a07e-d366d958d0b3",
        "ExecuteTime": {
          "end_time": "2023-11-08T06:55:28.544344398Z",
          "start_time": "2023-11-08T06:55:28.507476062Z"
        }
      },
      "source": [
        "# @title\n",
        "%%shell\n",
        "set -e\n",
        "\n",
        "#---------------------------------------------------#\n",
        "JULIA_VERSION=\"1.8.2\" # any version ≥ 0.7.0\n",
        "JULIA_PACKAGES=\"IJulia BenchmarkTools\"\n",
        "JULIA_PACKAGES_IF_GPU=\"CUDA\" # or CuArrays for older Julia versions\n",
        "JULIA_NUM_THREADS=2\n",
        "#---------------------------------------------------#\n",
        "\n",
        "if [ -z `which julia` ]; then\n",
        "  # Install Julia\n",
        "  JULIA_VER=`cut -d '.' -f -2 <<< \"$JULIA_VERSION\"`\n",
        "  echo \"Installing Julia $JULIA_VERSION on the current Colab Runtime...\"\n",
        "  BASE_URL=\"https://julialang-s3.julialang.org/bin/linux/x64\"\n",
        "  URL=\"$BASE_URL/$JULIA_VER/julia-$JULIA_VERSION-linux-x86_64.tar.gz\"\n",
        "  wget -nv $URL -O /tmp/julia.tar.gz # -nv means \"not verbose\"\n",
        "  tar -x -f /tmp/julia.tar.gz -C /usr/local --strip-components 1\n",
        "  rm /tmp/julia.tar.gz\n",
        "\n",
        "  # Install Packages\n",
        "  nvidia-smi -L &> /dev/null && export GPU=1 || export GPU=0\n",
        "  if [ $GPU -eq 1 ]; then\n",
        "    JULIA_PACKAGES=\"$JULIA_PACKAGES $JULIA_PACKAGES_IF_GPU\"\n",
        "  fi\n",
        "  for PKG in `echo $JULIA_PACKAGES`; do\n",
        "    echo \"Installing Julia package $PKG...\"\n",
        "    julia -e 'using Pkg; pkg\"add '$PKG'; precompile;\"' &> /dev/null\n",
        "  done\n",
        "\n",
        "  # Install kernel and rename it to \"julia\"\n",
        "  echo \"Installing IJulia kernel...\"\n",
        "  julia -e 'using IJulia; IJulia.installkernel(\"julia\", env=Dict(\n",
        "      \"JULIA_NUM_THREADS\"=>\"'\"$JULIA_NUM_THREADS\"'\"))'\n",
        "  KERNEL_DIR=`julia -e \"using IJulia; print(IJulia.kerneldir())\"`\n",
        "  KERNEL_NAME=`ls -d \"$KERNEL_DIR\"/julia*`\n",
        "  mv -f $KERNEL_NAME \"$KERNEL_DIR\"/julia\n",
        "\n",
        "  echo ''\n",
        "  echo \"Successfully installed `julia -v`!\"\n",
        "  echo \"Please reload this page (press Ctrl+R, ⌘+R, or the F5 key) then\"\n",
        "  echo \"jump to the 'Checking the Installation' section.\"\n",
        "fi"
      ],
      "execution_count": 23,
      "outputs": [
        {
          "output_type": "display_data",
          "data": {
            "text/plain": [
              "  Unrecognized magic \u001b[36m%%shell\u001b[39m.\n",
              "\n",
              "  Julia does not use the IPython \u001b[36m%magic\u001b[39m syntax. To interact with the IJulia kernel, use\n",
              "  \u001b[36mIJulia.somefunction(...)\u001b[39m, for example. Julia macros, string macros, and functions can be used to\n",
              "  accomplish most of the other functionalities of IPython magics."
            ],
            "text/markdown": "Unrecognized magic `%%shell`.\n\nJulia does not use the IPython `%magic` syntax.   To interact with the IJulia kernel, use `IJulia.somefunction(...)`, for example.  Julia macros, string macros, and functions can be used to accomplish most of the other functionalities of IPython magics.\n",
            "text/latex": "Unrecognized magic \\texttt{\\%\\%shell}.\n\nJulia does not use the IPython \\texttt{\\%magic} syntax.   To interact with the IJulia kernel, use \\texttt{IJulia.somefunction(...)}, for example.  Julia macros, string macros, and functions can be used to accomplish most of the other functionalities of IPython magics.\n\n"
          },
          "metadata": {}
        }
      ]
    },
    {
      "cell_type": "markdown",
      "source": [
        "## reload the page !"
      ],
      "metadata": {
        "id": "zUCjFdT7zled"
      }
    },
    {
      "cell_type": "code",
      "metadata": {
        "id": "EEzvvzCl1i0F",
        "colab": {
          "base_uri": "https://localhost:8080/"
        },
        "outputId": "19e66eb0-3c92-4abd-d1aa-63156296f218"
      },
      "source": [
        "versioninfo()"
      ],
      "execution_count": 24,
      "outputs": [
        {
          "output_type": "stream",
          "name": "stdout",
          "text": [
            "Julia Version 1.8.2\n",
            "Commit 36034abf260 (2022-09-29 15:21 UTC)\n",
            "Platform Info:\n",
            "  OS: Linux (x86_64-linux-gnu)\n",
            "  CPU: 2 × AMD EPYC 7B12\n",
            "  WORD_SIZE: 64\n",
            "  LIBM: libopenlibm\n",
            "  LLVM: libLLVM-13.0.1 (ORCJIT, znver2)\n",
            "  Threads: 2 on 2 virtual cores\n",
            "Environment:\n",
            "  LD_LIBRARY_PATH = /usr/local/nvidia/lib:/usr/local/nvidia/lib64\n",
            "  JULIA_NUM_THREADS = 2\n"
          ]
        }
      ]
    },
    {
      "cell_type": "code",
      "source": [
        "] add COBREXA"
      ],
      "metadata": {
        "id": "BR79zLt4eJP2",
        "colab": {
          "base_uri": "https://localhost:8080/"
        },
        "outputId": "876524f5-d595-48f2-8470-0b0fa652788d",
        "collapsed": true,
        "ExecuteTime": {
          "end_time": "2023-11-08T06:57:31.037690894Z",
          "start_time": "2023-11-08T06:57:31.034724394Z"
        }
      },
      "execution_count": 25,
      "outputs": [
        {
          "output_type": "stream",
          "name": "stderr",
          "text": [
            "\u001b[32m\u001b[1m   Resolving\u001b[22m\u001b[39m package versions...\n",
            "\u001b[32m\u001b[1m  No Changes\u001b[22m\u001b[39m to `~/.julia/environments/v1.8/Project.toml`\n",
            "\u001b[32m\u001b[1m  No Changes\u001b[22m\u001b[39m to `~/.julia/environments/v1.8/Manifest.toml`\n"
          ]
        }
      ]
    },
    {
      "cell_type": "code",
      "source": [
        "] add JuMP"
      ],
      "metadata": {
        "colab": {
          "base_uri": "https://localhost:8080/"
        },
        "collapsed": true,
        "id": "O3A-E7kq0Gcw",
        "outputId": "0849965f-29c0-41e1-8c02-4f679f9c61b3"
      },
      "execution_count": 26,
      "outputs": [
        {
          "output_type": "stream",
          "name": "stderr",
          "text": [
            "\u001b[32m\u001b[1m   Resolving\u001b[22m\u001b[39m package versions...\n",
            "\u001b[32m\u001b[1m  No Changes\u001b[22m\u001b[39m to `~/.julia/environments/v1.8/Project.toml`\n",
            "\u001b[32m\u001b[1m  No Changes\u001b[22m\u001b[39m to `~/.julia/environments/v1.8/Manifest.toml`\n"
          ]
        }
      ]
    },
    {
      "cell_type": "code",
      "source": [
        "] add GLPK"
      ],
      "metadata": {
        "colab": {
          "base_uri": "https://localhost:8080/"
        },
        "collapsed": true,
        "id": "ghYmRW7B0P00",
        "outputId": "29ab9c24-83c3-480c-ede6-41d096d276a5"
      },
      "execution_count": 27,
      "outputs": [
        {
          "output_type": "stream",
          "name": "stderr",
          "text": [
            "\u001b[32m\u001b[1m   Resolving\u001b[22m\u001b[39m package versions...\n",
            "\u001b[32m\u001b[1m  No Changes\u001b[22m\u001b[39m to `~/.julia/environments/v1.8/Project.toml`\n",
            "\u001b[32m\u001b[1m  No Changes\u001b[22m\u001b[39m to `~/.julia/environments/v1.8/Manifest.toml`\n"
          ]
        }
      ]
    },
    {
      "cell_type": "markdown",
      "source": [
        "<font face=\"XB Zar\" size=4><div dir=rtl id=\"1\">\n",
        "<font color=\"red\" size=5>**مقدمه**</font>"
      ],
      "metadata": {
        "id": "6VWCrBE9u94Y"
      }
    },
    {
      "cell_type": "markdown",
      "source": [
        "<font face=\"XB Zar\" size=4><div dir=rtl>\n",
        "در این تمرین قصد داریم با یکی از کاربردهای CSP آشنا شویم. فرض کنید شما میخواهید دارویی را تولید کنید که سنتز آن از صفر یا بسیار پرهزینه است یا به حدی پیچیده است که در عمل ممکن نیست اما یک نوع باکتری در طبیعت وجود دارد که توانایی سنتز دارو را به طور طبیعی دارد. شما میتوانید با استخراج واکنش های انجام شده در باکتری و مهندسی آن ها موجب شوید باکتری داروی مطلوب شما را  به میزان زیادی تولید کند. برای مثال انسولین که به طور روزانه توسط بیماران مبتلا به دیابت مصرف میشود با استفاده از باکتری های مهندسی شده تولید میشود.\n",
        " <font face=\"XB Zar\" size=4><div dir=rtl>\n",
        " در مراحل مختلفی از این روند مانند پیش پردازش داده های واکنش ها، میتوان از CSP بهره برد که در این تمرین قصد داریم با آن آشنا شویم."
      ],
      "metadata": {
        "id": "0KUxdWNKvavt"
      }
    },
    {
      "cell_type": "markdown",
      "source": [
        "<font face=\"XB Zar\" size=4><div dir=rtl id=\"1\">\n",
        "<font color=\"red\" size=5>**معرفی المان های مساله**</font>"
      ],
      "metadata": {
        "id": "SZ7a6CPLv6Iu"
      }
    },
    {
      "cell_type": "markdown",
      "source": [
        "<font face=\"XB Zar\" size=4><div dir=rtl>\n",
        "همانطور که گفته شده ما یک باکتری داریم که واکنشهای درون باکتری در آزمایشگاه استخراج شده و داده های آن در اختیار ما قرار گرفته است. این داده ها شامل موارد زیر هستند:\n",
        "<br>\n",
        "<br>\n",
        "n: تعداد واکنش ها\n",
        "<br>\n",
        "m: مجموع تعداد ماده های متمایز در تمام واکنش ها\n",
        "<br>\n",
        "S: یک ماتریس m*n که سطر i,j از آن بیان میدارد در واکنش j ام چند واحد از ماده ی i مصرف یا تولید میشود. مقدار منفی بیانگر مصرف و مقدار مثبت بیانگر تولید است. (درواقع این ماتریس ضرایب استکیومتری واکنش هاست، فراورده ها مثبت و واکنش دهنده ها منفی)\n",
        "<br>\n",
        "ub: یک ماتریس به طول n که upper bound یا کران بالای rate واکنش ها را مشخص میکند\n",
        "<br>\n",
        "lb: یک ماتریس به طول n که lower bound یا کران پایین rate واکنش ها را مشخص میکند\n",
        "<br>\n",
        "Reactions: ماتریس به طول n، نام واکنش ها\n",
        "<br>\n",
        "Metabolites: ماتریس به طول m، نام ماده ها (متابولیت ها)\n"
      ],
      "metadata": {
        "id": "iAA67KaYwF6X"
      }
    },
    {
      "cell_type": "code",
      "source": [
        "using COBREXA\n",
        "using JuMP\n",
        "using GLPK\n",
        "using LinearAlgebra"
      ],
      "metadata": {
        "id": "8OZsXO9SdSut"
      },
      "execution_count": 72,
      "outputs": []
    },
    {
      "cell_type": "code",
      "source": [
        "struct models\n",
        "           S\n",
        "           Metabolites\n",
        "           Reactions\n",
        "           Genes\n",
        "           m\n",
        "           n\n",
        "           lb\n",
        "           ub\n",
        "       end"
      ],
      "metadata": {
        "id": "cauYky-_gMdp"
      },
      "execution_count": 45,
      "outputs": []
    },
    {
      "cell_type": "markdown",
      "source": [
        "<font face=\"XB Zar\" size=4><div dir=rtl>\n",
        "<font color=\"blue\">\n",
        "**سوال:**\n",
        "<br>\n",
        "<font color=\"black\">\n",
        "چگونه میتوان از روی مقادیر lb و ub تشخیص داد واکنش ها برگشت پذیر هستند یا نه؟\n"
      ],
      "metadata": {
        "id": "sFD7nfjIwmAm"
      }
    },
    {
      "cell_type": "markdown",
      "source": [
        "<font face=\"XB Zar\" size=4><div dir=rtl id=\"1\">\n",
        "<font color=\"red\" size=5>**مثال**</font>"
      ],
      "metadata": {
        "id": "YMUDoYG-xJAf"
      }
    },
    {
      "cell_type": "markdown",
      "source": [
        "<font face=\"XB Zar\" size=4><div dir=rtl>\n",
        "ساده ترین حالت CSP قابل حل با این داده ها این هست که با توجه\n",
        "به محدودیت های دنیای واقعی، یک حالت از rate های ممکن برای واکنش را به دست آوریم:\n",
        "ماتریس V را تعریف میکنیم:\n",
        "<br>\n",
        "  یک ماتریس به طول n است که درایه ی iام نظیر rate واکنش iام است.\n",
        "  <div dir=ltr>\n",
        "<br>\n",
        "Find $V$\n",
        "<br>\n",
        "Subject to :\n",
        "<br>\n",
        "$Lb[j]<v[j]<ub[j]$\n",
        "<br>\n",
        "$SV=0$\n"
      ],
      "metadata": {
        "id": "PRdGtInIxJFe"
      }
    },
    {
      "cell_type": "markdown",
      "source": [
        "<font face=\"XB Zar\" size=4><div dir=rtl>\n",
        "<font color=\"blue\">\n",
        "**سوال:**\n",
        "<br>\n",
        "<font color=\"black\">\n",
        "شرط SV=0 بیانگر چیست؟"
      ],
      "metadata": {
        "id": "354U8hy9xJLe"
      }
    },
    {
      "cell_type": "markdown",
      "source": [
        "<font face=\"XB Zar\" size=4><div dir=rtl>حالت تعادلی را بیان میکند که مقدار ماده ها تغییری نمی کند یعنی ماده ای وارد نمیشود و خارج نمیشود و فقط تحت واکنش ها به هم تبدیل می شوندو"
      ],
      "metadata": {
        "id": "gieZQ8ImzQIg"
      }
    },
    {
      "cell_type": "markdown",
      "source": [
        "<font face=\"XB Zar\" size=4><div dir=rtl id=\"1\">\n",
        "<font color=\"red\" size=5>**پیش پردازش داده ها**</font>\n",
        "<br>\n",
        "<font color=\"red\">\n",
        "یافتن و حذف واکنش های بلاک شده"
      ],
      "metadata": {
        "id": "ZM12RRvDxJNr"
      }
    },
    {
      "cell_type": "markdown",
      "source": [
        "<font face=\"XB Zar\" size=4><div dir=rtl>\n",
        "همانطور که میدانیم داده های دریافت شده از آزمایشگاه همیشه داده های تمیزی نیست و نیازبه پیش پردازش دارد. یک نمونه از مشکلات موجود در این داده ها وجود واکنش های \"بلاک شده\" هستند. ممکن است آزمایشگاه واکنش هایی را گزارش کرده باشد که تحت هیچ شرایطی امکان انجام آن وجود نداشته باشد و در هر حالت ممکنی ازمقداردهی rate ها، rate این واکنش همیشه صفر باشد. یافتن و حذف این واکنش ها موجب میشود فضای حالت ما کوچکتر شود و حل مسائل بعدی ساده تر شود."
      ],
      "metadata": {
        "id": "SRhIL44KxJP6"
      }
    },
    {
      "cell_type": "markdown",
      "source": [
        "<font face=\"XB Zar\" size=4><div dir=rtl id=\"1\">\n",
        "<font color=\"red\">\n",
        "تعریف دقیق واکنش های بلاک شده:\n",
        "<br>\n",
        "<font color=\"black\">\n",
        "واکنشی که در هیچ حالتی از فضای حالت تمام rateهای ممکن نتواند rate غیرصفر داشته باشد، در هیچ شرایطی اجرا نمیشود و بلاک شده است. توجه کنید برای واکنش های دوطرفه این شرط باید از هر دوسمت (رفت و برگشت) برقرار باشد تا واکنش بلاک شده تلقی شود.\n"
      ],
      "metadata": {
        "id": "v7lFYA1yxJSR"
      }
    },
    {
      "cell_type": "markdown",
      "source": [
        "<font face=\"XB Zar\" size=4><div dir=rtl id=\"1\">\n",
        "<font color=\"red\" size=5>**حل مساله ی یافتن واکنش های بلاک شده:**</font>\n",
        "<br>\n",
        "<font color=\"black\">\n",
        "در ادامه با استفاده از CSP قصد داریم واکنش های بلاک شده را پیدا کنیم. توضیحی در مورد هرکدام از توابع مطرح شده و ورودی و خروجی آنها در ادامه آمده که باید این توابع را تکمیل کنید. میتوانید ورودی و خروجی توابع را با خواست خود تغییر دهید.\n"
      ],
      "metadata": {
        "id": "gH94g63bxJU_"
      }
    },
    {
      "cell_type": "markdown",
      "source": [
        "<font face=\"XB Zar\" size=4><div dir=rtl id=\"1\">\n",
        "<font color=\"blue\">\n",
        "تابع loadmyModel\n",
        "<br>\n",
        "<font color=\"black\">\n",
        "این تابع مدل واکنش را دانلود میکند و در فرمت یک استراکت برمیگرداند، نیازی به تغییر دادن این تابع نیست."
      ],
      "metadata": {
        "id": "PqAvOeg9-Z3I"
      }
    },
    {
      "cell_type": "code",
      "source": [
        "function loadmyModel(name)\n",
        "  !isfile(name) &&\n",
        "    download(string(\"http://bigg.ucsd.edu/static/models/\",name), name);\n",
        "  model = load_model(StandardModel, name)\n",
        "  m=n_metabolites(model)\n",
        "  n=n_reactions(model)\n",
        "  myModel=models(stoichiometry(model),metabolites(model),reactions(model),genes(model),m,n,bounds(model)[1],bounds(model)[2])\n",
        "  return myModel\n",
        "end"
      ],
      "metadata": {
        "colab": {
          "base_uri": "https://localhost:8080/"
        },
        "id": "1H0tCueEf9Cr",
        "outputId": "17fb4967-c109-49d3-ed5d-9ef8abab3912"
      },
      "execution_count": 30,
      "outputs": [
        {
          "output_type": "execute_result",
          "data": {
            "text/plain": [
              "loadmyModel (generic function with 1 method)"
            ]
          },
          "metadata": {},
          "execution_count": 30
        }
      ]
    },
    {
      "cell_type": "code",
      "source": [
        "model = loadmyModel(\"e_coli_core.xml\")"
      ],
      "metadata": {
        "colab": {
          "base_uri": "https://localhost:8080/"
        },
        "id": "QNLnzCfp5TKU",
        "outputId": "bbf4c4b5-f278-4154-8671-a3a942a00038"
      },
      "execution_count": 47,
      "outputs": [
        {
          "output_type": "execute_result",
          "data": {
            "text/plain": [
              "models(sparse([8, 10, 21, 43, 50, 51, 8, 9, 6, 12  …  33, 66, 68, 72, 23, 26, 33, 72, 22, 33], [1, 1, 1, 1, 1, 1, 2, 2, 3, 3  …  93, 93, 93, 93, 94, 94, 94, 94, 95, 95], [-1.0, 1.0, -1.0, 1.0, -1.0, 1.0, 1.0, -1.0, -1.0, 1.0  …  1.0, -1.0, 1.0, -1.0, -1.0, 1.0, 1.0, -1.0, -1.0, 1.0], 72, 95), [\"M_13dpg_c\", \"M_2pg_c\", \"M_3pg_c\", \"M_6pgc_c\", \"M_6pgl_c\", \"M_ac_c\", \"M_ac_e\", \"M_acald_c\", \"M_acald_e\", \"M_accoa_c\"  …  \"M_pyr_e\", \"M_q8_c\", \"M_q8h2_c\", \"M_r5p_c\", \"M_ru5p__D_c\", \"M_s7p_c\", \"M_succ_c\", \"M_succ_e\", \"M_succoa_c\", \"M_xu5p__D_c\"], [\"R_ACALD\", \"R_ACALDt\", \"R_ACKr\", \"R_ACONTa\", \"R_ACONTb\", \"R_ACt2r\", \"R_ADK1\", \"R_AKGDH\", \"R_AKGt2r\", \"R_ALCD2x\"  …  \"R_RPI\", \"R_SUCCt2_2\", \"R_SUCCt3\", \"R_SUCDi\", \"R_SUCOAS\", \"R_TALA\", \"R_THD2\", \"R_TKT1\", \"R_TKT2\", \"R_TPI\"], [\"G_b0008\", \"G_b0114\", \"G_b0115\", \"G_b0116\", \"G_b0118\", \"G_b0351\", \"G_b0356\", \"G_b0451\", \"G_b0474\", \"G_b0485\"  …  \"G_b4090\", \"G_b4122\", \"G_b4151\", \"G_b4152\", \"G_b4153\", \"G_b4154\", \"G_b4232\", \"G_b4301\", \"G_b4395\", \"G_s0001\"], 72, 95, [-1000.0, -1000.0, -1000.0, -1000.0, -1000.0, -1000.0, -1000.0, 0.0, -1000.0, -1000.0  …  -1000.0, 0.0, 0.0, 0.0, -1000.0, -1000.0, 0.0, -1000.0, -1000.0, -1000.0], [1000.0, 1000.0, 1000.0, 1000.0, 1000.0, 1000.0, 1000.0, 1000.0, 1000.0, 1000.0  …  1000.0, 1000.0, 1000.0, 1000.0, 1000.0, 1000.0, 1000.0, 1000.0, 1000.0, 1000.0])"
            ]
          },
          "metadata": {},
          "execution_count": 47
        }
      ]
    },
    {
      "cell_type": "markdown",
      "source": [
        "<font face=\"XB Zar\" size=4><div dir=rtl id=\"1\">\n",
        "<font color=\"blue\">\n",
        "تابع if_rev\n",
        "<br>\n",
        "<font color=\"black\">\n",
        "این تابع نام (یا یک ویژگی) از واکنش را دریافت میکند و درخروجی مشخص که واکنش برگشت پذیر هست یا نه"
      ],
      "metadata": {
        "id": "vgiSjfD--rdJ"
      }
    },
    {
      "cell_type": "code",
      "source": [
        "function if_rev(model, reaction)\n",
        "  idx = findfirst(isequal(reaction), model.Reactions)\n",
        "  return model.lb[idx] < 0\n",
        "end"
      ],
      "metadata": {
        "colab": {
          "base_uri": "https://localhost:8080/"
        },
        "id": "B7-jpdqLMkEE",
        "outputId": "4812c7f3-1e2a-4474-f35a-6cac6f14113a"
      },
      "execution_count": 52,
      "outputs": [
        {
          "output_type": "execute_result",
          "data": {
            "text/plain": [
              "if_rev (generic function with 1 method)"
            ]
          },
          "metadata": {},
          "execution_count": 52
        }
      ]
    },
    {
      "cell_type": "markdown",
      "source": [
        "<font face=\"XB Zar\" size=4><div dir=rtl id=\"1\">\n",
        "<font color=\"blue\">\n",
        "تابع homogenize\n",
        "<br>\n",
        "<font color=\"black\">\n",
        "این تابع مدل را دریافت کرده و آن را همگن میکند یعنی ub را برای تمام واکنش ها +M و lb را برای واکنش های برگشت پذیر -M و برای واکنش های برگشت ناپذیر 0 قرار میدهد."
      ],
      "metadata": {
        "id": "8f1Bf_5M-uYv"
      }
    },
    {
      "cell_type": "code",
      "source": [
        "function homogenize(model,M)\n",
        "  for (i, reaction) in enumerate(model.Reactions)\n",
        "    if if_rev(model, reaction)\n",
        "      model.lb[i] = -M\n",
        "    else\n",
        "      model.lb[i] = 0\n",
        "    end\n",
        "    model.ub[i] = M\n",
        "  end\n",
        "  return model\n",
        "end\n"
      ],
      "metadata": {
        "colab": {
          "base_uri": "https://localhost:8080/"
        },
        "id": "g4gFDWgb1iwt",
        "outputId": "fb3df001-d301-4325-985e-f2535df8c507"
      },
      "execution_count": 62,
      "outputs": [
        {
          "output_type": "execute_result",
          "data": {
            "text/plain": [
              "homogenize (generic function with 1 method)"
            ]
          },
          "metadata": {},
          "execution_count": 62
        }
      ]
    },
    {
      "cell_type": "markdown",
      "source": [
        "<font face=\"XB Zar\" size=4><div dir=rtl id=\"1\">\n",
        "<font color=\"blue\">\n",
        "تابع irreversable_solve\n",
        "<br>\n",
        "<font color=\"black\">\n",
        "این تابع برای هر واکنش برگشت ناپذیر با حل یک CSP، مشخص میکند آن واکنش بلاک شده هست یا نه و در خروجی واکنش های برگشت ناپذیر بلاک شده را برمیگرداند"
      ],
      "metadata": {
        "id": "HNK7oYZB-zgU"
      }
    },
    {
      "cell_type": "code",
      "source": [
        "function irreversable_solve(myModel)\n",
        "    for (i, reaction) in enumerate(myModel.Reactions)\n",
        "        if !if_rev(myModel, reaction)\n",
        "            c = [i != j ? 0.0 : -1.0 for j in 1:myModel.n]\n",
        "            S = myModel.S\n",
        "            lb =myModel.lb\n",
        "            ub = myModel.ub\n",
        "\n",
        "            model = Model(GLPK.Optimizer)\n",
        "\n",
        "            @variable(model, lb[i] <= x[i = 1:myModel.n] <= ub[i])\n",
        "            @objective(model, Min, dot(c, x))\n",
        "            @constraint(model, S * x .== 0)\n",
        "\n",
        "            JuMP.optimize!(model)\n",
        "\n",
        "            if objective_value(model) == 0.0\n",
        "                println(reaction)\n",
        "            end\n",
        "        end\n",
        "    end\n",
        "end"
      ],
      "metadata": {
        "colab": {
          "base_uri": "https://localhost:8080/"
        },
        "id": "I16ZDE4R1kpG",
        "outputId": "f9c0c27f-142a-40f2-8e99-4192e115f8c7"
      },
      "execution_count": 73,
      "outputs": [
        {
          "output_type": "execute_result",
          "data": {
            "text/plain": [
              "irreversable_solve (generic function with 1 method)"
            ]
          },
          "metadata": {},
          "execution_count": 73
        }
      ]
    },
    {
      "cell_type": "markdown",
      "source": [
        "<font face=\"XB Zar\" size=4><div dir=rtl id=\"1\">\n",
        "<font color=\"blue\">\n",
        "تابع reversable_solve\n",
        "<br>\n",
        "<font color=\"black\">\n",
        "این تابع برای هر واکنش برگشت پذیر با حل دو CSP، مشخص میکند آن واکنش بلاک شده هست یا نه و در خروجی واکنش های برگشت پذیر بلاک شده را برمیگرداند"
      ],
      "metadata": {
        "id": "gf5vJU3D-2nL"
      }
    },
    {
      "cell_type": "code",
      "source": [
        "function reversable_solve(myModel)\n",
        "\n",
        "    for (i, reaction) in enumerate(myModel.Reactions)\n",
        "        if if_rev(myModel, reaction)\n",
        "            c = [i != j ? 0.0 : -1.0 for j in 1:myModel.n]\n",
        "            rev_c = [i != j ? 0.0 : 1.0 for j in 1:myModel.n]\n",
        "            S = myModel.S\n",
        "            lb = myModel.lb\n",
        "            ub = myModel.ub\n",
        "\n",
        "            model = Model(GLPK.Optimizer)\n",
        "\n",
        "            @variable(model, lb[i] <= x[i = 1:myModel.n] <= ub[i])\n",
        "            @objective(model, Min, dot(c, x))\n",
        "            @constraint(model, S * x .== 0)\n",
        "\n",
        "            optimize!(model)\n",
        "\n",
        "            rev_model = Model(GLPK.Optimizer)\n",
        "\n",
        "            @variable(rev_model, lb[i] <= x[i = 1:myModel.n] <= ub[i])\n",
        "            @objective(rev_model, Min, dot(rev_c, x))\n",
        "            @constraint(rev_model, S * x .== 0)\n",
        "\n",
        "            JuMP.optimize!(rev_model)\n",
        "\n",
        "            if objective_value(model) == 0.0 && objective_value(rev_model) == 0.0\n",
        "                println(reaction)\n",
        "            end\n",
        "        end\n",
        "    end\n",
        "end"
      ],
      "metadata": {
        "colab": {
          "base_uri": "https://localhost:8080/"
        },
        "id": "82Y9V6sp1pLI",
        "outputId": "391245b5-0071-4439-d2ec-3674eeb7e0ba"
      },
      "execution_count": 76,
      "outputs": [
        {
          "output_type": "execute_result",
          "data": {
            "text/plain": [
              "reversable_solve (generic function with 1 method)"
            ]
          },
          "metadata": {},
          "execution_count": 76
        }
      ]
    },
    {
      "cell_type": "code",
      "source": [
        "file_name=\"e_coli_core.xml\"\n",
        "print(\">\",file_name,\"\\n\")\n",
        "myModel=loadmyModel(file_name)\n",
        "M=1000000"
      ],
      "metadata": {
        "colab": {
          "base_uri": "https://localhost:8080/"
        },
        "collapsed": true,
        "id": "VdX68OUY1sax",
        "outputId": "ac8b9186-73da-49b6-8c33-439c17ae874f"
      },
      "execution_count": 77,
      "outputs": [
        {
          "output_type": "stream",
          "name": "stdout",
          "text": [
            ">e_coli_core.xml\n"
          ]
        },
        {
          "output_type": "execute_result",
          "data": {
            "text/plain": [
              "1000000"
            ]
          },
          "metadata": {},
          "execution_count": 77
        }
      ]
    },
    {
      "cell_type": "code",
      "source": [
        "#if_rev(myModel, \"a reaction name\")"
      ],
      "metadata": {
        "id": "JWnj3kpT9XtW"
      },
      "execution_count": 78,
      "outputs": []
    },
    {
      "cell_type": "code",
      "source": [
        "myModel=homogenize(myModel,M)\n",
        "print(\"#irreversable blocked reactios:\\n\")\n",
        "irreversable_solve(myModel)\n",
        "print(\"#reversable blocked reactios:\\n\")\n",
        "reversable_solve(myModel)"
      ],
      "metadata": {
        "id": "6kNe6INg2Rcn",
        "colab": {
          "base_uri": "https://localhost:8080/"
        },
        "outputId": "1141ddce-b93e-4eb5-dd37-bc22b62da600"
      },
      "execution_count": 79,
      "outputs": [
        {
          "output_type": "stream",
          "name": "stdout",
          "text": [
            "#irreversable blocked reactios:\n",
            "R_EX_fru_e\n",
            "R_EX_fum_e\n",
            "R_EX_gln__L_e\n",
            "R_EX_mal__L_e\n",
            "R_FRUpts2\n",
            "R_FUMt2_2\n",
            "R_GLNabc\n",
            "R_MALt2_2\n",
            "#reversable blocked reactios:\n"
          ]
        },
        {
          "output_type": "execute_result",
          "data": {
            "text/plain": [
              "String[]"
            ]
          },
          "metadata": {},
          "execution_count": 79
        }
      ]
    },
    {
      "cell_type": "code",
      "source": [
        "enumerate(myModel.Reactions)"
      ],
      "metadata": {
        "colab": {
          "base_uri": "https://localhost:8080/"
        },
        "id": "XGW1jO8PNIvJ",
        "outputId": "bac01877-fde2-4850-fe04-fd9f94460ce5"
      },
      "execution_count": 61,
      "outputs": [
        {
          "output_type": "execute_result",
          "data": {
            "text/plain": [
              "enumerate([\"R_ACALD\", \"R_ACALDt\", \"R_ACKr\", \"R_ACONTa\", \"R_ACONTb\", \"R_ACt2r\", \"R_ADK1\", \"R_AKGDH\", \"R_AKGt2r\", \"R_ALCD2x\"  …  \"R_RPI\", \"R_SUCCt2_2\", \"R_SUCCt3\", \"R_SUCDi\", \"R_SUCOAS\", \"R_TALA\", \"R_THD2\", \"R_TKT1\", \"R_TKT2\", \"R_TPI\"])"
            ]
          },
          "metadata": {},
          "execution_count": 61
        }
      ]
    },
    {
      "cell_type": "markdown",
      "metadata": {
        "id": "2UMidUQB03vJ"
      },
      "source": [
        "<img src=\"https://raw.githubusercontent.com/JuliaLang/julia-logo-graphics/master/images/julia-logo-mask.png\" height=\"100\" />"
      ]
    },
    {
      "cell_type": "markdown",
      "metadata": {
        "id": "8RC1QNNqk6h1"
      },
      "source": [
        "# Need Help?\n",
        "\n",
        "* Learning: https://julialang.org/learning/\n",
        "* Documentation: https://docs.julialang.org/\n",
        "* Questions & Discussions:\n",
        "  * https://discourse.julialang.org/\n",
        "  * http://julialang.slack.com/\n",
        "  * https://stackoverflow.com/questions/tagged/julia\n",
        "\n",
        "If you ever ask for help or file an issue about Julia, you should generally provide the output of `versioninfo()`."
      ]
    }
  ]
}