{
 "cells": [
  {
   "attachments": {},
   "cell_type": "markdown",
   "metadata": {},
   "source": [
    "# <center>پیدا کردن ربات</center>\n",
    "\n",
    "<div dir=\"rtl\" style=\"font-size:18px\">\n",
    "احتمالا کارتون WALL-E را بخاطر دارید. رباتی که توانست زمین را نجات دهد و باقیمانده نسل انسان‌ها را به زمین برگرداند. پس از بازگشت انسان‌ها به زمین و پس از محبوبیت زیاد WALL-E، او دوستان زیادی پیدا کرد. بهترین دوست او WALL-F یکی از بازیگوش‌ترین ربات‌هایی است که تاحالا دیده‌اید.\n",
    "<br>\n",
    "یکی از دفعاتی که WALL-F به بیرون رفته بود، راهی به درون یک هزار‌تو میابد. تصویر زیر از او در این هزارتو گرفته شده است.\n",
    "</div>\n",
    "<br>\n",
    "<br>\n",
    "<center>\n",
    "\n",
    "![WALL-F Ai-Generated](Assets/robot.jpg)\n",
    "\n",
    "</center>"
   ]
  },
  {
   "attachments": {},
   "cell_type": "markdown",
   "metadata": {},
   "source": [
    "<div dir=\"rtl\">\n",
    "در ادامه میخواهیم با روش‌های مختلفی پیدا کنیم که در حال حاضر ربات در چه خانه‌ای قرار دارد. در هرکدام از تست‌کیس‌هایی که لازم است بررسی کنید. خانه 0 و 0 خانه بالا و چپ هزارتو خواهد بود. در ادامه برای هر خانه مشخص خواهد شد که دیواری به هرکدام از جهات دارد یا خیر. \n",
    "به طور مثال عبارت\n",
    "''R L''\n",
    "به این معنی است که این خانه فقط به چپ و راست خود راه دارد. همچنین شماره‌گذاری خانه‌ها به صورت زیر است.\n",
    "در هر مرحله او به شما میگوید که در کدام خانه از جدول است. عددی که ربات به شما میگوید یک عدد تصادفی است که در یک ماتریس به شما داده میشود. عدد سطر \n",
    "$i$ \n",
    "و ستون \n",
    "$j$ \n",
    "احتمال این را نشان می‌دهد که ربات در خانه \n",
    "$i$ \n",
    "باشد اما خانه \n",
    "$j$ \n",
    "را شما گزارش دهد. این ربات در پایان هر مرحله با احتمال برابر به یکی از خانه‌های مجاور میرود. همینطور خانه شروع این ربات هم توزیعی یکنواخت دارد.\n",
    "</div>\n",
    "<br>\n",
    "<br>\n",
    "<center>\n",
    "\n",
    "![grid](Assets/grid.jpg)\n",
    "\n",
    "</center>"
   ]
  },
  {
   "attachments": {},
   "cell_type": "markdown",
   "metadata": {},
   "source": [
    "<div dir=\"rtl\">\n",
    "در ابتدا برای پیاده‌سازی ۲ الگوریتمی که در ادامه خواهید دید به آبجکتی از نوع Grid نیاز خواهید داشت. عملکرد این آبجکت را میتوانید از مسیر Assets/helpers.py ببینید. به طور مثال هزارتو زیر را در نظر بگیرید.\n",
    "</div>\n",
    "\n",
    "<center>\n",
    "\n",
    "![maze](Assets/grid2.jpg)\n",
    "\n",
    "</center>"
   ]
  },
  {
   "attachments": {},
   "cell_type": "markdown",
   "metadata": {},
   "source": [
    "<div dir=\"rtl\">\n",
    "grid متناظر با این هزارتو را میتوانید از طریق تابع get_sample_grid بگیرید و با توابع آن آشنا شوید. در صورت لزوم میتوانید هر تابع دلخواهی به این کلاس اضافه کنید. برای اطلاع از تعداد سطرهای grid میتوانید از grid.n و برای اطلاع از تعداد ستون‌ها میتوانید از grid.m استفاده کنید.\n",
    "</div>"
   ]
  },
  {
   "cell_type": "code",
   "execution_count": 4,
   "metadata": {
    "ExecuteTime": {
     "end_time": "2023-12-24T19:07:19.935945Z",
     "start_time": "2023-12-24T19:07:19.931130Z"
    }
   },
   "outputs": [],
   "source": [
    "from Assets.helpers import get_sample_grid, Grid"
   ]
  },
  {
   "cell_type": "code",
   "execution_count": 5,
   "metadata": {
    "ExecuteTime": {
     "end_time": "2023-12-24T19:07:20.155423Z",
     "start_time": "2023-12-24T19:07:20.142318Z"
    }
   },
   "outputs": [],
   "source": [
    "grid = get_sample_grid()"
   ]
  },
  {
   "cell_type": "code",
   "execution_count": 6,
   "outputs": [],
   "source": [
    "import numpy as np"
   ],
   "metadata": {
    "collapsed": false,
    "ExecuteTime": {
     "end_time": "2023-12-24T19:07:20.348522Z",
     "start_time": "2023-12-24T19:07:20.339903Z"
    }
   }
  },
  {
   "attachments": {},
   "cell_type": "markdown",
   "metadata": {},
   "source": [
    "# Particle Filtering"
   ]
  },
  {
   "attachments": {},
   "cell_type": "markdown",
   "metadata": {},
   "source": [
    "<div dir=\"rtl\">\n",
    "در این قسمت باید آخرین خانه‌ای که این ربات در آن قرار دارد را با استفاده از الگوریتم Particle Filtering پیدا کنید. برای اینکار در ابتدا تعداد Particle هایی با تعدادی از اردر تعداد خانه‌های هزارتو بسازید. در پایان هر مرحله جمعیت را با توجه به وزن آنها نصف کنید و ذراتی جدید متناسب با تعداد ذرات درون هرخانه بسازید. در پایان خانه‌ای که بیشترین ذرات در آن قرار دارد را برگردانید.\n",
    "</div>"
   ]
  },
  {
   "cell_type": "code",
   "execution_count": 32,
   "metadata": {
    "ExecuteTime": {
     "end_time": "2023-12-24T19:17:39.547571Z",
     "start_time": "2023-12-24T19:17:39.545790Z"
    }
   },
   "outputs": [],
   "source": [
    "INITIAL_PARTICLE = 20\n",
    "def PF(grid: Grid, prob, obs):\n",
    "    particles = np.full((grid.n * grid.m, ), INITIAL_PARTICLE, dtype=np.int64)\n",
    "    particles_cnt = grid.n * grid.m * INITIAL_PARTICLE\n",
    "    first_round = True\n",
    "    for ob in obs:\n",
    "        # Elapse Time\n",
    "        if first_round:\n",
    "            first_round = False\n",
    "        else:\n",
    "            tmp_particles = np.zeros((grid.n * grid.m, ), dtype=np.int64)\n",
    "            for i, cell in enumerate(particles):\n",
    "                for j in range(cell):\n",
    "                    tmp_particles[grid.get_random_neighbour(i)]+=1\n",
    "            particles = tmp_particles\n",
    "        # Weight\n",
    "        weight = particles.copy().astype(np.float64)/particles_cnt\n",
    "        weight = weight * prob[:, ob]\n",
    "        weight = weight / np.sum(weight)\n",
    "        # Resample\n",
    "        tmp_particles = np.zeros((grid.n * grid.m, ), dtype=np.int64)\n",
    "        for i in np.random.choice(range(grid.n * grid.m), size=particles_cnt, p=weight):\n",
    "            tmp_particles[i] += 1\n",
    "        particles = tmp_particles\n",
    "        \n",
    "    return np.argmax(particles)"
   ]
  },
  {
   "cell_type": "code",
   "execution_count": 33,
   "metadata": {
    "ExecuteTime": {
     "end_time": "2023-12-24T19:17:55.701304Z",
     "start_time": "2023-12-24T19:17:39.690430Z"
    }
   },
   "outputs": [
    {
     "name": "stdout",
     "output_type": "stream",
     "text": [
      "PF PASSED!\n"
     ]
    }
   ],
   "source": [
    "from Assets.helpers import PF_checker\n",
    "PF_checker(PF)"
   ]
  },
  {
   "attachments": {},
   "cell_type": "markdown",
   "metadata": {},
   "source": [
    "# HMM"
   ]
  },
  {
   "attachments": {},
   "cell_type": "markdown",
   "metadata": {},
   "source": [
    "<div dir=\"rtl\">\n",
    "در این قسمت غیر از اینکه باید بفهمیم WALL-F در کدام خانه قرار دارد. میخواهیم بدانیم که محتمل‌ترین مسیری که طی کرده‌ است چه مسیری است. برای اینکار الگوریتم viterbi را پیاده‌سازی کنید.\n",
    "</div>"
   ]
  },
  {
   "cell_type": "code",
   "execution_count": 34,
   "metadata": {
    "ExecuteTime": {
     "end_time": "2023-12-24T19:17:55.703656Z",
     "start_time": "2023-12-24T19:17:55.702703Z"
    }
   },
   "outputs": [],
   "source": [
    "def viterbi(grid: Grid, prob, obs):\n",
    "    cells = grid.n * grid.m\n",
    "    dp = np.zeros((len(obs) + 1, cells), dtype=np.float64)\n",
    "    dp[0, : ] = np.full((cells, ), 1.0 / cells, dtype=np.float64)\n",
    "    par = np.zeros((len(obs) + 1, cells), dtype=np.int32)\n",
    "    par[0, : ] = np.full((cells, ), -1, dtype=np.int32)\n",
    "\n",
    "    # trans[i, j] = P(X_j | X_i)\n",
    "    trans = np.zeros((cells, cells), dtype=np.float64)\n",
    "    for i in range(cells):\n",
    "        for j in range(cells):\n",
    "            if grid.has_path(i, j):\n",
    "                trans[i, j] = 1.0 / len(grid.get_neighbors(i))\n",
    "                \n",
    "    for i, ob in zip(range(1, len(obs)+1), obs):\n",
    "        for j in range(grid.n * grid.m):\n",
    "            tmp = trans[:, j] * dp[i-1, :]\n",
    "            par[i, j] = np.argmax(tmp)\n",
    "            dp[i, j] = prob[j, ob] * tmp[par[i, j]]\n",
    "            \n",
    "    i = np.argmax(dp[-1, :])\n",
    "    res = [0 for _ in range(len(obs))]\n",
    "    idx = len(obs) - 1\n",
    "    while idx >= 0:\n",
    "        res[idx] = i\n",
    "        i = par[idx+1, i]\n",
    "        idx -= 1\n",
    "    return res"
   ]
  },
  {
   "cell_type": "code",
   "execution_count": 35,
   "metadata": {
    "ExecuteTime": {
     "end_time": "2023-12-24T19:17:58.016902Z",
     "start_time": "2023-12-24T19:17:55.703965Z"
    }
   },
   "outputs": [
    {
     "name": "stdout",
     "output_type": "stream",
     "text": [
      "VITERBI PASSED!\n"
     ]
    }
   ],
   "source": [
    "from Assets.helpers import viterbi_checker\n",
    "viterbi_checker(viterbi)"
   ]
  }
 ],
 "metadata": {
  "kernelspec": {
   "display_name": "Python 3",
   "language": "python",
   "name": "python3"
  },
  "language_info": {
   "codemirror_mode": {
    "name": "ipython",
    "version": 3
   },
   "file_extension": ".py",
   "mimetype": "text/x-python",
   "name": "python",
   "nbconvert_exporter": "python",
   "pygments_lexer": "ipython3",
   "version": "3.11.3"
  },
  "orig_nbformat": 4
 },
 "nbformat": 4,
 "nbformat_minor": 2
}
